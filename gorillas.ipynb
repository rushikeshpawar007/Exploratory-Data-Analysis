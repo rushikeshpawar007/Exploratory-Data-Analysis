{
 "cells": [
  {
   "cell_type": "code",
   "execution_count": 1,
   "id": "b6a7a987",
   "metadata": {},
   "outputs": [],
   "source": [
    "import pandas as pd\n",
    "import numpy as np"
   ]
  },
  {
   "cell_type": "code",
   "execution_count": 2,
   "id": "64a3e9ed",
   "metadata": {},
   "outputs": [],
   "source": [
    "df = pd.read_csv('gorillass.csv')"
   ]
  },
  {
   "cell_type": "code",
   "execution_count": 3,
   "id": "3d759345",
   "metadata": {},
   "outputs": [
    {
     "data": {
      "text/html": [
       "<div>\n",
       "<style scoped>\n",
       "    .dataframe tbody tr th:only-of-type {\n",
       "        vertical-align: middle;\n",
       "    }\n",
       "\n",
       "    .dataframe tbody tr th {\n",
       "        vertical-align: top;\n",
       "    }\n",
       "\n",
       "    .dataframe thead th {\n",
       "        text-align: right;\n",
       "    }\n",
       "</style>\n",
       "<table border=\"1\" class=\"dataframe\">\n",
       "  <thead>\n",
       "    <tr style=\"text-align: right;\">\n",
       "      <th></th>\n",
       "      <th>Media Source</th>\n",
       "      <th>Campaign Name</th>\n",
       "      <th>Cost</th>\n",
       "      <th>Installs</th>\n",
       "      <th>D01 Total Revenue</th>\n",
       "      <th>D03 Total Revenue</th>\n",
       "      <th>D07 Total Revenue</th>\n",
       "      <th>D30 Total Revenue</th>\n",
       "      <th>CPI</th>\n",
       "      <th>D01 ROAS</th>\n",
       "      <th>D03 ROAS</th>\n",
       "      <th>D07 ROAS</th>\n",
       "      <th>D30 ROAS</th>\n",
       "    </tr>\n",
       "  </thead>\n",
       "  <tbody>\n",
       "    <tr>\n",
       "      <th>0</th>\n",
       "      <td>Facebook</td>\n",
       "      <td>IMT-FB-iOS-EN-US-AE-Playables</td>\n",
       "      <td>$99,061</td>\n",
       "      <td>21,382</td>\n",
       "      <td>$10,404</td>\n",
       "      <td>$25,694</td>\n",
       "      <td>$39,231</td>\n",
       "      <td>$74,185</td>\n",
       "      <td>NaN</td>\n",
       "      <td>NaN</td>\n",
       "      <td>NaN</td>\n",
       "      <td>NaN</td>\n",
       "      <td>NaN</td>\n",
       "    </tr>\n",
       "    <tr>\n",
       "      <th>1</th>\n",
       "      <td>Vungle</td>\n",
       "      <td>IMT-Vungle-Android-US</td>\n",
       "      <td>$38,479</td>\n",
       "      <td>50858</td>\n",
       "      <td>$3,632</td>\n",
       "      <td>$9,679</td>\n",
       "      <td>$15,095</td>\n",
       "      <td>$26,216</td>\n",
       "      <td>NaN</td>\n",
       "      <td>NaN</td>\n",
       "      <td>NaN</td>\n",
       "      <td>NaN</td>\n",
       "      <td>NaN</td>\n",
       "    </tr>\n",
       "    <tr>\n",
       "      <th>2</th>\n",
       "      <td>Vungle</td>\n",
       "      <td>IMT-Vungle-iOS-CN</td>\n",
       "      <td>$38,209</td>\n",
       "      <td>41000</td>\n",
       "      <td>$8,537</td>\n",
       "      <td>$20,598</td>\n",
       "      <td>$31,850</td>\n",
       "      <td>$55,175</td>\n",
       "      <td>NaN</td>\n",
       "      <td>NaN</td>\n",
       "      <td>NaN</td>\n",
       "      <td>NaN</td>\n",
       "      <td>NaN</td>\n",
       "    </tr>\n",
       "    <tr>\n",
       "      <th>3</th>\n",
       "      <td>Facebook</td>\n",
       "      <td>IMT-FB-Android-RoW2-AE-Playables-FANRW</td>\n",
       "      <td>$34,746</td>\n",
       "      <td>55,891</td>\n",
       "      <td>$4,360</td>\n",
       "      <td>$10,565</td>\n",
       "      <td>$16,080</td>\n",
       "      <td>$29,437</td>\n",
       "      <td>NaN</td>\n",
       "      <td>NaN</td>\n",
       "      <td>NaN</td>\n",
       "      <td>NaN</td>\n",
       "      <td>NaN</td>\n",
       "    </tr>\n",
       "    <tr>\n",
       "      <th>4</th>\n",
       "      <td>Facebook</td>\n",
       "      <td>IMT-FB-Android-RoW2-AE-Value-Playables-FANIS</td>\n",
       "      <td>$31,662</td>\n",
       "      <td>19,196</td>\n",
       "      <td>$3,952</td>\n",
       "      <td>$9,824</td>\n",
       "      <td>$14,728</td>\n",
       "      <td>$26,026</td>\n",
       "      <td>NaN</td>\n",
       "      <td>NaN</td>\n",
       "      <td>NaN</td>\n",
       "      <td>NaN</td>\n",
       "      <td>NaN</td>\n",
       "    </tr>\n",
       "  </tbody>\n",
       "</table>\n",
       "</div>"
      ],
      "text/plain": [
       "  Media Source                                 Campaign Name      Cost  \\\n",
       "0     Facebook                 IMT-FB-iOS-EN-US-AE-Playables  $99,061    \n",
       "1       Vungle                         IMT-Vungle-Android-US  $38,479    \n",
       "2       Vungle                             IMT-Vungle-iOS-CN  $38,209    \n",
       "3     Facebook        IMT-FB-Android-RoW2-AE-Playables-FANRW  $34,746    \n",
       "4     Facebook  IMT-FB-Android-RoW2-AE-Value-Playables-FANIS  $31,662    \n",
       "\n",
       "  Installs D01 Total Revenue D03 Total Revenue D07 Total Revenue  \\\n",
       "0   21,382          $10,404           $25,694           $39,231    \n",
       "1    50858           $3,632            $9,679           $15,095    \n",
       "2    41000           $8,537           $20,598           $31,850    \n",
       "3   55,891           $4,360           $10,565           $16,080    \n",
       "4   19,196           $3,952            $9,824           $14,728    \n",
       "\n",
       "  D30 Total Revenue  CPI  D01 ROAS  D03 ROAS  D07 ROAS  D30 ROAS  \n",
       "0          $74,185   NaN       NaN       NaN       NaN       NaN  \n",
       "1          $26,216   NaN       NaN       NaN       NaN       NaN  \n",
       "2          $55,175   NaN       NaN       NaN       NaN       NaN  \n",
       "3          $29,437   NaN       NaN       NaN       NaN       NaN  \n",
       "4          $26,026   NaN       NaN       NaN       NaN       NaN  "
      ]
     },
     "execution_count": 3,
     "metadata": {},
     "output_type": "execute_result"
    }
   ],
   "source": [
    "df.head()"
   ]
  },
  {
   "cell_type": "code",
   "execution_count": 4,
   "id": "d319e6a7",
   "metadata": {},
   "outputs": [
    {
     "name": "stdout",
     "output_type": "stream",
     "text": [
      "<class 'pandas.core.frame.DataFrame'>\n",
      "RangeIndex: 89 entries, 0 to 88\n",
      "Data columns (total 13 columns):\n",
      " #   Column             Non-Null Count  Dtype  \n",
      "---  ------             --------------  -----  \n",
      " 0   Media Source       89 non-null     object \n",
      " 1   Campaign Name      89 non-null     object \n",
      " 2   Cost               89 non-null     object \n",
      " 3   Installs           89 non-null     object \n",
      " 4   D01 Total Revenue  89 non-null     object \n",
      " 5   D03 Total Revenue  89 non-null     object \n",
      " 6   D07 Total Revenue  89 non-null     object \n",
      " 7   D30 Total Revenue  89 non-null     object \n",
      " 8   CPI                0 non-null      float64\n",
      " 9   D01 ROAS           0 non-null      float64\n",
      " 10  D03 ROAS           0 non-null      float64\n",
      " 11  D07 ROAS           0 non-null      float64\n",
      " 12  D30 ROAS           0 non-null      float64\n",
      "dtypes: float64(5), object(8)\n",
      "memory usage: 9.2+ KB\n"
     ]
    }
   ],
   "source": [
    "df.info()"
   ]
  },
  {
   "cell_type": "code",
   "execution_count": 18,
   "id": "f01ebcda",
   "metadata": {},
   "outputs": [],
   "source": [
    "df['Cost'] = df['Cost'].str.replace('$', '',regex=False)\n",
    "df['Cost'] = df['Cost'].str.replace(',', '',regex=False)"
   ]
  },
  {
   "cell_type": "code",
   "execution_count": 20,
   "id": "5eb0e2ca",
   "metadata": {},
   "outputs": [],
   "source": [
    "df['Cost'] = df['Cost'].astype('int')"
   ]
  },
  {
   "cell_type": "code",
   "execution_count": 22,
   "id": "d9bb5cad",
   "metadata": {},
   "outputs": [],
   "source": [
    "df['Installs'] = df['Installs'].str.replace(',', '',regex=False)"
   ]
  },
  {
   "cell_type": "code",
   "execution_count": 23,
   "id": "aa14bfc5",
   "metadata": {},
   "outputs": [],
   "source": [
    "df['Installs'] = df['Installs'].astype('int')"
   ]
  },
  {
   "cell_type": "code",
   "execution_count": 24,
   "id": "f8f03f5e",
   "metadata": {},
   "outputs": [
    {
     "name": "stdout",
     "output_type": "stream",
     "text": [
      "<class 'pandas.core.frame.DataFrame'>\n",
      "RangeIndex: 89 entries, 0 to 88\n",
      "Data columns (total 13 columns):\n",
      " #   Column             Non-Null Count  Dtype  \n",
      "---  ------             --------------  -----  \n",
      " 0   Media Source       89 non-null     object \n",
      " 1   Campaign Name      89 non-null     object \n",
      " 2   Cost               89 non-null     int32  \n",
      " 3   Installs           89 non-null     int32  \n",
      " 4   D01 Total Revenue  89 non-null     object \n",
      " 5   D03 Total Revenue  89 non-null     object \n",
      " 6   D07 Total Revenue  89 non-null     object \n",
      " 7   D30 Total Revenue  89 non-null     object \n",
      " 8   CPI                0 non-null      float64\n",
      " 9   D01 ROAS           0 non-null      float64\n",
      " 10  D03 ROAS           0 non-null      float64\n",
      " 11  D07 ROAS           0 non-null      float64\n",
      " 12  D30 ROAS           0 non-null      float64\n",
      "dtypes: float64(5), int32(2), object(6)\n",
      "memory usage: 8.5+ KB\n"
     ]
    }
   ],
   "source": [
    "df.info()"
   ]
  },
  {
   "cell_type": "code",
   "execution_count": 26,
   "id": "c2af9936",
   "metadata": {},
   "outputs": [],
   "source": [
    "df['CPI'] = df['Cost']/df['Installs']"
   ]
  },
  {
   "cell_type": "code",
   "execution_count": 30,
   "id": "2ac00ff0",
   "metadata": {},
   "outputs": [],
   "source": [
    "df['D30 Total Revenue'] = df['D30 Total Revenue'].str.replace('$', '',regex=False)\n",
    "df['D30 Total Revenue'] = df['D30 Total Revenue'].str.replace(',', '',regex=False)\n",
    "df['D30 Total Revenue'] = df['D30 Total Revenue'].astype('int')"
   ]
  },
  {
   "cell_type": "code",
   "execution_count": 31,
   "id": "a1fd4d21",
   "metadata": {},
   "outputs": [
    {
     "name": "stdout",
     "output_type": "stream",
     "text": [
      "<class 'pandas.core.frame.DataFrame'>\n",
      "RangeIndex: 89 entries, 0 to 88\n",
      "Data columns (total 13 columns):\n",
      " #   Column             Non-Null Count  Dtype  \n",
      "---  ------             --------------  -----  \n",
      " 0   Media Source       89 non-null     object \n",
      " 1   Campaign Name      89 non-null     object \n",
      " 2   Cost               89 non-null     int32  \n",
      " 3   Installs           89 non-null     int32  \n",
      " 4   D01 Total Revenue  89 non-null     int32  \n",
      " 5   D03 Total Revenue  89 non-null     int32  \n",
      " 6   D07 Total Revenue  89 non-null     int32  \n",
      " 7   D30 Total Revenue  89 non-null     int32  \n",
      " 8   CPI                89 non-null     float64\n",
      " 9   D01 ROAS           0 non-null      float64\n",
      " 10  D03 ROAS           0 non-null      float64\n",
      " 11  D07 ROAS           0 non-null      float64\n",
      " 12  D30 ROAS           0 non-null      float64\n",
      "dtypes: float64(5), int32(6), object(2)\n",
      "memory usage: 7.1+ KB\n"
     ]
    }
   ],
   "source": [
    "df.info()"
   ]
  },
  {
   "cell_type": "code",
   "execution_count": 34,
   "id": "6bd533ec",
   "metadata": {},
   "outputs": [],
   "source": [
    "df['D01 ROAS'] = df['D01 Total Revenue']/df['Cost']*100"
   ]
  },
  {
   "cell_type": "code",
   "execution_count": 35,
   "id": "f59dd148",
   "metadata": {},
   "outputs": [],
   "source": [
    "df['D03 ROAS'] = df['D03 Total Revenue']/df['Cost']*100"
   ]
  },
  {
   "cell_type": "code",
   "execution_count": 36,
   "id": "bb090fa3",
   "metadata": {},
   "outputs": [],
   "source": [
    "df['D07 ROAS'] = df['D07 Total Revenue']/df['Cost']*100"
   ]
  },
  {
   "cell_type": "code",
   "execution_count": 37,
   "id": "0faba571",
   "metadata": {},
   "outputs": [],
   "source": [
    "df['D30 ROAS'] = df['D30 Total Revenue']/df['Cost']*100"
   ]
  },
  {
   "cell_type": "code",
   "execution_count": 38,
   "id": "670869c4",
   "metadata": {},
   "outputs": [
    {
     "data": {
      "text/html": [
       "<div>\n",
       "<style scoped>\n",
       "    .dataframe tbody tr th:only-of-type {\n",
       "        vertical-align: middle;\n",
       "    }\n",
       "\n",
       "    .dataframe tbody tr th {\n",
       "        vertical-align: top;\n",
       "    }\n",
       "\n",
       "    .dataframe thead th {\n",
       "        text-align: right;\n",
       "    }\n",
       "</style>\n",
       "<table border=\"1\" class=\"dataframe\">\n",
       "  <thead>\n",
       "    <tr style=\"text-align: right;\">\n",
       "      <th></th>\n",
       "      <th>Media Source</th>\n",
       "      <th>Campaign Name</th>\n",
       "      <th>Cost</th>\n",
       "      <th>Installs</th>\n",
       "      <th>D01 Total Revenue</th>\n",
       "      <th>D03 Total Revenue</th>\n",
       "      <th>D07 Total Revenue</th>\n",
       "      <th>D30 Total Revenue</th>\n",
       "      <th>CPI</th>\n",
       "      <th>D01 ROAS</th>\n",
       "      <th>D03 ROAS</th>\n",
       "      <th>D07 ROAS</th>\n",
       "      <th>D30 ROAS</th>\n",
       "    </tr>\n",
       "  </thead>\n",
       "  <tbody>\n",
       "    <tr>\n",
       "      <th>0</th>\n",
       "      <td>Facebook</td>\n",
       "      <td>IMT-FB-iOS-EN-US-AE-Playables</td>\n",
       "      <td>99061</td>\n",
       "      <td>21382</td>\n",
       "      <td>10404</td>\n",
       "      <td>25694</td>\n",
       "      <td>39231</td>\n",
       "      <td>74185</td>\n",
       "      <td>4.632916</td>\n",
       "      <td>10.502620</td>\n",
       "      <td>25.937554</td>\n",
       "      <td>39.602871</td>\n",
       "      <td>74.888200</td>\n",
       "    </tr>\n",
       "    <tr>\n",
       "      <th>1</th>\n",
       "      <td>Vungle</td>\n",
       "      <td>IMT-Vungle-Android-US</td>\n",
       "      <td>38479</td>\n",
       "      <td>50858</td>\n",
       "      <td>3632</td>\n",
       "      <td>9679</td>\n",
       "      <td>15095</td>\n",
       "      <td>26216</td>\n",
       "      <td>0.756597</td>\n",
       "      <td>9.438915</td>\n",
       "      <td>25.153980</td>\n",
       "      <td>39.229190</td>\n",
       "      <td>68.130669</td>\n",
       "    </tr>\n",
       "    <tr>\n",
       "      <th>2</th>\n",
       "      <td>Vungle</td>\n",
       "      <td>IMT-Vungle-iOS-CN</td>\n",
       "      <td>38209</td>\n",
       "      <td>41000</td>\n",
       "      <td>8537</td>\n",
       "      <td>20598</td>\n",
       "      <td>31850</td>\n",
       "      <td>55175</td>\n",
       "      <td>0.931927</td>\n",
       "      <td>22.342904</td>\n",
       "      <td>53.908765</td>\n",
       "      <td>83.357324</td>\n",
       "      <td>144.403151</td>\n",
       "    </tr>\n",
       "    <tr>\n",
       "      <th>3</th>\n",
       "      <td>Facebook</td>\n",
       "      <td>IMT-FB-Android-RoW2-AE-Playables-FANRW</td>\n",
       "      <td>34746</td>\n",
       "      <td>55891</td>\n",
       "      <td>4360</td>\n",
       "      <td>10565</td>\n",
       "      <td>16080</td>\n",
       "      <td>29437</td>\n",
       "      <td>0.621674</td>\n",
       "      <td>12.548207</td>\n",
       "      <td>30.406378</td>\n",
       "      <td>46.278708</td>\n",
       "      <td>84.720543</td>\n",
       "    </tr>\n",
       "    <tr>\n",
       "      <th>4</th>\n",
       "      <td>Facebook</td>\n",
       "      <td>IMT-FB-Android-RoW2-AE-Value-Playables-FANIS</td>\n",
       "      <td>31662</td>\n",
       "      <td>19196</td>\n",
       "      <td>3952</td>\n",
       "      <td>9824</td>\n",
       "      <td>14728</td>\n",
       "      <td>26026</td>\n",
       "      <td>1.649406</td>\n",
       "      <td>12.481839</td>\n",
       "      <td>31.027730</td>\n",
       "      <td>46.516329</td>\n",
       "      <td>82.199482</td>\n",
       "    </tr>\n",
       "  </tbody>\n",
       "</table>\n",
       "</div>"
      ],
      "text/plain": [
       "  Media Source                                 Campaign Name   Cost  Installs  \\\n",
       "0     Facebook                 IMT-FB-iOS-EN-US-AE-Playables  99061     21382   \n",
       "1       Vungle                         IMT-Vungle-Android-US  38479     50858   \n",
       "2       Vungle                             IMT-Vungle-iOS-CN  38209     41000   \n",
       "3     Facebook        IMT-FB-Android-RoW2-AE-Playables-FANRW  34746     55891   \n",
       "4     Facebook  IMT-FB-Android-RoW2-AE-Value-Playables-FANIS  31662     19196   \n",
       "\n",
       "   D01 Total Revenue  D03 Total Revenue  D07 Total Revenue  D30 Total Revenue  \\\n",
       "0              10404              25694              39231              74185   \n",
       "1               3632               9679              15095              26216   \n",
       "2               8537              20598              31850              55175   \n",
       "3               4360              10565              16080              29437   \n",
       "4               3952               9824              14728              26026   \n",
       "\n",
       "        CPI   D01 ROAS   D03 ROAS   D07 ROAS    D30 ROAS  \n",
       "0  4.632916  10.502620  25.937554  39.602871   74.888200  \n",
       "1  0.756597   9.438915  25.153980  39.229190   68.130669  \n",
       "2  0.931927  22.342904  53.908765  83.357324  144.403151  \n",
       "3  0.621674  12.548207  30.406378  46.278708   84.720543  \n",
       "4  1.649406  12.481839  31.027730  46.516329   82.199482  "
      ]
     },
     "execution_count": 38,
     "metadata": {},
     "output_type": "execute_result"
    }
   ],
   "source": [
    "df.head()"
   ]
  },
  {
   "cell_type": "code",
   "execution_count": 44,
   "id": "c685f19a",
   "metadata": {},
   "outputs": [
    {
     "data": {
      "text/plain": [
       "12"
      ]
     },
     "execution_count": 44,
     "metadata": {},
     "output_type": "execute_result"
    }
   ],
   "source": [
    "len(df[df['Media Source'] == 'Vungle'])"
   ]
  },
  {
   "cell_type": "code",
   "execution_count": 45,
   "id": "d893ffad",
   "metadata": {},
   "outputs": [
    {
     "data": {
      "text/plain": [
       "77"
      ]
     },
     "execution_count": 45,
     "metadata": {},
     "output_type": "execute_result"
    }
   ],
   "source": [
    "len(df[df['Media Source'] == 'Facebook'])"
   ]
  },
  {
   "cell_type": "code",
   "execution_count": 46,
   "id": "ba18b6a1",
   "metadata": {},
   "outputs": [
    {
     "data": {
      "text/plain": [
       "439469"
      ]
     },
     "execution_count": 46,
     "metadata": {},
     "output_type": "execute_result"
    }
   ],
   "source": [
    "sum(df['Installs'])"
   ]
  },
  {
   "cell_type": "code",
   "execution_count": 53,
   "id": "420fc52f",
   "metadata": {},
   "outputs": [],
   "source": [
    "df_Vungle = df[df['Media Source'] == 'Vungle']"
   ]
  },
  {
   "cell_type": "code",
   "execution_count": 49,
   "id": "d08804b0",
   "metadata": {},
   "outputs": [
    {
     "data": {
      "text/plain": [
       "242112"
      ]
     },
     "execution_count": 49,
     "metadata": {},
     "output_type": "execute_result"
    }
   ],
   "source": [
    "sum(df1['Installs'])"
   ]
  },
  {
   "cell_type": "code",
   "execution_count": 54,
   "id": "c0eb9e5e",
   "metadata": {},
   "outputs": [],
   "source": [
    "df_Facebook = df[df['Media Source'] == 'Facebook']"
   ]
  },
  {
   "cell_type": "code",
   "execution_count": 51,
   "id": "11e51614",
   "metadata": {},
   "outputs": [
    {
     "data": {
      "text/plain": [
       "197357"
      ]
     },
     "execution_count": 51,
     "metadata": {},
     "output_type": "execute_result"
    }
   ],
   "source": [
    "sum(df2['Installs'])"
   ]
  },
  {
   "cell_type": "code",
   "execution_count": 55,
   "id": "9108ded8",
   "metadata": {},
   "outputs": [
    {
     "data": {
      "text/plain": [
       "411.9130976559918"
      ]
     },
     "execution_count": 55,
     "metadata": {},
     "output_type": "execute_result"
    }
   ],
   "source": [
    "sum(df_Facebook['CPI'])"
   ]
  },
  {
   "cell_type": "code",
   "execution_count": 56,
   "id": "9683b3cb",
   "metadata": {},
   "outputs": [
    {
     "data": {
      "text/plain": [
       "9.107153130677096"
      ]
     },
     "execution_count": 56,
     "metadata": {},
     "output_type": "execute_result"
    }
   ],
   "source": [
    "sum(df_Vungle['CPI'])"
   ]
  },
  {
   "cell_type": "code",
   "execution_count": 59,
   "id": "9d8bdeb6",
   "metadata": {},
   "outputs": [
    {
     "data": {
      "text/plain": [
       "4128.379194267474"
      ]
     },
     "execution_count": 59,
     "metadata": {},
     "output_type": "execute_result"
    }
   ],
   "source": [
    "sum(df_Facebook['D30 ROAS'])"
   ]
  },
  {
   "cell_type": "code",
   "execution_count": 64,
   "id": "a9dcbe9d",
   "metadata": {},
   "outputs": [
    {
     "data": {
      "text/html": [
       "<div>\n",
       "<style scoped>\n",
       "    .dataframe tbody tr th:only-of-type {\n",
       "        vertical-align: middle;\n",
       "    }\n",
       "\n",
       "    .dataframe tbody tr th {\n",
       "        vertical-align: top;\n",
       "    }\n",
       "\n",
       "    .dataframe thead th {\n",
       "        text-align: right;\n",
       "    }\n",
       "</style>\n",
       "<table border=\"1\" class=\"dataframe\">\n",
       "  <thead>\n",
       "    <tr style=\"text-align: right;\">\n",
       "      <th></th>\n",
       "      <th>D07 ROAS</th>\n",
       "      <th>D30 ROAS</th>\n",
       "    </tr>\n",
       "  </thead>\n",
       "  <tbody>\n",
       "    <tr>\n",
       "      <th>D07 ROAS</th>\n",
       "      <td>1.000000</td>\n",
       "      <td>0.903741</td>\n",
       "    </tr>\n",
       "    <tr>\n",
       "      <th>D30 ROAS</th>\n",
       "      <td>0.903741</td>\n",
       "      <td>1.000000</td>\n",
       "    </tr>\n",
       "  </tbody>\n",
       "</table>\n",
       "</div>"
      ],
      "text/plain": [
       "          D07 ROAS  D30 ROAS\n",
       "D07 ROAS  1.000000  0.903741\n",
       "D30 ROAS  0.903741  1.000000"
      ]
     },
     "execution_count": 64,
     "metadata": {},
     "output_type": "execute_result"
    }
   ],
   "source": [
    "df[['D07 ROAS','D30 ROAS']].corr()"
   ]
  },
  {
   "cell_type": "code",
   "execution_count": 65,
   "id": "638972ae",
   "metadata": {},
   "outputs": [
    {
     "data": {
      "image/png": "[encoded data removed]",
      "text/plain": [
       "<Figure size 288x288 with 1 Axes>"
      ]
     },
     "metadata": {
      "needs_background": "light"
     },
     "output_type": "display_data"
    }
   ],
   "source": [
    "import matplotlib.pyplot as plt\n",
    "\n",
    "plt.matshow(df[['D07 ROAS','D30 ROAS']].corr())\n",
    "plt.show()\n"
   ]
  },
  {
   "cell_type": "code",
   "execution_count": 66,
   "id": "f28046d7",
   "metadata": {},
   "outputs": [
    {
     "data": {
      "image/png": "[encoded data removed]",
      "text/plain": [
       "<Figure size 288x288 with 1 Axes>"
      ]
     },
     "metadata": {
      "needs_background": "light"
     },
     "output_type": "display_data"
    }
   ],
   "source": [
    "import matplotlib.pyplot as plt\n",
    "\n",
    "plt.matshow(df.corr())\n",
    "plt.show()"
   ]
  },
  {
   "cell_type": "code",
   "execution_count": 70,
   "id": "d6be0c41",
   "metadata": {},
   "outputs": [
    {
     "data": {
      "text/html": [
       "<div>\n",
       "<style scoped>\n",
       "    .dataframe tbody tr th:only-of-type {\n",
       "        vertical-align: middle;\n",
       "    }\n",
       "\n",
       "    .dataframe tbody tr th {\n",
       "        vertical-align: top;\n",
       "    }\n",
       "\n",
       "    .dataframe thead th {\n",
       "        text-align: right;\n",
       "    }\n",
       "</style>\n",
       "<table border=\"1\" class=\"dataframe\">\n",
       "  <thead>\n",
       "    <tr style=\"text-align: right;\">\n",
       "      <th></th>\n",
       "      <th>Media Source</th>\n",
       "      <th>Campaign Name</th>\n",
       "      <th>Cost</th>\n",
       "      <th>Installs</th>\n",
       "      <th>D01 Total Revenue</th>\n",
       "      <th>D03 Total Revenue</th>\n",
       "      <th>D07 Total Revenue</th>\n",
       "      <th>D30 Total Revenue</th>\n",
       "      <th>CPI</th>\n",
       "      <th>D01 ROAS</th>\n",
       "      <th>D03 ROAS</th>\n",
       "      <th>D07 ROAS</th>\n",
       "      <th>D30 ROAS</th>\n",
       "    </tr>\n",
       "  </thead>\n",
       "  <tbody>\n",
       "    <tr>\n",
       "      <th>2</th>\n",
       "      <td>Vungle</td>\n",
       "      <td>IMT-Vungle-iOS-CN</td>\n",
       "      <td>38209</td>\n",
       "      <td>41000</td>\n",
       "      <td>8537</td>\n",
       "      <td>20598</td>\n",
       "      <td>31850</td>\n",
       "      <td>55175</td>\n",
       "      <td>0.931927</td>\n",
       "      <td>22.342904</td>\n",
       "      <td>53.908765</td>\n",
       "      <td>83.357324</td>\n",
       "      <td>144.403151</td>\n",
       "    </tr>\n",
       "  </tbody>\n",
       "</table>\n",
       "</div>"
      ],
      "text/plain": [
       "  Media Source      Campaign Name   Cost  Installs  D01 Total Revenue  \\\n",
       "2       Vungle  IMT-Vungle-iOS-CN  38209     41000               8537   \n",
       "\n",
       "   D03 Total Revenue  D07 Total Revenue  D30 Total Revenue       CPI  \\\n",
       "2              20598              31850              55175  0.931927   \n",
       "\n",
       "    D01 ROAS   D03 ROAS   D07 ROAS    D30 ROAS  \n",
       "2  22.342904  53.908765  83.357324  144.403151  "
      ]
     },
     "execution_count": 70,
     "metadata": {},
     "output_type": "execute_result"
    }
   ],
   "source": [
    "df[df['D30 ROAS'] == max(df['D30 ROAS'])]"
   ]
  },
  {
   "cell_type": "code",
   "execution_count": 71,
   "id": "a0ef0ce8",
   "metadata": {},
   "outputs": [
    {
     "data": {
      "text/html": [
       "<div>\n",
       "<style scoped>\n",
       "    .dataframe tbody tr th:only-of-type {\n",
       "        vertical-align: middle;\n",
       "    }\n",
       "\n",
       "    .dataframe tbody tr th {\n",
       "        vertical-align: top;\n",
       "    }\n",
       "\n",
       "    .dataframe thead th {\n",
       "        text-align: right;\n",
       "    }\n",
       "</style>\n",
       "<table border=\"1\" class=\"dataframe\">\n",
       "  <thead>\n",
       "    <tr style=\"text-align: right;\">\n",
       "      <th></th>\n",
       "      <th>Media Source</th>\n",
       "      <th>Campaign Name</th>\n",
       "      <th>Cost</th>\n",
       "      <th>Installs</th>\n",
       "      <th>D01 Total Revenue</th>\n",
       "      <th>D03 Total Revenue</th>\n",
       "      <th>D07 Total Revenue</th>\n",
       "      <th>D30 Total Revenue</th>\n",
       "      <th>CPI</th>\n",
       "      <th>D01 ROAS</th>\n",
       "      <th>D03 ROAS</th>\n",
       "      <th>D07 ROAS</th>\n",
       "      <th>D30 ROAS</th>\n",
       "    </tr>\n",
       "  </thead>\n",
       "  <tbody>\n",
       "    <tr>\n",
       "      <th>0</th>\n",
       "      <td>Facebook</td>\n",
       "      <td>IMT-FB-iOS-EN-US-AE-Playables</td>\n",
       "      <td>99061</td>\n",
       "      <td>21382</td>\n",
       "      <td>10404</td>\n",
       "      <td>25694</td>\n",
       "      <td>39231</td>\n",
       "      <td>74185</td>\n",
       "      <td>4.632916</td>\n",
       "      <td>10.50262</td>\n",
       "      <td>25.937554</td>\n",
       "      <td>39.602871</td>\n",
       "      <td>74.8882</td>\n",
       "    </tr>\n",
       "  </tbody>\n",
       "</table>\n",
       "</div>"
      ],
      "text/plain": [
       "  Media Source                  Campaign Name   Cost  Installs  \\\n",
       "0     Facebook  IMT-FB-iOS-EN-US-AE-Playables  99061     21382   \n",
       "\n",
       "   D01 Total Revenue  D03 Total Revenue  D07 Total Revenue  D30 Total Revenue  \\\n",
       "0              10404              25694              39231              74185   \n",
       "\n",
       "        CPI  D01 ROAS   D03 ROAS   D07 ROAS  D30 ROAS  \n",
       "0  4.632916  10.50262  25.937554  39.602871   74.8882  "
      ]
     },
     "execution_count": 71,
     "metadata": {},
     "output_type": "execute_result"
    }
   ],
   "source": [
    "df[df['D30 Total Revenue'] == max(df['D30 Total Revenue'])]"
   ]
  },
  {
   "cell_type": "code",
   "execution_count": 73,
   "id": "72229141",
   "metadata": {},
   "outputs": [
    {
     "data": {
      "text/plain": [
       "0     1.050262\n",
       "1     0.943891\n",
       "2     2.234290\n",
       "3     1.254821\n",
       "4     1.248184\n",
       "        ...   \n",
       "84    0.149254\n",
       "85    0.909091\n",
       "86    1.707317\n",
       "87    2.500000\n",
       "88    0.000000\n",
       "Name: D01 ROAS, Length: 89, dtype: float64"
      ]
     },
     "execution_count": 73,
     "metadata": {},
     "output_type": "execute_result"
    }
   ],
   "source": [
    "df['D01 ROAS']/10"
   ]
  },
  {
   "cell_type": "code",
   "execution_count": 77,
   "id": "875dc9b4",
   "metadata": {},
   "outputs": [],
   "source": [
    "ten_p = df[df['D01 ROAS'] < 10]"
   ]
  },
  {
   "cell_type": "code",
   "execution_count": 80,
   "id": "f2dbcfb7",
   "metadata": {},
   "outputs": [
    {
     "data": {
      "text/html": [
       "<div>\n",
       "<style scoped>\n",
       "    .dataframe tbody tr th:only-of-type {\n",
       "        vertical-align: middle;\n",
       "    }\n",
       "\n",
       "    .dataframe tbody tr th {\n",
       "        vertical-align: top;\n",
       "    }\n",
       "\n",
       "    .dataframe thead th {\n",
       "        text-align: right;\n",
       "    }\n",
       "</style>\n",
       "<table border=\"1\" class=\"dataframe\">\n",
       "  <thead>\n",
       "    <tr style=\"text-align: right;\">\n",
       "      <th></th>\n",
       "      <th>D01 ROAS</th>\n",
       "      <th>D30 ROAS</th>\n",
       "    </tr>\n",
       "  </thead>\n",
       "  <tbody>\n",
       "    <tr>\n",
       "      <th>1</th>\n",
       "      <td>9.438915</td>\n",
       "      <td>68.130669</td>\n",
       "    </tr>\n",
       "    <tr>\n",
       "      <th>6</th>\n",
       "      <td>8.751932</td>\n",
       "      <td>72.869977</td>\n",
       "    </tr>\n",
       "    <tr>\n",
       "      <th>7</th>\n",
       "      <td>9.732815</td>\n",
       "      <td>76.918288</td>\n",
       "    </tr>\n",
       "    <tr>\n",
       "      <th>9</th>\n",
       "      <td>9.224991</td>\n",
       "      <td>77.746671</td>\n",
       "    </tr>\n",
       "    <tr>\n",
       "      <th>10</th>\n",
       "      <td>8.725553</td>\n",
       "      <td>97.528476</td>\n",
       "    </tr>\n",
       "    <tr>\n",
       "      <th>...</th>\n",
       "      <td>...</td>\n",
       "      <td>...</td>\n",
       "    </tr>\n",
       "    <tr>\n",
       "      <th>82</th>\n",
       "      <td>1.000000</td>\n",
       "      <td>11.000000</td>\n",
       "    </tr>\n",
       "    <tr>\n",
       "      <th>83</th>\n",
       "      <td>1.351351</td>\n",
       "      <td>20.270270</td>\n",
       "    </tr>\n",
       "    <tr>\n",
       "      <th>84</th>\n",
       "      <td>1.492537</td>\n",
       "      <td>20.895522</td>\n",
       "    </tr>\n",
       "    <tr>\n",
       "      <th>85</th>\n",
       "      <td>9.090909</td>\n",
       "      <td>54.545455</td>\n",
       "    </tr>\n",
       "    <tr>\n",
       "      <th>88</th>\n",
       "      <td>0.000000</td>\n",
       "      <td>26.666667</td>\n",
       "    </tr>\n",
       "  </tbody>\n",
       "</table>\n",
       "<p>63 rows × 2 columns</p>\n",
       "</div>"
      ],
      "text/plain": [
       "    D01 ROAS   D30 ROAS\n",
       "1   9.438915  68.130669\n",
       "6   8.751932  72.869977\n",
       "7   9.732815  76.918288\n",
       "9   9.224991  77.746671\n",
       "10  8.725553  97.528476\n",
       "..       ...        ...\n",
       "82  1.000000  11.000000\n",
       "83  1.351351  20.270270\n",
       "84  1.492537  20.895522\n",
       "85  9.090909  54.545455\n",
       "88  0.000000  26.666667\n",
       "\n",
       "[63 rows x 2 columns]"
      ]
     },
     "execution_count": 80,
     "metadata": {},
     "output_type": "execute_result"
    }
   ],
   "source": [
    "ten_p[['D07 ROAS','D30 ROAS']]"
   ]
  },
  {
   "cell_type": "code",
   "execution_count": 81,
   "id": "ed5e9925",
   "metadata": {},
   "outputs": [],
   "source": [
    "seven_p = df[df['D07 ROAS'] > 70]"
   ]
  },
  {
   "cell_type": "code",
   "execution_count": 82,
   "id": "60f29cd3",
   "metadata": {},
   "outputs": [
    {
     "data": {
      "text/html": [
       "<div>\n",
       "<style scoped>\n",
       "    .dataframe tbody tr th:only-of-type {\n",
       "        vertical-align: middle;\n",
       "    }\n",
       "\n",
       "    .dataframe tbody tr th {\n",
       "        vertical-align: top;\n",
       "    }\n",
       "\n",
       "    .dataframe thead th {\n",
       "        text-align: right;\n",
       "    }\n",
       "</style>\n",
       "<table border=\"1\" class=\"dataframe\">\n",
       "  <thead>\n",
       "    <tr style=\"text-align: right;\">\n",
       "      <th></th>\n",
       "      <th>D07 ROAS</th>\n",
       "      <th>D30 ROAS</th>\n",
       "    </tr>\n",
       "  </thead>\n",
       "  <tbody>\n",
       "    <tr>\n",
       "      <th>2</th>\n",
       "      <td>83.357324</td>\n",
       "      <td>144.403151</td>\n",
       "    </tr>\n",
       "    <tr>\n",
       "      <th>59</th>\n",
       "      <td>73.809524</td>\n",
       "      <td>120.634921</td>\n",
       "    </tr>\n",
       "    <tr>\n",
       "      <th>86</th>\n",
       "      <td>131.707317</td>\n",
       "      <td>139.024390</td>\n",
       "    </tr>\n",
       "  </tbody>\n",
       "</table>\n",
       "</div>"
      ],
      "text/plain": [
       "      D07 ROAS    D30 ROAS\n",
       "2    83.357324  144.403151\n",
       "59   73.809524  120.634921\n",
       "86  131.707317  139.024390"
      ]
     },
     "execution_count": 82,
     "metadata": {},
     "output_type": "execute_result"
    }
   ],
   "source": [
    "seven_p[['D07 ROAS','D30 ROAS']]"
   ]
  },
  {
   "cell_type": "code",
   "execution_count": null,
   "id": "86c9f06b",
   "metadata": {},
   "outputs": [],
   "source": []
  },
  {
   "cell_type": "code",
   "execution_count": null,
   "id": "0d5374f9",
   "metadata": {},
   "outputs": [],
   "source": []
  },
  {
   "cell_type": "code",
   "execution_count": null,
   "id": "8e2afb0a",
   "metadata": {},
   "outputs": [],
   "source": []
  },
  {
   "cell_type": "code",
   "execution_count": null,
   "id": "60f40099",
   "metadata": {},
   "outputs": [],
   "source": []
  }
 ],
 "metadata": {
  "kernelspec": {
   "display_name": "Python 3",
   "language": "python",
   "name": "python3"
  },
  "language_info": {
   "codemirror_mode": {
    "name": "ipython",
    "version": 3
   },
   "file_extension": ".py",
   "mimetype": "text/x-python",
   "name": "python",
   "nbconvert_exporter": "python",
   "pygments_lexer": "ipython3",
   "version": "3.8.8"
  }
 },
 "nbformat": 4,
 "nbformat_minor": 5
}
