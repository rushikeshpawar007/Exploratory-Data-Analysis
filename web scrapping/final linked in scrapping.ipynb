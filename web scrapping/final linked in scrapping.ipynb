{
 "cells": [
  {
   "cell_type": "markdown",
   "id": "bizarre-stroke",
   "metadata": {},
   "source": [
    "## Importing all the required library "
   ]
  },
  {
   "cell_type": "code",
   "execution_count": 1,
   "id": "instructional-shield",
   "metadata": {},
   "outputs": [],
   "source": [
    "import requests, time, random\n",
    "from bs4 import BeautifulSoup\n",
    "from selenium import webdriver\n",
    "from selenium.webdriver.common.keys import Keys\n",
    "import pandas as pd\n",
    "import numpy as np"
   ]
  },
  {
   "cell_type": "markdown",
   "id": "soviet-fountain",
   "metadata": {},
   "source": [
    "## Using Selenium workframe we can automate the linked in log in proccess "
   ]
  },
  {
   "cell_type": "code",
   "execution_count": 2,
   "id": "smaller-dairy",
   "metadata": {},
   "outputs": [],
   "source": [
    "browser = webdriver.Chrome('chromedriver.exe')\n",
    "browser.get('https://www.linkedin.com/uas/login')\n",
    "file = open('config.txt')\n",
    "lines = file.readlines()\n",
    "username = lines[0]\n",
    "password = lines[1]\n",
    "\n",
    "\n",
    "elementID = browser.find_element_by_id('username')\n",
    "elementID.send_keys(username)\n",
    "\n",
    "elementID = browser.find_element_by_id('password')\n",
    "elementID.send_keys(password)\n",
    "\n",
    "elementID.submit()"
   ]
  },
  {
   "cell_type": "markdown",
   "id": "accessible-understanding",
   "metadata": {},
   "source": [
    "## Below are the empty list which will be our final lists with scrapped data "
   ]
  },
  {
   "cell_type": "code",
   "execution_count": 3,
   "id": "transsexual-offense",
   "metadata": {},
   "outputs": [],
   "source": [
    "new = []\n",
    "new2 = []\n",
    "new3 = []"
   ]
  },
  {
   "cell_type": "code",
   "execution_count": 4,
   "id": "bacterial-thanks",
   "metadata": {},
   "outputs": [],
   "source": [
    "visitedprofile = []\n",
    "profilesqueued = []"
   ]
  },
  {
   "cell_type": "markdown",
   "id": "acute-geology",
   "metadata": {},
   "source": [
    "## Create a funtion to get the company profile, which will be saved in the list with variable named new."
   ]
  },
  {
   "cell_type": "code",
   "execution_count": 5,
   "id": "absent-armstrong",
   "metadata": {},
   "outputs": [],
   "source": [
    "def getnewprofileID(soup, profilesqueued):\n",
    "    profileID = []\n",
    "    mj = soup.find('section', {'class' : 'grid__col grid__col--lg-12 mb6'})\n",
    "    all_links = mj.findAll('a', {'class':'app-aware-link'})\n",
    "    for link in all_links:\n",
    "        userID = link.text\n",
    "        if((userID not in profilesqueued) and (userID not in visitedprofile)):\n",
    "            profileID.append(userID)\n",
    "    return profileID"
   ]
  },
  {
   "cell_type": "code",
   "execution_count": 6,
   "id": "focused-poster",
   "metadata": {},
   "outputs": [],
   "source": [
    "company_name = []\n",
    "profilesqueued2 = []"
   ]
  },
  {
   "cell_type": "markdown",
   "id": "raised-synthetic",
   "metadata": {},
   "source": [
    "## Create a funtion to get the company name, which will be saved in the list with variable named new2. "
   ]
  },
  {
   "cell_type": "code",
   "execution_count": 7,
   "id": "sexual-emperor",
   "metadata": {},
   "outputs": [],
   "source": [
    "def getcompanyname(soup, profilesqueued2):\n",
    "    profileID2 = []\n",
    "    mj = soup.find('section', {'class' : 'grid__col grid__col--lg-12 mb6'})\n",
    "    all_links = mj.findAll('div', {'class':'entity-result__primary-subtitle t-14 t-black'})\n",
    "    for link in all_links:\n",
    "        userID2 = link.text\n",
    "        if((userID2 not in profilesqueued2) and (userID2 not in company_name)):\n",
    "            profileID2.append(userID2)\n",
    "    return profileID2"
   ]
  },
  {
   "cell_type": "code",
   "execution_count": 8,
   "id": "boxed-google",
   "metadata": {},
   "outputs": [],
   "source": [
    "company_location = []\n",
    "profilesqueued3 = []"
   ]
  },
  {
   "cell_type": "markdown",
   "id": "demanding-victory",
   "metadata": {},
   "source": [
    "## Create a funtion to get the company location, which will be saved in the list with variable named new3. "
   ]
  },
  {
   "cell_type": "code",
   "execution_count": 9,
   "id": "unexpected-preference",
   "metadata": {},
   "outputs": [],
   "source": [
    "def getcompanylocation(soup, profilesqueued2):\n",
    "    profileID3 = []\n",
    "    mj = soup.find('section', {'class' : 'grid__col grid__col--lg-12 mb6'})\n",
    "    all_links = mj.findAll('div', {'class':'entity-result__secondary-subtitle t-14'})\n",
    "    for link in all_links:\n",
    "        userID3 = link.text\n",
    "        if((userID3 not in profilesqueued3) and (userID3 not in company_location)):\n",
    "            profileID3.append(userID3)\n",
    "    return profileID3"
   ]
  },
  {
   "cell_type": "markdown",
   "id": "focal-coordination",
   "metadata": {},
   "source": [
    "## There are total 73 pages, we have to scarp all of them. "
   ]
  },
  {
   "cell_type": "code",
   "execution_count": 10,
   "id": "renewable-cambodia",
   "metadata": {},
   "outputs": [],
   "source": [
    "nextlink = ['?start=10','?start=20','?start=30','?start=40','?start=50','?start=60','?start=70','?start=80','?start=90','?start=100','?start=110','?start=120','?start=130','?start=140','?start=150','?start=160','?start=170','?start=190','?start=200','?start=210','?start=220','?start=230','?start=240','?start=250','?start=260','?start=270','?start=280','?start=290','?start=300','?start=310','?start=320','?start=330','?start=340','?start=350','?start=360','?start=370','?start=380','?start=390','?start=400','?start=410','?start=420','?start=430','?start=440','?start=450','?start=460','?start=470','?start=480','?start=490','?start=500','?start=510','?start=520','?start=530','?start=540','?start=550','?start=560','?start=570','?start=580']"
   ]
  },
  {
   "cell_type": "code",
   "execution_count": 11,
   "id": "relevant-prompt",
   "metadata": {},
   "outputs": [],
   "source": [
    "for i in nextlink:\n",
    "    link = 'https://www.linkedin.com/my-items/saved-jobs/' + i\n",
    "    new.extend(getnewprofileID(BeautifulSoup(browser.page_source), profilesqueued))\n",
    "    new2.extend(getcompanyname(BeautifulSoup(browser.page_source), profilesqueued2))\n",
    "    new3.extend(getcompanylocation(BeautifulSoup(browser.page_source), profilesqueued3))\n",
    "    browser.get(link)"
   ]
  },
  {
   "cell_type": "code",
   "execution_count": 12,
   "id": "respective-destruction",
   "metadata": {},
   "outputs": [
    {
     "data": {
      "text/plain": [
       "1485"
      ]
     },
     "execution_count": 12,
     "metadata": {},
     "output_type": "execute_result"
    }
   ],
   "source": [
    "len(new)\n"
   ]
  },
  {
   "cell_type": "code",
   "execution_count": 13,
   "id": "gentle-herald",
   "metadata": {},
   "outputs": [
    {
     "data": {
      "text/plain": [
       "570"
      ]
     },
     "execution_count": 13,
     "metadata": {},
     "output_type": "execute_result"
    }
   ],
   "source": [
    "len(new2)\n"
   ]
  },
  {
   "cell_type": "code",
   "execution_count": 25,
   "id": "hindu-projection",
   "metadata": {},
   "outputs": [
    {
     "data": {
      "text/plain": [
       "570"
      ]
     },
     "execution_count": 25,
     "metadata": {},
     "output_type": "execute_result"
    }
   ],
   "source": [
    "len(new3)\n"
   ]
  },
  {
   "cell_type": "markdown",
   "id": "banned-process",
   "metadata": {},
   "source": [
    "## Saving the scrap data of company post in the list named as new "
   ]
  },
  {
   "cell_type": "code",
   "execution_count": 28,
   "id": "neural-vocabulary",
   "metadata": {},
   "outputs": [],
   "source": [
    "data2 = {\n",
    "        'company_post' : new\n",
    "       \n",
    "        }"
   ]
  },
  {
   "cell_type": "code",
   "execution_count": 29,
   "id": "confidential-reward",
   "metadata": {},
   "outputs": [],
   "source": [
    "df2 = pd.DataFrame(data2)"
   ]
  },
  {
   "cell_type": "code",
   "execution_count": 91,
   "id": "nasty-trailer",
   "metadata": {},
   "outputs": [
    {
     "data": {
      "text/html": [
       "<div>\n",
       "<style scoped>\n",
       "    .dataframe tbody tr th:only-of-type {\n",
       "        vertical-align: middle;\n",
       "    }\n",
       "\n",
       "    .dataframe tbody tr th {\n",
       "        vertical-align: top;\n",
       "    }\n",
       "\n",
       "    .dataframe thead th {\n",
       "        text-align: right;\n",
       "    }\n",
       "</style>\n",
       "<table border=\"1\" class=\"dataframe\">\n",
       "  <thead>\n",
       "    <tr style=\"text-align: right;\">\n",
       "      <th></th>\n",
       "      <th>company_post</th>\n",
       "    </tr>\n",
       "  </thead>\n",
       "  <tbody>\n",
       "    <tr>\n",
       "      <th>0</th>\n",
       "      <td>\\n \\n \\n\\n\\n</td>\n",
       "    </tr>\n",
       "    <tr>\n",
       "      <th>1</th>\n",
       "      <td>\\nWorking Student Market Research (f/m/d)\\n</td>\n",
       "    </tr>\n",
       "    <tr>\n",
       "      <th>2</th>\n",
       "      <td>\\n\\n \\n\\n\\n\\n\\n\\n\\nApply\\n\\n\\n</td>\n",
       "    </tr>\n",
       "    <tr>\n",
       "      <th>3</th>\n",
       "      <td>\\n \\n \\n\\n\\n</td>\n",
       "    </tr>\n",
       "    <tr>\n",
       "      <th>4</th>\n",
       "      <td>\\nWorking Student (m/w/d) Strategy\\n</td>\n",
       "    </tr>\n",
       "    <tr>\n",
       "      <th>...</th>\n",
       "      <td>...</td>\n",
       "    </tr>\n",
       "    <tr>\n",
       "      <th>836</th>\n",
       "      <td>\\nData Analyst 2\\n</td>\n",
       "    </tr>\n",
       "    <tr>\n",
       "      <th>837</th>\n",
       "      <td>\\n \\n \\n\\n\\n</td>\n",
       "    </tr>\n",
       "    <tr>\n",
       "      <th>838</th>\n",
       "      <td>\\nQliksense Squad\\n</td>\n",
       "    </tr>\n",
       "    <tr>\n",
       "      <th>839</th>\n",
       "      <td>\\n \\n \\n\\n\\n</td>\n",
       "    </tr>\n",
       "    <tr>\n",
       "      <th>840</th>\n",
       "      <td>\\nData Analyst\\n</td>\n",
       "    </tr>\n",
       "  </tbody>\n",
       "</table>\n",
       "<p>841 rows × 1 columns</p>\n",
       "</div>"
      ],
      "text/plain": [
       "                                    company_post\n",
       "0                                   \\n \\n \\n\\n\\n\n",
       "1    \\nWorking Student Market Research (f/m/d)\\n\n",
       "2                 \\n\\n \\n\\n\\n\\n\\n\\n\\nApply\\n\\n\\n\n",
       "3                                   \\n \\n \\n\\n\\n\n",
       "4           \\nWorking Student (m/w/d) Strategy\\n\n",
       "..                                           ...\n",
       "836                           \\nData Analyst 2\\n\n",
       "837                                 \\n \\n \\n\\n\\n\n",
       "838                          \\nQliksense Squad\\n\n",
       "839                                 \\n \\n \\n\\n\\n\n",
       "840                             \\nData Analyst\\n\n",
       "\n",
       "[841 rows x 1 columns]"
      ]
     },
     "execution_count": 91,
     "metadata": {},
     "output_type": "execute_result"
    }
   ],
   "source": [
    "df2"
   ]
  },
  {
   "cell_type": "code",
   "execution_count": 30,
   "id": "flying-sitting",
   "metadata": {},
   "outputs": [],
   "source": [
    "df2 = df2[df2.company_post != '\\n \\n \\n\\n\\n']\n",
    "df2 = df2[df2.company_post != '\\n\\n \\n\\n\\n\\n\\n\\n\\nApply\\n\\n\\n']\n",
    "df2 = df2[df2.company_post != '\\n\\n \\n\\n\\n\\n\\n\\n\\nEasily Apply\\n\\n\\n']"
   ]
  },
  {
   "cell_type": "code",
   "execution_count": 31,
   "id": "according-physiology",
   "metadata": {},
   "outputs": [],
   "source": [
    "df2['company_post'] = df2['company_post'].apply(lambda x: x.replace('\\n',''))"
   ]
  },
  {
   "cell_type": "code",
   "execution_count": 94,
   "id": "swiss-gauge",
   "metadata": {},
   "outputs": [],
   "source": [
    "df2"
   ]
  },
  {
   "cell_type": "code",
   "execution_count": 99,
   "id": "funny-weapon",
   "metadata": {
    "collapsed": true
   },
   "outputs": [
    {
     "data": {
      "text/plain": [
       "array(['Working Student Market Research (f/m/d)',\n",
       "       'Working Student (m/w/d) Strategy',\n",
       "       'Working Student - Product Managment (m/f/d)',\n",
       "       'Working Student Content Creator (Video)',\n",
       "       'Working Student (f/m/d) Data Science Consulting',\n",
       "       '(Junior) Data Engineer (m/f/d)', 'Business Data Analyst',\n",
       "       'Data & Analytics Consultant, Tableau', 'Data Analyst',\n",
       "       'Werkstudent (w/m/d) - Business Intelligence & Reporting',\n",
       "       '(Junior) Business Analyst - Operations (f/m/x)',\n",
       "       '(Junior) Business Intelligence Consultant SAP Analytics (M/W/D)',\n",
       "       'Business Analyst', 'Junior Product Analyst',\n",
       "       '(Junior) Consultant (w/m/d) Business Intelligence & Data Analytics',\n",
       "       'Junior BI Analyst (m/w/d)', 'Junior Data Engineer', 'Werkstudent',\n",
       "       'Werkstudent Data Science (m/w/d)',\n",
       "       'Werkstudent/Business Intern (m/w/d) i.s.h.med Consulting',\n",
       "       'Werkstudent (m/w/d) im Bereich Insights Analytics',\n",
       "       'Working Student - Assortment Management Business Analyst (m/f/d)',\n",
       "       'Working Student (f/m/d) - Business Process Intelligence Support',\n",
       "       'Werkstudent, Datenanalyst',\n",
       "       'Werkstudent (w/m/d) Digitalisierung im Controlling',\n",
       "       'Werkstudent (w/m/d) Data Integration & Analytics',\n",
       "       'Werkstudent (m/w/d) Data Analytics',\n",
       "       'Werkstudent (m/w/d) Analytics und Reporting',\n",
       "       'Werkstudent Operations Strategy & Analytics (m/w/d)',\n",
       "       'Alteryx / Tableau Analyst (m/w/d)',\n",
       "       'Business Intelligence Analyst - Global BI (f/m/x)',\n",
       "       'Junior Business Intelligence Analyst (f/m/d)',\n",
       "       'Junior BI Analyst (m/f/d)', 'Data Analyst - freelance (contract)',\n",
       "       'Business Intelligence Analyst', 'Analyst - Business Intelligence',\n",
       "       'Data Engineer (m/f/d)', 'Data Engineer', 'Data Scientist (m/f/d)',\n",
       "       'Data Scientist, Product Analytics', 'Application Data Scientist',\n",
       "       'Junior Data Engineer (m/w/d)', 'Data Analyst (m/w/d)',\n",
       "       'Reporting Specialist / Data Analyst (m/f/d)',\n",
       "       '(Junior) Data Scientist (w/m/d)', 'Junior Data Scientist (m/w/d)',\n",
       "       '(Junior) Data Analyst (m/w/x)', 'Data Scientist (m/f/x)',\n",
       "       'Data Engineer (d/f/m)', 'Data Scientist (m/w/d)',\n",
       "       'Data Analyst (m/w/d) Customer Relationship Management',\n",
       "       'Data Analyst - Support', 'Data Engineer (M/W/D)',\n",
       "       'Data Scientist - Advanced Analytics',\n",
       "       'Insights Analyst (Analytics Engineer) - EMEA Remote',\n",
       "       'Product Data Analyst (f/m/x)',\n",
       "       'Analytics Engineer - Product (m/f/d)',\n",
       "       'Junior Data Analyst (m/w/d)', 'Graduate Data Analyst',\n",
       "       'Data Engineer (f/m/x)', 'Data Engineer*', 'DATA ENGINEER (W/M/D)',\n",
       "       'Working Student Business Operations (f/m/x)',\n",
       "       'Business Operations Working Student - Remote',\n",
       "       'Working Student - Business Development Team',\n",
       "       'Working Student (f/m/d) System Integration',\n",
       "       'Working Student (m/f/x) – Marketing Optimization',\n",
       "       'Working Student Data Engineering (gn)',\n",
       "       'Working Student or Intern Product Management',\n",
       "       'Operations Working Student',\n",
       "       'Working Student - Global Implementation Team',\n",
       "       'Working Student Controlling (m/f/d)', 'Working Student, Alexa EU',\n",
       "       'Sales Operations Working Student',\n",
       "       'Working Student (f/m/d): Design Working Student',\n",
       "       'Venture Capital Working Student Berlin',\n",
       "       'Working Student Data Analytics & Process Automation (f/m/d)',\n",
       "       '  ', 'Data Science Working Student (f/m/d)',\n",
       "       'Working Student - Data Engineering (f/m/x)',\n",
       "       'Working Student Insights & Analytics (f/d/m)',\n",
       "       'Apprenticeship Program Working Student (m/w/d) - Gigafactory Berlin-Brandenburg',\n",
       "       'Business Intelligence Intern (m/w/d)',\n",
       "       'Working Student Local Shops (f/m/d)',\n",
       "       'Banking Operations Working Student',\n",
       "       'Azure Data Engineer (f/m/d)', 'Azure Data Engineer (m/w/d)',\n",
       "       'Data Scientist – Quantitative Finance (m/f/d)',\n",
       "       '(Senior) Consultant (m/w/d) Microsoft-Azure & -Power BI',\n",
       "       'Azure Data Factory Lead (m/w/d)', 'Cloud Data Engineer (m/w/d)',\n",
       "       'Data Engineer (m/w/d) - Remote Option DE',\n",
       "       'Big Data Engineer (Azure) - 100% Remote ',\n",
       "       'Data Engineer - NRW - June 2021 start ',\n",
       "       'BI Cloud Data Engineer (m/w/d)',\n",
       "       'Data Engineer - Fokus Cloud Engineering', 'Data Engineer (gn)',\n",
       "       'Data Analyst - Smart Platform', 'Data Analyst (M/W/D)',\n",
       "       'Data Analyst (m/f/div) at Solarisbank AG',\n",
       "       'Data Analyst E-Commerce (m/w/d)', 'Data Engineer (Berlin/Paris)',\n",
       "       'Data Analyst (m/f/d)',\n",
       "       '(Junior) Consultant (m/w/d) Data Engineer',\n",
       "       'Data Analyst (m/w/x)', 'Data Analyst / Scientist (m/f/div)',\n",
       "       'Data Scientist', 'Marketing Data Engineer (m/w/d)',\n",
       "       'Data Analyst (f/m/div)',\n",
       "       'Data Analyst - Vehicles and Supply Chain (m/f/d)',\n",
       "       'Data Scientist - Orpheus', 'RPA Data Analyst (d/f/m)',\n",
       "       'Software Engineer (m/f/d) – Data Analytics, Part- / Full-time – BM21_749',\n",
       "       'Global BI Analyst', 'Qlik Consultant/Data Analyst (M/W/D)',\n",
       "       'Data analyst in Customer Relations (m/f/d)',\n",
       "       'Junior Sales Analyst - BI (f/m/d)', 'Senior Data Analyst (d/f/m)',\n",
       "       'Business Intelligence Analyst (m/w/d)', 'Data Scientist Trainee',\n",
       "       'Analytics Engineer',\n",
       "       'Junior Data Analyst (all genders), full-time',\n",
       "       'Business Intelligence Consultant – Tableau and Qlik ',\n",
       "       'Data Analyst / Analytics Engineer (m/w/d)',\n",
       "       'Data Scientist (f/m/d) Finance',\n",
       "       'Werkstudent:in Content Marketing (m/w/x) NL',\n",
       "       'Data Engineer Intern', 'Operations Data Analyst Intern (m/w/x)',\n",
       "       'Working Student - Business Analytics (m/f/d)',\n",
       "       'Principal Study Data Tabulation Model Programmer (m/w/d)',\n",
       "       'Working Student - Data Analysis (f/m/d)',\n",
       "       'Working Student Business Data Analyst (m/f/d) ',\n",
       "       'Frontend Developer (m/w/d)', 'Data Scientist (m/w/d) München',\n",
       "       'Business Analyst (m/w/d)',\n",
       "       'Business Intelligence Analyst DACH (f/m/d/x)',\n",
       "       'Energy Data Analyst (f/m/d)',\n",
       "       'Junior Business Analyst (m/w/d) im Category Management als Elternzeitvertretung',\n",
       "       'Business Analyst / Data Analyst (f/m/x)',\n",
       "       'Senior Data Analyst (m/f/d)',\n",
       "       'Junior Data Analyst (m/f/d) - BM21_369 - Berlin, Germany',\n",
       "       'Data Analyst - Product', 'SQL Data Analyst',\n",
       "       'Data Analyst (m/f/x)',\n",
       "       'Working student in Procurement with Dutch (m/f/d) - Remote Option GER',\n",
       "       'Solution Architect - deutschlandweit (m/w/d)',\n",
       "       'IT Operations Specialist (m/w/d) - Data Analytics',\n",
       "       'Working Student Data Analytics Procurement (20h/week)(m\\\\f\\\\d)',\n",
       "       'Data Platform Specialist',\n",
       "       'Data Analyst (m/w/d)2jooble2mobilversichert',\n",
       "       'IT Operations Specialist (m/f/d) with focus on Data Analytics',\n",
       "       'Data Analyst Onlinemarketing (m/w/d)',\n",
       "       'DevOps Engineer - Data / Platform', 'BI Analyst',\n",
       "       'AWS Cloud Specialist (m/w/d)',\n",
       "       'Intern Business Analytics (f/m/x)',\n",
       "       'Working Student/Internship for Agile Project Management (all genders) - in Berlin',\n",
       "       'Machine learning | AI Intern (Remote position) – 3-6months, Full time',\n",
       "       'QA Engineer (Working Student)', 'Data Engineering Intern (m/f/d)',\n",
       "       'Business Operations Intern / Working Student - Berlin (m/f/d)',\n",
       "       'Internship Business Intelligence Analyst (m/w/x)',\n",
       "       'Working Student - Business Intelligence (m/f/x)',\n",
       "       'Intern Business Analyst (m/f/d)', 'VC Intern - Berlin',\n",
       "       'Expansion Intern (m/f/x)',\n",
       "       '(Intern) Analytics Engineer - Analytics Platform (m/f/d)',\n",
       "       'Trainee Data Engineering (m/w/d)',\n",
       "       'Working Student (m/f/d) at Data Analysis',\n",
       "       'Working Student Business Analytics',\n",
       "       'Venture Analyst Intern/Working Student (m/f/d)',\n",
       "       'Data Analyst Internship (m/w/d) - Gigafactory Berlin - Brandenburg',\n",
       "       'Venture Analyst - Intern / Working Student (100% remote possible)',\n",
       "       ' Deutsche Bahn International',\n",
       "       'Trainee Digital Finance Data Analyst (w/m/d)',\n",
       "       'Talent Data Analyst - Working Student',\n",
       "       '???? Data Analyst - Intern (f/m/x) @her1 GmbH',\n",
       "       'Graduate Program - Data and Analytics (m/w/d)',\n",
       "       'Product Data Analyst with English - Google Shopping Project',\n",
       "       'Analytics-specialist', 'Data Analyst (m/w/d) Pricing & Analytics',\n",
       "       'Data Engineer: Business Intelligence',\n",
       "       'Werkstudent für BI & Big Data Applications (m/w/d)',\n",
       "       'Internship Business Intelligence (m/w/d)',\n",
       "       'Werkstudent im Bereich Data Science & Analytics (m/w/d)',\n",
       "       'Werkstudent / Studentische Aushilfe (m/w/d) Data & Analytics',\n",
       "       'Business Analyst Internship (m/w/d)',\n",
       "       'Werkstudent - Business Intelligence & Data Analytics (m/w/d)2jooble2Jaron&Amann',\n",
       "       'Business Analytics Intern (f/m/x)',\n",
       "       'Werkstudent (w/m/d) Knowledge Management Deal Advisory',\n",
       "       'Working Student Strategy & Analytics (m/f/d)',\n",
       "       'Intern Project Management - Operations Vehicles (m/f/d)',\n",
       "       'Werkstudent (m/w/d) Digital Finance',\n",
       "       'Analyst Intern - Logistics DACH (f/m/d/x)',\n",
       "       'International Business Analyst, E-Commerce (m/f/x)',\n",
       "       'Data Engineer Intern (m/w/d) Machine Learning /artificial intelligence',\n",
       "       'Werkstudent*in Data Analytics - HR (all genders)',\n",
       "       'Werkstudent (m/w/d) Business Intelligence',\n",
       "       'Praktikum - BI / Business Analyst (m/w/d) mit Fokus auf Tableau',\n",
       "       'Business Analyst (m/w/d) Financial Lines',\n",
       "       'Business Analyst 100% Homeoffice (m/w/x)',\n",
       "       'Business Analyst (m/w/d) Demand Management',\n",
       "       'Junior Finance Data Analyst DACH (f/m/d)',\n",
       "       'Werkstudent (m/w/d) Data Analyst Consulting (20h/Woche)',\n",
       "       'Order to Cash (O2C) Business Analyst',\n",
       "       'Werkstudent Data Analyst (m/w/d) - Life Science',\n",
       "       'Customer Data Analyst (m/w/d)',\n",
       "       'Business Analyst/Project Controller  (m/w/d)',\n",
       "       'Product Analyst - Implementation (m/f/d)',\n",
       "       'Business Analyst (m/w/d) Management Consulting Energiesektor Berlin',\n",
       "       'Junior Web Analyst / Digital Analyst (m/w/d)',\n",
       "       'Senior Analyst or Junior Associate, Frankfurt - Macquarie Capital',\n",
       "       'Lead Business Analyst', 'Technical Business Analyst', 'Analyst',\n",
       "       'Junior Data Analyst', 'Business Analyst Leben (m/w/d)',\n",
       "       'Business Analyst (m/w/d) im Bereich Materials Management',\n",
       "       'Business-Analyst / in in Köln (m/w)',\n",
       "       '(Junior) Business Analyst (m/w/d) (24762)',\n",
       "       'Business Analyst (m/w/d) - Energie',\n",
       "       'Business Analyst (m/w/d) München', 'Data Analyst (x,f,m)',\n",
       "       'Business Analyst/Consultant (m/w/d) Monitor Deloitte',\n",
       "       'Business Analyst (m/w/d) als Dozent',\n",
       "       'Junior Data Analyst (m/f/d)', 'Data analist, 32-36 uur, Gouda',\n",
       "       'Business Analyst (m/f/x) - IT, Business Analysis',\n",
       "       'Data Analyst (all genders)', 'Data Analist',\n",
       "       'IT Business Analyst (m/w/d)', 'Business Analyst (all genders)',\n",
       "       'IT Business Analyst / Junior WirtschaftsinformatierIn (m/w/d)',\n",
       "       'Data Analyst (w/m/d)', 'Business Analyst (m/w/d) Inventory',\n",
       "       'Business Analyst Projects & Operations (m|w|x)',\n",
       "       'Business Analyst IT (m/w/d)',\n",
       "       'Business Analyst for Single Risk Systems (m/f/d)',\n",
       "       'Werkstudent Business Analyst (m/w/d)', 'EU Workflow Analyst',\n",
       "       'Junior Business Analyst Accounting (m/w/d)', 'Data Entry Analyst',\n",
       "       'SCM Business Analyst', 'Junior Data Analyst (f/m/d)',\n",
       "       'Junior Business Analyst (m/w/d) - IT, Business Analysis',\n",
       "       'Datenanalyst', 'Junior Business Analyst (m/w/d)',\n",
       "       'Business Analyst Corporate Controlling (m/f/d) 1',\n",
       "       '(Junior-)Business Analyst Banking Processes (w/m/d) - IT, Business Analysis',\n",
       "       'Business Analyst - Product', 'Graduate Analyst (m/w/d)',\n",
       "       'Business Analyst (m/f/d) – on-site or remote in Germany ',\n",
       "       'Junior Business-Analyst (m/w/d) - IT, Business Analysis',\n",
       "       'Data Analyst (f/m/x)',\n",
       "       'Junior Business Analyst / Fachexperte Finanzbuchhaltung / Finanzbuchhalter (m/w/d)',\n",
       "       'Junior Business Analyst (Public Sector)', 'Reporting Analyst',\n",
       "       'Data Analyst - Real Estate (m/w/d)',\n",
       "       'Business Analyst - Intune Implementation (m/w/d)',\n",
       "       'Data Analyst 2', 'Qliksense Squad'], dtype=object)"
      ]
     },
     "execution_count": 99,
     "metadata": {},
     "output_type": "execute_result"
    }
   ],
   "source": [
    "df2.company_post.unique()"
   ]
  },
  {
   "cell_type": "code",
   "execution_count": 32,
   "id": "integral-moore",
   "metadata": {},
   "outputs": [],
   "source": [
    "df2 = df2[df2.company_post != ' Deutsche Bahn International']"
   ]
  },
  {
   "cell_type": "code",
   "execution_count": 33,
   "id": "composite-knock",
   "metadata": {},
   "outputs": [],
   "source": [
    "df2 = df2[df2.company_post != '  ']"
   ]
  },
  {
   "cell_type": "code",
   "execution_count": 34,
   "id": "superb-phenomenon",
   "metadata": {},
   "outputs": [],
   "source": [
    "file_name_companypost = 'linked_in_companypost.xlsx'"
   ]
  },
  {
   "cell_type": "code",
   "execution_count": 35,
   "id": "gentle-investigation",
   "metadata": {},
   "outputs": [],
   "source": [
    "file_name_location_name = 'linked_in_location_name.xlsx'"
   ]
  },
  {
   "cell_type": "markdown",
   "id": "present-segment",
   "metadata": {},
   "source": [
    "## saving scrap data of the company name in the list named as new2 "
   ]
  },
  {
   "cell_type": "code",
   "execution_count": null,
   "id": "extraordinary-testing",
   "metadata": {},
   "outputs": [],
   "source": [
    "data = {\n",
    "        'company_name' : new2\n",
    "       \n",
    "        }"
   ]
  },
  {
   "cell_type": "code",
   "execution_count": null,
   "id": "detected-comparative",
   "metadata": {},
   "outputs": [],
   "source": [
    "df = pd.DataFrame(data)"
   ]
  },
  {
   "cell_type": "markdown",
   "id": "sharing-surgery",
   "metadata": {},
   "source": [
    "## Saving scrap data of the comapny location in the list named as new3 "
   ]
  },
  {
   "cell_type": "code",
   "execution_count": null,
   "id": "dramatic-attitude",
   "metadata": {},
   "outputs": [],
   "source": [
    "data3 = {\n",
    "        'company_location' : new3\n",
    "       \n",
    "        }"
   ]
  },
  {
   "cell_type": "code",
   "execution_count": null,
   "id": "executive-specialist",
   "metadata": {},
   "outputs": [],
   "source": [
    "df3 = pd.DataFrame(data3)"
   ]
  },
  {
   "cell_type": "code",
   "execution_count": 36,
   "id": "unusual-november",
   "metadata": {},
   "outputs": [],
   "source": [
    "df.to_excel(file_name_location_name)"
   ]
  },
  {
   "cell_type": "code",
   "execution_count": 37,
   "id": "linear-mixer",
   "metadata": {},
   "outputs": [],
   "source": [
    "df2.to_excel(file_name_companypost)"
   ]
  },
  {
   "cell_type": "code",
   "execution_count": 107,
   "id": "unknown-collaboration",
   "metadata": {},
   "outputs": [],
   "source": []
  },
  {
   "cell_type": "code",
   "execution_count": 108,
   "id": "visible-referral",
   "metadata": {},
   "outputs": [],
   "source": []
  },
  {
   "cell_type": "code",
   "execution_count": 109,
   "id": "decreased-rehabilitation",
   "metadata": {},
   "outputs": [],
   "source": []
  },
  {
   "cell_type": "code",
   "execution_count": 113,
   "id": "given-cherry",
   "metadata": {},
   "outputs": [],
   "source": []
  },
  {
   "cell_type": "code",
   "execution_count": null,
   "id": "domestic-prefix",
   "metadata": {},
   "outputs": [],
   "source": []
  },
  {
   "cell_type": "code",
   "execution_count": null,
   "id": "expanded-scholarship",
   "metadata": {},
   "outputs": [],
   "source": []
  }
 ],
 "metadata": {
  "kernelspec": {
   "display_name": "Python 3",
   "language": "python",
   "name": "python3"
  },
  "language_info": {
   "codemirror_mode": {
    "name": "ipython",
    "version": 3
   },
   "file_extension": ".py",
   "mimetype": "text/x-python",
   "name": "python",
   "nbconvert_exporter": "python",
   "pygments_lexer": "ipython3",
   "version": "3.9.1"
  }
 },
 "nbformat": 4,
 "nbformat_minor": 5
}
