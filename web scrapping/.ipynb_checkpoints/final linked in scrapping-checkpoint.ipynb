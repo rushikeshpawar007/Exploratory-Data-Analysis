{
 "cells": [
  {
   "cell_type": "markdown",
   "id": "sustained-lloyd",
   "metadata": {},
   "source": [
    "## Importing all the required library "
   ]
  },
  {
   "cell_type": "code",
   "execution_count": 2,
   "id": "aa53cee8",
   "metadata": {},
   "outputs": [
    {
     "name": "stdout",
     "output_type": "stream",
     "text": [
      "Collecting selenium\n",
      "  Downloading selenium-3.141.0-py2.py3-none-any.whl (904 kB)\n",
      "Requirement already satisfied: urllib3 in c:\\users\\rushi\\anaconda3\\lib\\site-packages (from selenium) (1.26.4)\n",
      "Installing collected packages: selenium\n",
      "Successfully installed selenium-3.141.0\n",
      "Note: you may need to restart the kernel to use updated packages.\n"
     ]
    }
   ],
   "source": [
    "pip install selenium"
   ]
  },
  {
   "cell_type": "code",
   "execution_count": 3,
   "id": "instructional-shield",
   "metadata": {},
   "outputs": [],
   "source": [
    "import requests, time, random\n",
    "from bs4 import BeautifulSoup\n",
    "from selenium import webdriver\n",
    "from selenium.webdriver.common.keys import Keys\n",
    "import pandas as pd\n",
    "import numpy as np"
   ]
  },
  {
   "cell_type": "markdown",
   "id": "disabled-childhood",
   "metadata": {},
   "source": [
    "## Using Selenium workframe we can automate the linked in log in proccess "
   ]
  },
  {
   "cell_type": "code",
   "execution_count": 6,
   "id": "smaller-dairy",
   "metadata": {},
   "outputs": [],
   "source": [
    "browser = webdriver.Chrome('chromedriver.exe')\n",
    "browser.get('https://www.linkedin.com/uas/login')\n",
    "file = open('config.txt')\n",
    "lines = file.readlines()\n",
    "username = lines[0]\n",
    "password = lines[1]\n",
    "\n",
    "\n",
    "elementID = browser.find_element_by_id('username')\n",
    "elementID.send_keys(username)\n",
    "\n",
    "elementID = browser.find_element_by_id('password')\n",
    "elementID.send_keys(password)\n",
    "\n",
    "elementID.submit()"
   ]
  },
  {
   "cell_type": "markdown",
   "id": "after-express",
   "metadata": {},
   "source": [
    "## Below are the empty list which will be our final lists with scrapped data "
   ]
  },
  {
   "cell_type": "code",
   "execution_count": 7,
   "id": "transsexual-offense",
   "metadata": {},
   "outputs": [],
   "source": [
    "new = []\n",
    "new2 = []\n",
    "new3 = []"
   ]
  },
  {
   "cell_type": "code",
   "execution_count": 8,
   "id": "bacterial-thanks",
   "metadata": {},
   "outputs": [],
   "source": [
    "visitedprofile = []\n",
    "profilesqueued = []"
   ]
  },
  {
   "cell_type": "markdown",
   "id": "valued-bahamas",
   "metadata": {},
   "source": [
    "## Create a funtion to get the company profile, which will be saved in the list with variable named new."
   ]
  },
  {
   "cell_type": "code",
   "execution_count": 9,
   "id": "absent-armstrong",
   "metadata": {},
   "outputs": [],
   "source": [
    "def getnewprofileID(soup, profilesqueued):\n",
    "    profileID = []\n",
    "    mj = soup.find('section', {'class' : 'grid__col grid__col--lg-12 mb6'})\n",
    "    all_links = mj.findAll('a', {'class':'app-aware-link'})\n",
    "    for link in all_links:\n",
    "        userID = link.text\n",
    "        if((userID not in profilesqueued) and (userID not in visitedprofile)):\n",
    "            profileID.append(userID)\n",
    "    return profileID"
   ]
  },
  {
   "cell_type": "code",
   "execution_count": 10,
   "id": "focused-poster",
   "metadata": {},
   "outputs": [],
   "source": [
    "company_name = []\n",
    "profilesqueued2 = []"
   ]
  },
  {
   "cell_type": "markdown",
   "id": "liked-boating",
   "metadata": {},
   "source": [
    "## Create a funtion to get the company name, which will be saved in the list with variable named new2. "
   ]
  },
  {
   "cell_type": "code",
   "execution_count": 11,
   "id": "sexual-emperor",
   "metadata": {},
   "outputs": [],
   "source": [
    "def getcompanyname(soup, profilesqueued2):\n",
    "    profileID2 = []\n",
    "    mj = soup.find('section', {'class' : 'grid__col grid__col--lg-12 mb6'})\n",
    "    all_links = mj.findAll('div', {'class':'entity-result__primary-subtitle t-14 t-black'})\n",
    "    for link in all_links:\n",
    "        userID2 = link.text\n",
    "        if((userID2 not in profilesqueued2) and (userID2 not in company_name)):\n",
    "            profileID2.append(userID2)\n",
    "    return profileID2"
   ]
  },
  {
   "cell_type": "code",
   "execution_count": 12,
   "id": "boxed-google",
   "metadata": {},
   "outputs": [],
   "source": [
    "company_location = []\n",
    "profilesqueued3 = []"
   ]
  },
  {
   "cell_type": "markdown",
   "id": "innocent-fifth",
   "metadata": {},
   "source": [
    "## Create a funtion to get the company location, which will be saved in the list with variable named new3. "
   ]
  },
  {
   "cell_type": "code",
   "execution_count": 13,
   "id": "unexpected-preference",
   "metadata": {},
   "outputs": [],
   "source": [
    "def getcompanylocation(soup, profilesqueued2):\n",
    "    profileID3 = []\n",
    "    mj = soup.find('section', {'class' : 'grid__col grid__col--lg-12 mb6'})\n",
    "    all_links = mj.findAll('div', {'class':'entity-result__secondary-subtitle t-14'})\n",
    "    for link in all_links:\n",
    "        userID3 = link.text\n",
    "        if((userID3 not in profilesqueued3) and (userID3 not in company_location)):\n",
    "            profileID3.append(userID3)\n",
    "    return profileID3"
   ]
  },
  {
   "cell_type": "markdown",
   "id": "confidential-recovery",
   "metadata": {},
   "source": [
    "## There are total 73 pages, we have to scarp all of them. "
   ]
  },
  {
   "cell_type": "code",
   "execution_count": 14,
   "id": "renewable-cambodia",
   "metadata": {},
   "outputs": [],
   "source": [
    "nextlink = ['?start=10','?start=20','?start=30','?start=40','?start=50','?start=60','?start=70','?start=80','?start=90','?start=100','?start=110','?start=120','?start=130','?start=140','?start=150','?start=160','?start=170','?start=190','?start=200','?start=210','?start=220','?start=230','?start=240','?start=250','?start=260','?start=270','?start=280','?start=290','?start=300','?start=310','?start=320','?start=330','?start=340','?start=350','?start=360','?start=370','?start=380','?start=390','?start=400','?start=410','?start=420','?start=430','?start=440','?start=450','?start=460','?start=470','?start=480','?start=490','?start=500','?start=510','?start=520','?start=530','?start=540','?start=550','?start=560','?start=570','?start=580']"
   ]
  },
  {
   "cell_type": "code",
   "execution_count": 15,
   "id": "relevant-prompt",
   "metadata": {},
   "outputs": [],
   "source": [
    "for i in nextlink:\n",
    "    link = 'https://www.linkedin.com/my-items/saved-jobs/' + i\n",
    "    new.extend(getnewprofileID(BeautifulSoup(browser.page_source), profilesqueued))\n",
    "    new2.extend(getcompanyname(BeautifulSoup(browser.page_source), profilesqueued2))\n",
    "    new3.extend(getcompanylocation(BeautifulSoup(browser.page_source), profilesqueued3))\n",
    "    browser.get(link)"
   ]
  },
  {
   "cell_type": "code",
   "execution_count": 16,
   "id": "respective-destruction",
   "metadata": {},
   "outputs": [
    {
     "data": {
      "text/plain": [
       "944"
      ]
     },
     "execution_count": 16,
     "metadata": {},
     "output_type": "execute_result"
    }
   ],
   "source": [
    "len(new)\n"
   ]
  },
  {
   "cell_type": "code",
   "execution_count": 17,
   "id": "gentle-herald",
   "metadata": {},
   "outputs": [
    {
     "data": {
      "text/plain": [
       "0"
      ]
     },
     "execution_count": 17,
     "metadata": {},
     "output_type": "execute_result"
    }
   ],
   "source": [
    "len(new2)\n"
   ]
  },
  {
   "cell_type": "code",
   "execution_count": 18,
   "id": "hindu-projection",
   "metadata": {},
   "outputs": [
    {
     "data": {
      "text/plain": [
       "0"
      ]
     },
     "execution_count": 18,
     "metadata": {},
     "output_type": "execute_result"
    }
   ],
   "source": [
    "len(new3)\n"
   ]
  },
  {
   "cell_type": "markdown",
   "id": "optimum-reward",
   "metadata": {},
   "source": [
    "## Saving the scrap data of company post in the list named as new "
   ]
  },
  {
   "cell_type": "code",
   "execution_count": 19,
   "id": "neural-vocabulary",
   "metadata": {},
   "outputs": [],
   "source": [
    "data2 = {\n",
    "        'company_post' : new\n",
    "       \n",
    "        }"
   ]
  },
  {
   "cell_type": "code",
   "execution_count": 20,
   "id": "confidential-reward",
   "metadata": {},
   "outputs": [],
   "source": [
    "df2 = pd.DataFrame(data2)"
   ]
  },
  {
   "cell_type": "code",
   "execution_count": 21,
   "id": "nasty-trailer",
   "metadata": {},
   "outputs": [
    {
     "data": {
      "text/html": [
       "<div>\n",
       "<style scoped>\n",
       "    .dataframe tbody tr th:only-of-type {\n",
       "        vertical-align: middle;\n",
       "    }\n",
       "\n",
       "    .dataframe tbody tr th {\n",
       "        vertical-align: top;\n",
       "    }\n",
       "\n",
       "    .dataframe thead th {\n",
       "        text-align: right;\n",
       "    }\n",
       "</style>\n",
       "<table border=\"1\" class=\"dataframe\">\n",
       "  <thead>\n",
       "    <tr style=\"text-align: right;\">\n",
       "      <th></th>\n",
       "      <th>company_post</th>\n",
       "    </tr>\n",
       "  </thead>\n",
       "  <tbody>\n",
       "    <tr>\n",
       "      <th>0</th>\n",
       "      <td>\\n\\n\\n \\n\\n\\n</td>\n",
       "    </tr>\n",
       "    <tr>\n",
       "      <th>1</th>\n",
       "      <td>\\nBusiness Process Analyst (m/f/d)\\n</td>\n",
       "    </tr>\n",
       "    <tr>\n",
       "      <th>2</th>\n",
       "      <td>\\n\\n\\n \\n\\n\\n</td>\n",
       "    </tr>\n",
       "    <tr>\n",
       "      <th>3</th>\n",
       "      <td>\\nIT Business Analyst - Intelligent Customer E...</td>\n",
       "    </tr>\n",
       "    <tr>\n",
       "      <th>4</th>\n",
       "      <td>\\n\\n\\n \\n\\n\\n</td>\n",
       "    </tr>\n",
       "    <tr>\n",
       "      <th>...</th>\n",
       "      <td>...</td>\n",
       "    </tr>\n",
       "    <tr>\n",
       "      <th>939</th>\n",
       "      <td>\\nCloud Data Engineer (m/w/d)\\n</td>\n",
       "    </tr>\n",
       "    <tr>\n",
       "      <th>940</th>\n",
       "      <td>\\n\\n\\n \\n\\n\\n</td>\n",
       "    </tr>\n",
       "    <tr>\n",
       "      <th>941</th>\n",
       "      <td>\\nData Engineer*\\n</td>\n",
       "    </tr>\n",
       "    <tr>\n",
       "      <th>942</th>\n",
       "      <td>\\n\\n\\n \\n\\n\\n</td>\n",
       "    </tr>\n",
       "    <tr>\n",
       "      <th>943</th>\n",
       "      <td>\\nBig Data Engineer (Azure) - 100% Remote \\n</td>\n",
       "    </tr>\n",
       "  </tbody>\n",
       "</table>\n",
       "<p>944 rows × 1 columns</p>\n",
       "</div>"
      ],
      "text/plain": [
       "                                          company_post\n",
       "0                                        \\n\\n\\n \\n\\n\\n\n",
       "1                 \\nBusiness Process Analyst (m/f/d)\\n\n",
       "2                                        \\n\\n\\n \\n\\n\\n\n",
       "3    \\nIT Business Analyst - Intelligent Customer E...\n",
       "4                                        \\n\\n\\n \\n\\n\\n\n",
       "..                                                 ...\n",
       "939                    \\nCloud Data Engineer (m/w/d)\\n\n",
       "940                                      \\n\\n\\n \\n\\n\\n\n",
       "941                                 \\nData Engineer*\\n\n",
       "942                                      \\n\\n\\n \\n\\n\\n\n",
       "943       \\nBig Data Engineer (Azure) - 100% Remote \\n\n",
       "\n",
       "[944 rows x 1 columns]"
      ]
     },
     "execution_count": 21,
     "metadata": {},
     "output_type": "execute_result"
    }
   ],
   "source": [
    "df2"
   ]
  },
  {
   "cell_type": "code",
   "execution_count": 22,
   "id": "flying-sitting",
   "metadata": {},
   "outputs": [],
   "source": [
    "df2 = df2[df2.company_post != '\\n \\n \\n\\n\\n']\n",
    "df2 = df2[df2.company_post != '\\n\\n \\n\\n\\n\\n\\n\\n\\nApply\\n\\n\\n']\n",
    "df2 = df2[df2.company_post != '\\n\\n \\n\\n\\n\\n\\n\\n\\nEasily Apply\\n\\n\\n']"
   ]
  },
  {
   "cell_type": "code",
   "execution_count": 23,
   "id": "according-physiology",
   "metadata": {},
   "outputs": [],
   "source": [
    "df2['company_post'] = df2['company_post'].apply(lambda x: x.replace('\\n',''))"
   ]
  },
  {
   "cell_type": "code",
   "execution_count": 24,
   "id": "swiss-gauge",
   "metadata": {},
   "outputs": [
    {
     "data": {
      "text/html": [
       "<div>\n",
       "<style scoped>\n",
       "    .dataframe tbody tr th:only-of-type {\n",
       "        vertical-align: middle;\n",
       "    }\n",
       "\n",
       "    .dataframe tbody tr th {\n",
       "        vertical-align: top;\n",
       "    }\n",
       "\n",
       "    .dataframe thead th {\n",
       "        text-align: right;\n",
       "    }\n",
       "</style>\n",
       "<table border=\"1\" class=\"dataframe\">\n",
       "  <thead>\n",
       "    <tr style=\"text-align: right;\">\n",
       "      <th></th>\n",
       "      <th>company_post</th>\n",
       "    </tr>\n",
       "  </thead>\n",
       "  <tbody>\n",
       "    <tr>\n",
       "      <th>0</th>\n",
       "      <td></td>\n",
       "    </tr>\n",
       "    <tr>\n",
       "      <th>1</th>\n",
       "      <td>Business Process Analyst (m/f/d)</td>\n",
       "    </tr>\n",
       "    <tr>\n",
       "      <th>2</th>\n",
       "      <td></td>\n",
       "    </tr>\n",
       "    <tr>\n",
       "      <th>3</th>\n",
       "      <td>IT Business Analyst - Intelligent Customer Eng...</td>\n",
       "    </tr>\n",
       "    <tr>\n",
       "      <th>4</th>\n",
       "      <td></td>\n",
       "    </tr>\n",
       "    <tr>\n",
       "      <th>...</th>\n",
       "      <td>...</td>\n",
       "    </tr>\n",
       "    <tr>\n",
       "      <th>939</th>\n",
       "      <td>Cloud Data Engineer (m/w/d)</td>\n",
       "    </tr>\n",
       "    <tr>\n",
       "      <th>940</th>\n",
       "      <td></td>\n",
       "    </tr>\n",
       "    <tr>\n",
       "      <th>941</th>\n",
       "      <td>Data Engineer*</td>\n",
       "    </tr>\n",
       "    <tr>\n",
       "      <th>942</th>\n",
       "      <td></td>\n",
       "    </tr>\n",
       "    <tr>\n",
       "      <th>943</th>\n",
       "      <td>Big Data Engineer (Azure) - 100% Remote</td>\n",
       "    </tr>\n",
       "  </tbody>\n",
       "</table>\n",
       "<p>944 rows × 1 columns</p>\n",
       "</div>"
      ],
      "text/plain": [
       "                                          company_post\n",
       "0                                                     \n",
       "1                     Business Process Analyst (m/f/d)\n",
       "2                                                     \n",
       "3    IT Business Analyst - Intelligent Customer Eng...\n",
       "4                                                     \n",
       "..                                                 ...\n",
       "939                        Cloud Data Engineer (m/w/d)\n",
       "940                                                   \n",
       "941                                     Data Engineer*\n",
       "942                                                   \n",
       "943           Big Data Engineer (Azure) - 100% Remote \n",
       "\n",
       "[944 rows x 1 columns]"
      ]
     },
     "execution_count": 24,
     "metadata": {},
     "output_type": "execute_result"
    }
   ],
   "source": [
    "df2"
   ]
  },
  {
   "cell_type": "code",
   "execution_count": 25,
   "id": "funny-weapon",
   "metadata": {},
   "outputs": [
    {
     "data": {
      "text/plain": [
       "array([' ', 'Business Process Analyst (m/f/d)',\n",
       "       'IT Business Analyst - Intelligent Customer Engagement (m/f/d)- Merck KGaA Darmstadt, Germany',\n",
       "       'Software-Entwickler',\n",
       "       'Data Scientist - All locations | Home office',\n",
       "       'Werkstudent (m/w/d) im Bereich Learning & Development',\n",
       "       'Business Analyst / Prozessberater:in (m/w/divers) – Digitalisierung in der Energiewirtschaft (Teilzeit möglich, 80-100%)',\n",
       "       'Text data analyst - part-time [f/m/x]',\n",
       "       'Werkstudent Software Engineer (m/w/d)',\n",
       "       '(Senior) e-Commerce Analyst (w/m/d) FMCG',\n",
       "       'Freelance Video Lecturer (m/f/d) - Advanced Data Analysis',\n",
       "       'Computer Scientist - Data Science, Digital Oncology (m/f/d)- Deutsches Krebsforschungszentrum (DKFZ)',\n",
       "       'Software Engineer Data, Analytics & AI',\n",
       "       'Werkstudent Data Analyst / Data Science (w/m/d)',\n",
       "       'Intern / Working Student: Data Engineer *',\n",
       "       'Online Quality Map Analyst Germany',\n",
       "       'Business Analyst (m/w/d) - IT / Betriebswirtschaft / Banking',\n",
       "       'Werkstudent (w/m/d) im Accounting',\n",
       "       '(Senior) BI Analyst Marketing (m/w/x)',\n",
       "       'Werkstudent (w/m/d) mit IT-Affinität im Bereich Bildungswesen',\n",
       "       'Senior Data Scientist (m/f/d) for Vantage Towers',\n",
       "       'Werkstudent/in Data Analytics (m/w/d)',\n",
       "       'Werkstudent (w/m/d) für Treasury Payments, Backoffice & Credit Risk Intelligence',\n",
       "       'Working Student - Sales Operations Analyst',\n",
       "       'Werkstudent (w/m/d) Markt- und Wettbewerberanalyse',\n",
       "       'Werkstudent (w/m/d) Ersatzteileversorgung',\n",
       "       'Specialist Data Analytics and Assurance (m/f/d) for Vantage Towers',\n",
       "       'Werkstudent (w/m/d) für innovative Logistik',\n",
       "       'Werkstudent (w/m/d) Lean & Digitalization',\n",
       "       'Working Student Business Analyst (m/f/d)',\n",
       "       'Werkstudent (w/m/d) Market Intelligence',\n",
       "       'Operations Performance Analyst (f/m/d)',\n",
       "       'Data Analysis Academic Lead - Germany',\n",
       "       'Working Student (f/m/d) in Data & Business Intelligence Team',\n",
       "       'Internship - Consumer Insights & Market Intelligence - Market Europe (m/f/d)',\n",
       "       'Internship - Digital Analytics & Consumer Insights (m/f/d)',\n",
       "       'Intern Business Intelligence (m/f/d)', 'Associate Data Scientist',\n",
       "       'Intern Business Analytics - Operations (f/m/x)',\n",
       "       'Internship Venture Analyst',\n",
       "       'Senior Game Analyst / Data Analyst (m/f/x)',\n",
       "       'Data Analysis Instructor - Germany',\n",
       "       'Material Data Assistant (m/f/d)',\n",
       "       'Business Intelligence Analyst (m/w/d)',\n",
       "       'Working Student Business Intelligence',\n",
       "       'Data Analyst (m/f/d) - Marketing, Sales & Common Analytics',\n",
       "       'Junior Business Analyst - Recruitment Intelligence (f/m/d)',\n",
       "       'BI Analyst (gn)', 'Data Scientist Hydrometeorology (m/f/d)',\n",
       "       'Intern Quantitative Analytics (f/m/x)', 'Data Analyst (f/m/d)',\n",
       "       'Internship Analytics Consulting (m/f/d)',\n",
       "       'Master Thesis Intern - Strategy & Analytics (m/w/d)',\n",
       "       'Internship Operational Business Data Analyst (m/f/d)',\n",
       "       'Intern - Data Analyst and Process Mining Architect',\n",
       "       'Working Student (m/f/d) – Business Analyst',\n",
       "       'Working Student (f/m/d) Business Development Analyst',\n",
       "       'Data Scientist intern', 'CRM Administrator ',\n",
       "       'Intern Data Scientist (m/f/d)',\n",
       "       'Intern (m/f/d) Fixed Income Product Development – Data Analysis (starting Oct / Nov 2021)',\n",
       "       'Internship Business Analyst',\n",
       "       'Working student (f/m/d) Data Warehouse Data Analyst',\n",
       "       'Trainee - Data Analyst (m/w/d) (Esport)',\n",
       "       'Working Student (f/m/d) Data Analysis and Visualization',\n",
       "       'Werkstudent (m/w/d) Data Science Power BI',\n",
       "       'Data Analyst Intern (d/f/m)',\n",
       "       'Werkstudent (m/w/d) Data Scientist/ Analyst - Remote-Arbeit',\n",
       "       'GEN-C Graduate Program - AI / Analytics / Data Science / BI / Big Data Junior Analyst / Analyste (m/w/d) MIT COGNIZANT VOM JUNIOR ZUM PROFESSIONAL (H/F)',\n",
       "       'Junior Business Analyst (f/m/d)',\n",
       "       'Data Analysis/Science Internship Program 2022',\n",
       "       'Business Analyst (paid internship)',\n",
       "       'Specialist Data Analysis (m/f/d) - Remote Option GER',\n",
       "       'Trainee Data Analytics (w/m/d)', 'BI Intern (d/f/m)',\n",
       "       'Business Intelligence Analyst',\n",
       "       'Senior Data Specialist (m/f/x) (Analytics / Data Engineering / Data Science)',\n",
       "       'Data Analyst App Marketing (m|f|x)', 'BI Analyst (f/m/d)',\n",
       "       'IIoT Business Data Analyst (m/f/d)', 'Data Analyst (m|f|d)',\n",
       "       'Junior Data Scientist (m/w/d)',\n",
       "       'Business Intelligence Analyst (f/m/d)', 'Data Scientist (m/w/d)',\n",
       "       'BI Analyst - Schwerpunkt Digital Content Analytics (m/w/d)',\n",
       "       'Consultant Visual Analytics / Intelligence (all genders)',\n",
       "       'BI Analyst - International SCM Analytics (m/f/x)',\n",
       "       'Product Analyst (all genders)', 'Data Anlyst EU',\n",
       "       'Analytics & Data Consultant, Tableau',\n",
       "       'Senior Data Analyst (m/f/d) - Business Intelligence',\n",
       "       'Business Intelligence Developer (d/f/m) SAS',\n",
       "       '(Senior) Consultant Data Analytics (m/w/d)',\n",
       "       'Senior Data Analyst - Wholesale Analytics',\n",
       "       'Business Intelligence Developer',\n",
       "       'Pre-Sales Solution Engineer, BI & Analytics, Tableau',\n",
       "       'Sales Data Analyst - Etail',\n",
       "       'Analyst (m/w/d) Intelligent Analytics and Insights',\n",
       "       'Data Analyst (m/f/d)',\n",
       "       'Data Analyst Production International (m/f/x)', 'Analyst (w/m/d)',\n",
       "       'Data Analyst', 'Data Analyst (m/f/d) Security & Loss Prevention',\n",
       "       'BI Analyst',\n",
       "       'Duales Studium: Bachelor of Science Angewandte Mathematik und Informatik (m/w/d) 2021 & 2022- Mathematisch-technischer Softwareentwickler',\n",
       "       'Praktikant / Werkstudent Data Analyst (m/w/d) Financial Services Industry in Frankfurt (Main)',\n",
       "       'Praktikant / Werkstudent Data Analyst (m/w/d) Financial Services Industry',\n",
       "       'GEN-C Graduate Program - AI / Analytics / Data Science / BI / Big Data Junior Analyst (m/w/d) MIT COGNIZANT VOM JUNIOR ZUM PROFESSIONAL',\n",
       "       'Working Student - Data Engineer (f/m/d)',\n",
       "       'Private Equity (Big Data) Analyst Intern (f/m/x)',\n",
       "       'Werkstudent/in (m/w/d) im Bereich Finance (Accounting)',\n",
       "       'Abschlussarbeit / Praktikum im Bereich der Künstlichen Intelligenz / Data Scientist (m/w/d) at TPN² - Transformation Partner Network',\n",
       "       'Praktikant / Werkstudent Business Analyst (m/w/d)',\n",
       "       'Internship - Strategy & Analytics (m/w/d)',\n",
       "       'Thesis Analyst - 6-months Internship - Germany',\n",
       "       'Intern Business Analyst (m/f/d)',\n",
       "       'Business Analyst Intern - Fintech (m/w/d)',\n",
       "       'Working Student - Data Analyst and Process Mining Architect',\n",
       "       '(Junior) Business Analyst', 'Data Analyst for Product (f/m/d)',\n",
       "       'Data Analyst - Marketing and Sales (m/f/d)',\n",
       "       '(Junior) Data Analyst (m/f/d)',\n",
       "       'Business Intelligence Data Scientist (m/w/d)',\n",
       "       'Junior Data Scientist', 'Data Analyst (all genders)',\n",
       "       'Data Analyst - Product (m/f/d)',\n",
       "       'Insights and Analyst Specialist',\n",
       "       'Data Analyst Strategic Products (m/f/d)', 'Business Analyst',\n",
       "       '(Senior) Data Analyst (m/f/d) Munich', 'Business Analyst (m/f/d)',\n",
       "       'Application Analyst', 'BI Analyst / PowerBI Specialist (m/w/d)',\n",
       "       'Senior Business Intelligence Analyst (m/w/d)',\n",
       "       'Senior Product Data Scientist', 'Business Analyst (m/w/d)',\n",
       "       'Junior Business Analyst (m/w/d)',\n",
       "       'Manager Data Intelligence / Data Analyst (m/w/d)',\n",
       "       'Technology Analyst (m/w/d)', 'Product Analyst',\n",
       "       'Data Analyst (m/w/d)', 'Lead Analyst (w/m/d)',\n",
       "       '(Senior) Data Analyst (m/f/d)', 'Data Analyst CRM*',\n",
       "       'Marketing Data Analyst',\n",
       "       'Junior International Food Safety&Quality Assurance Data Analyst (m/f/x)',\n",
       "       'Retail Support Analyst', 'Analyst (m/w/d) Strategy & Operations',\n",
       "       'Product Analyst DACH (f/m/d/x)', 'Microsoft Power BI Consultant',\n",
       "       'Business Analyst - Life Insurance (all genders)',\n",
       "       '(Senior) Data Analyst - BI, Orpheus',\n",
       "       'Junior IT Market Analyst (m/w/d) ',\n",
       "       'Insights Analyst - EMEA Remote', 'Internet Analyst',\n",
       "       'Market Insights Analyst EMEA', 'Data Analyst EV Charging Infra',\n",
       "       'Marketing Data Analyst (m/f/d)', 'BI (Data) Analyst',\n",
       "       'Data Analyst - OneFootball Network',\n",
       "       'Data Analyst Leittechnik (w/m/d)',\n",
       "       'Intern Operations Strategy (m/f/d)',\n",
       "       'Business Intelligence Analyst (m/f/d) - based in Europe',\n",
       "       'Junior Online Analyst (w/m/d)',\n",
       "       '(Senior) Data Analyst (m/w/d) - Power BI', 'Game Analyst',\n",
       "       'Data Analyst, Q-Commerce Analytics (f/m/d)',\n",
       "       'Business Intelligence Analyst (m/f/d)',\n",
       "       'Business Intelligence Analyst (m/f/d) in Berlin',\n",
       "       'Data Analyst - Digital Content (m/f/d)',\n",
       "       'Business Intelligence Data Analyst (f/m/x)',\n",
       "       'Digital Analyst (m/w/d)',\n",
       "       'Business Analyst/Consultant (m/f/o) Cloud Transformation - Your entry in Consulting in Berlin',\n",
       "       'Business Analyst/Consultant (m/f/o) Cloud Transformation - Your entry in Consulting in Hamburg',\n",
       "       'Business Data Analyst',\n",
       "       'Business & Data Analyst (m/w/d) Catena - X',\n",
       "       'Commercial Planning Analyst', 'Data Insights Analyst (f/m/d)',\n",
       "       'Data Analyst, SPIM EMEA', 'Social Media Analyst',\n",
       "       'Data Analyst in Pricing Systems (m/f/d) - Remote Option GER',\n",
       "       'Master Data Associate', 'Junior Data Analyst (m/w/d)',\n",
       "       'Junior Capabilities & Insights Analyst (m/w/d) – Aerospace & Defense',\n",
       "       'Data Analyst Logistics Network Planning (m/w/d)',\n",
       "       'Business Analyst (M/W/D)',\n",
       "       'Junior Insight Analyst (w/m/d) Band 9',\n",
       "       'Customer Data Analyst (f/m/d)', 'Data Analyst (f,m,d)',\n",
       "       'Data Analyst (f/m/x)', 'Junior Analyst: Part-Time (M/F/D)',\n",
       "       'Business Analyst/Consultant (m/f/o) Cloud Transformation - Your entry in Consulting',\n",
       "       'Data Analyst - Go to Market (Berlin)',\n",
       "       '(Junior) Data Analyst (w/m/d)', 'Pricing Data Analyst (f/m/d)',\n",
       "       'Business Data Analyst (m/f/d)',\n",
       "       'BI Analyst, Bangkok based (relocation provided)',\n",
       "       'Graduate Data Analyst', '(Junior) Data analyst (m/f/x)',\n",
       "       'Associate Business Analyst-SAP',\n",
       "       'Business Analyst - Intune Implementation (m/w/d)',\n",
       "       'Data Analyst (m/f/d) Business Intelligence',\n",
       "       'Data Analyst (m/f/x)',\n",
       "       'Business Analyst - Anwendungsunterstützung (all genders)',\n",
       "       'Data Analyst for internal Audit (m/f/d)',\n",
       "       'Analyst - Business Intelligence', 'Loan IQ Business Analyst',\n",
       "       'Business Analyst  (Product Owner)',\n",
       "       'DWH/BI Designer & Analyst (w/m/d)',\n",
       "       'Talent Acquisition Partner, Analytics',\n",
       "       'Business Analyst (m/w/d) Management Consulting Energiesektor - Hamburg',\n",
       "       'Software Engineer in Support', 'IT Business Analyst, Senior',\n",
       "       'Lead Consultant / Servity / IT Shop / Business Analyst (m/f/d)',\n",
       "       'Business Analyst - Rankings (m/f/x)',\n",
       "       'Data Scientist E-Commerce Optimization (m/w/d)',\n",
       "       'Data Engineer (m/f/d)', 'Data Scientist',\n",
       "       'REMOTE ETL Data Engineer (m/w/d)', 'Data Engineer (w/m/d)',\n",
       "       'Data Engineer',\n",
       "       'Oliver Wyman - Senior Analyst - Digital Data & Analytics - Berlin',\n",
       "       'Business Intelligence Specialist / Data Engineer (m/f/d)',\n",
       "       'Junior Data and AI Engineer Google Cloud (all genders)',\n",
       "       '(Junior) Data Scientist', 'Data Analyst (m/w/d) E-Commerce',\n",
       "       'Senior Analyst Customer-centric Pricing',\n",
       "       'Analyst eCommerce (m/f/d)',\n",
       "       'Data Engineer for Retail Operations (w/m/d)',\n",
       "       'Business Intelligence Specialist / Data Engineer (m/w/d)',\n",
       "       'IT Business Analyst - SAP Finance and Controlling',\n",
       "       'Data Engineer Azure (m/w/d)',\n",
       "       'Working student or internship (m/f/d) „Environmental and LCA data analyst“',\n",
       "       'Data Engineer (m/w/d) ', 'Data Engineer - German Speaking',\n",
       "       'Adobe Experience Cloud Data Scientist (all genders)',\n",
       "       'Publicis Media - Data Engineer (m/w/d) - deutschlandweit',\n",
       "       'Data Analyst / Data Scientist / System Engineer MySQL (m/w/d) IT-Sicherheit / IT-Compliance',\n",
       "       'Lead Data Engineer / Consultant (m/f/d)', 'BI Developer ',\n",
       "       '(Senior) Business Intelligence Developer - Tableau (m/f/d)',\n",
       "       'Business Analyst/Programmer',\n",
       "       'Data Analyst (m/w/d) Bereich Data Warehouse - Allemagne',\n",
       "       'Data Engineer (m/w/d), befristet für 12 Monate',\n",
       "       'Junior Business Analyst (m/w/d) Acqua di Parma',\n",
       "       'Master@IBM - Data Science & AI Application Engineer (m/w/x)',\n",
       "       'Software Engineer Data Intelligence (d/f/m)',\n",
       "       'Data Analyst (m/w/d) im HR Marketing',\n",
       "       'Data Engineer mit BI Skills (d/m/w)',\n",
       "       'Data Engineer (m/w/d) Advanced Intelligence',\n",
       "       'Data Analyst/Scientist eCommerce Logistik (w/m/d)',\n",
       "       'Senior Data Engineer', 'Software Engineer (m/f/d)',\n",
       "       'Business Analyst - Inflight Sales IT (m/f/d)',\n",
       "       'Python Data Engineer (f/m/x)', 'Data Engineer (Office or Remote)',\n",
       "       'Senior Data Scientist (m/w/d)', 'Data Engineer (m/w/d)',\n",
       "       'Data Scientist (w/m/d)', 'Data Analyst (w/d/m)',\n",
       "       'Business Analyst - Category Management (f/m/d)',\n",
       "       'Business Analyst Learning and Development',\n",
       "       'Data Scientist - Python and SQL - Start 5th July',\n",
       "       'Data Analyst (d/w/m)', 'Data Engineer - Remote (EU)',\n",
       "       '(Senior) Consultant (m/f/d) Data Scientist – any German office',\n",
       "       'BI Developer & Data Analyst ', 'Analytics Engineer',\n",
       "       'Data Analyst (w/m/d)', 'Data Analyst - Marketing Intelligence',\n",
       "       'Analyst, Pricing and Deal Desk',\n",
       "       'Analyst, Renewable Energy - Power Solutions',\n",
       "       'Analyst Wirtschaftlichkeitsrechnung und finanzielle Bewertung (w/m/d)',\n",
       "       'Working Student Analyst',\n",
       "       'Business Intelligence Consultant (m/f/div)',\n",
       "       '(Graduate) Business Analyst (m/w/d)',\n",
       "       'Business Intelligence Data Warehouse Consultant',\n",
       "       'Business Intelligence Engineer Intern - Germany',\n",
       "       'BI Entwickler Tableau (w/m/d)',\n",
       "       'Fraud Data Analyst (Bangkok based, relocation provided)',\n",
       "       'Product Analyst: Back Office', 'Senior Data Analyst',\n",
       "       'Data Analyst (x/f/m)', 'Business Intelligence Engineer',\n",
       "       'Specialist Product Analytics (m/w/d)',\n",
       "       'Specialist Data Science (M/F/D)', 'Data Consultant - Product',\n",
       "       'IT Business Analyst - Data Analytics (m/f/d)',\n",
       "       'Data Analyst Marketing Intelligence- Zalando Lounge',\n",
       "       'Junior Business Analyst B2B (d/m/w)',\n",
       "       'Graduate Data Analyst (m/w/d)',\n",
       "       'Intern / Working Student: Data Engineer (f/m/d)',\n",
       "       'Product Data Analyst (m/f/x)',\n",
       "       'Business Intelligence Analyst - Customer Intelligence (Zalando Lounge) - (W,M,D)',\n",
       "       'Sales Data Scientist', '(Junior) Data Analyst (m/w/x)',\n",
       "       'BI Analyst (m/w/d)', 'Data-Analyst Intern (w/m/d)',\n",
       "       'Mobile App Analytics Specialist (m/f/x)',\n",
       "       'Technical Architect, BI & Analytics - Tableau',\n",
       "       'Product Analyst (m/f/x)', 'Data Insights Analyst (f/x/m)',\n",
       "       '(Junior) Data Scientist (w/m/d)', 'Data Analyst - Lounge Pricing',\n",
       "       'Business Intelligence Analyst heycar Group (m/f/d)',\n",
       "       'Data scientist - freelance (contract)', 'Game Data Analyst',\n",
       "       'Operations Intelligence Associate (m/f/d) ',\n",
       "       'Business Intelligence Analyst (m/f/d)  – in Munich',\n",
       "       'Senior Data Analyst - Product (m/f/d)',\n",
       "       '(Senior) Data Analyst - Operations Analytics (m/f/d)',\n",
       "       'Senior Analytics Engineer - Operations Analytics (m/f/d)',\n",
       "       'Marketing BI Analyst (w/m/d)', 'Data Analyst (M/W/D)',\n",
       "       'Business Intelligence Analyst (m/f/x))',\n",
       "       'Junior Business Intelligence Analyst (m/w/d) Elternzeitvertretung',\n",
       "       'Junior Product Analyst', 'Data & Analytics Consultant, Tableau',\n",
       "       'Marketing Data Analyst (f/m/x)',\n",
       "       'Working Student Market Research (f/m/d)',\n",
       "       'Working Student Content Creator (Video)',\n",
       "       'Working Student (f/m/d) Data Science Consulting', 'Werkstudent',\n",
       "       'Werkstudent/Business Intern (m/w/d) i.s.h.med Consulting',\n",
       "       'Working Student - Assortment Management Business Analyst (m/f/d)',\n",
       "       'Working Student (f/m/d) - Business Process Intelligence Support',\n",
       "       'Werkstudent, Datenanalyst',\n",
       "       'Werkstudent (m/w/d) im Bereich Insights Analytics',\n",
       "       'Werkstudent (w/m/d) Data Integration & Analytics',\n",
       "       'Werkstudent (m/w/d) Analytics und Reporting',\n",
       "       'Werkstudent Operations Strategy & Analytics (m/w/d)',\n",
       "       'Alteryx / Tableau Analyst (m/w/d)',\n",
       "       'Business Intelligence Analyst - Global BI (f/m/x)',\n",
       "       'Junior Business Intelligence Analyst (f/m/d)',\n",
       "       'Data Analyst - freelance (contract)', 'Data Engineer (f,m,d)',\n",
       "       'Data Analyst (m/w/d) Customer Relationship Management',\n",
       "       'Data Scientist - Advanced Analytics',\n",
       "       'Insights Analyst (Analytics Engineer) - EMEA Remote',\n",
       "       'Product Data Analyst (f/m/x)', 'Data Engineer (m/f/x)',\n",
       "       'DATA ENGINEER (W/M/D)',\n",
       "       'Working Student Business Operations (f/m/x)',\n",
       "       'Business Operations Working Student - Remote',\n",
       "       'Working Student - Business Development Team',\n",
       "       'Working Student (m/f/x) – Marketing Optimization',\n",
       "       'Working Student, Alexa EU', 'Sales Operations Working Student',\n",
       "       'Working Student (f/m/d): Design Working Student',\n",
       "       'Working Student - Data Engineering (f/m/x)',\n",
       "       'Working Student Insights & Analytics (f/d/m)',\n",
       "       'Working Student Local Shops (f/m/d)',\n",
       "       'Banking Operations Working Student',\n",
       "       'Azure Data Engineer (f/m/d)',\n",
       "       'Data Scientist – Quantitative Finance (m/f/d)',\n",
       "       '(Senior) Consultant (m/w/d) Microsoft-Azure & -Power BI',\n",
       "       'Cloud Data Engineer (m/w/d)', 'Data Engineer*',\n",
       "       'Big Data Engineer (Azure) - 100% Remote '], dtype=object)"
      ]
     },
     "execution_count": 25,
     "metadata": {},
     "output_type": "execute_result"
    }
   ],
   "source": [
    "df2.company_post.unique()"
   ]
  },
  {
   "cell_type": "code",
   "execution_count": 26,
   "id": "integral-moore",
   "metadata": {},
   "outputs": [],
   "source": [
    "df2 = df2[df2.company_post != ' Deutsche Bahn International']"
   ]
  },
  {
   "cell_type": "code",
   "execution_count": 27,
   "id": "composite-knock",
   "metadata": {},
   "outputs": [],
   "source": [
    "df2 = df2[df2.company_post != '  ']"
   ]
  },
  {
   "cell_type": "code",
   "execution_count": 28,
   "id": "superb-phenomenon",
   "metadata": {},
   "outputs": [],
   "source": [
    "file_name_companypost = 'linked_in_companypost.xlsx'"
   ]
  },
  {
   "cell_type": "code",
   "execution_count": 29,
   "id": "gentle-investigation",
   "metadata": {},
   "outputs": [],
   "source": [
    "file_name_location_name = 'linked_in_location_name.xlsx'"
   ]
  },
  {
   "cell_type": "markdown",
   "id": "sorted-register",
   "metadata": {},
   "source": [
    "## saving scrap data of the company name in the list named as new2 "
   ]
  },
  {
   "cell_type": "code",
   "execution_count": 30,
   "id": "chicken-occasion",
   "metadata": {},
   "outputs": [],
   "source": [
    "data = {\n",
    "        'company_name' : new2\n",
    "       \n",
    "        }"
   ]
  },
  {
   "cell_type": "code",
   "execution_count": 31,
   "id": "effective-footage",
   "metadata": {},
   "outputs": [],
   "source": [
    "df = pd.DataFrame(data)"
   ]
  },
  {
   "cell_type": "markdown",
   "id": "analyzed-consumption",
   "metadata": {},
   "source": [
    "## Saving scrap data of the comapny location in the list named as new3 "
   ]
  },
  {
   "cell_type": "code",
   "execution_count": 32,
   "id": "martial-anderson",
   "metadata": {},
   "outputs": [],
   "source": [
    "data3 = {\n",
    "        'company_location' : new3\n",
    "       \n",
    "        }"
   ]
  },
  {
   "cell_type": "code",
   "execution_count": 33,
   "id": "present-placement",
   "metadata": {},
   "outputs": [],
   "source": [
    "df3 = pd.DataFrame(data3)"
   ]
  },
  {
   "cell_type": "code",
   "execution_count": 34,
   "id": "unusual-november",
   "metadata": {},
   "outputs": [],
   "source": [
    "df.to_excel(file_name_location_name)"
   ]
  },
  {
   "cell_type": "code",
   "execution_count": 35,
   "id": "linear-mixer",
   "metadata": {},
   "outputs": [],
   "source": [
    "df2.to_excel(file_name_companypost)"
   ]
  },
  {
   "cell_type": "code",
   "execution_count": 107,
   "id": "unknown-collaboration",
   "metadata": {},
   "outputs": [],
   "source": []
  },
  {
   "cell_type": "code",
   "execution_count": 108,
   "id": "visible-referral",
   "metadata": {},
   "outputs": [],
   "source": []
  },
  {
   "cell_type": "code",
   "execution_count": 109,
   "id": "decreased-rehabilitation",
   "metadata": {},
   "outputs": [],
   "source": []
  },
  {
   "cell_type": "code",
   "execution_count": 113,
   "id": "given-cherry",
   "metadata": {},
   "outputs": [],
   "source": []
  },
  {
   "cell_type": "code",
   "execution_count": null,
   "id": "domestic-prefix",
   "metadata": {},
   "outputs": [],
   "source": []
  },
  {
   "cell_type": "code",
   "execution_count": null,
   "id": "expanded-scholarship",
   "metadata": {},
   "outputs": [],
   "source": []
  }
 ],
 "metadata": {
  "kernelspec": {
   "display_name": "Python 3",
   "language": "python",
   "name": "python3"
  },
  "language_info": {
   "codemirror_mode": {
    "name": "ipython",
    "version": 3
   },
   "file_extension": ".py",
   "mimetype": "text/x-python",
   "name": "python",
   "nbconvert_exporter": "python",
   "pygments_lexer": "ipython3",
   "version": "3.8.8"
  }
 },
 "nbformat": 4,
 "nbformat_minor": 5
}
