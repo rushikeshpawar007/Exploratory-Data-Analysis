{
 "cells": [
  {
   "cell_type": "code",
   "execution_count": 2,
   "id": "interior-picking",
   "metadata": {},
   "outputs": [
    {
     "name": "stdout",
     "output_type": "stream",
     "text": [
      "Collecting ocrmypdf\n",
      "  Downloading ocrmypdf-12.2.0-py36-none-any.whl (139 kB)\n",
      "Collecting pdfminer.six!=20200720,<=20201018,>=20191110\n",
      "  Downloading pdfminer.six-20201018-py3-none-any.whl (5.6 MB)\n",
      "Collecting pluggy<1.0,>=0.13.0\n",
      "  Downloading pluggy-0.13.1-py2.py3-none-any.whl (18 kB)\n",
      "Collecting coloredlogs>=14.0\n",
      "  Downloading coloredlogs-15.0.1-py2.py3-none-any.whl (46 kB)\n",
      "Collecting reportlab>=3.5.66\n",
      "  Downloading reportlab-3.5.67-cp39-cp39-win_amd64.whl (2.3 MB)\n",
      "Requirement already satisfied: tqdm>=4 in c:\\users\\rushikesh\\appdata\\local\\programs\\python\\python39\\lib\\site-packages (from ocrmypdf) (4.60.0)\n",
      "Collecting img2pdf<0.5,>=0.3.0\n",
      "  Downloading img2pdf-0.4.1-py3-none-any.whl (41 kB)\n",
      "Requirement already satisfied: cffi>=1.9.1 in c:\\users\\rushikesh\\appdata\\local\\programs\\python\\python39\\lib\\site-packages (from ocrmypdf) (1.14.5)\n",
      "Requirement already satisfied: setuptools in c:\\users\\rushikesh\\appdata\\local\\programs\\python\\python39\\lib\\site-packages (from ocrmypdf) (49.2.1)\n",
      "Collecting Pillow>=8.2.0\n",
      "  Downloading Pillow-8.2.0-cp39-cp39-win_amd64.whl (2.2 MB)\n",
      "Collecting pikepdf>=2.10.0\n",
      "  Downloading pikepdf-2.13.0-cp39-cp39-win_amd64.whl (2.4 MB)\n",
      "Requirement already satisfied: pycparser in c:\\users\\rushikesh\\appdata\\local\\programs\\python\\python39\\lib\\site-packages (from cffi>=1.9.1->ocrmypdf) (2.20)\n",
      "Collecting humanfriendly>=9.1\n",
      "  Downloading humanfriendly-9.2-py2.py3-none-any.whl (86 kB)\n",
      "Collecting pyreadline\n",
      "  Downloading pyreadline-2.1.zip (109 kB)\n",
      "Requirement already satisfied: chardet in c:\\users\\rushikesh\\appdata\\local\\programs\\python\\python39\\lib\\site-packages (from pdfminer.six!=20200720,<=20201018,>=20191110->ocrmypdf) (4.0.0)\n",
      "Collecting cryptography\n",
      "  Downloading cryptography-3.4.7-cp36-abi3-win_amd64.whl (1.6 MB)\n",
      "Collecting sortedcontainers\n",
      "  Downloading sortedcontainers-2.4.0-py2.py3-none-any.whl (29 kB)\n",
      "Requirement already satisfied: lxml>=4.0 in c:\\users\\rushikesh\\appdata\\local\\programs\\python\\python39\\lib\\site-packages (from pikepdf>=2.10.0->ocrmypdf) (4.6.3)\n",
      "Using legacy 'setup.py install' for pyreadline, since package 'wheel' is not installed.\n",
      "Installing collected packages: pyreadline, Pillow, sortedcontainers, pikepdf, humanfriendly, cryptography, reportlab, pluggy, pdfminer.six, img2pdf, coloredlogs, ocrmypdf\n",
      "    Running setup.py install for pyreadline: started\n",
      "    Running setup.py install for pyreadline: finished with status 'done'\n",
      "  Attempting uninstall: Pillow\n",
      "    Found existing installation: Pillow 8.1.2\n",
      "    Uninstalling Pillow-8.1.2:\n",
      "      Successfully uninstalled Pillow-8.1.2\n",
      "Successfully installed Pillow-8.2.0 coloredlogs-15.0.1 cryptography-3.4.7 humanfriendly-9.2 img2pdf-0.4.1 ocrmypdf-12.2.0 pdfminer.six-20201018 pikepdf-2.13.0 pluggy-0.13.1 pyreadline-2.1 reportlab-3.5.67 sortedcontainers-2.4.0\n",
      "Note: you may need to restart the kernel to use updated packages.\n"
     ]
    },
    {
     "name": "stderr",
     "output_type": "stream",
     "text": [
      "WARNING: You are using pip version 21.1.1; however, version 21.1.2 is available.\n",
      "You should consider upgrading via the 'c:\\users\\rushikesh\\appdata\\local\\programs\\python\\python39\\python.exe -m pip install --upgrade pip' command.\n"
     ]
    }
   ],
   "source": [
    "pip install ocrmypdf "
   ]
  },
  {
   "cell_type": "code",
   "execution_count": 3,
   "id": "hollow-residence",
   "metadata": {},
   "outputs": [
    {
     "name": "stdout",
     "output_type": "stream",
     "text": [
      "Collecting pdfplumber\n",
      "  Downloading pdfplumber-0.5.28.tar.gz (45 kB)\n",
      "Collecting pdfminer.six==20200517\n",
      "  Downloading pdfminer.six-20200517-py3-none-any.whl (5.6 MB)\n",
      "Requirement already satisfied: Pillow>=7.0.0 in c:\\users\\rushikesh\\appdata\\local\\programs\\python\\python39\\lib\\site-packages (from pdfplumber) (8.2.0)\n",
      "Collecting Wand\n",
      "  Downloading Wand-0.6.6-py2.py3-none-any.whl (138 kB)\n",
      "Requirement already satisfied: sortedcontainers in c:\\users\\rushikesh\\appdata\\local\\programs\\python\\python39\\lib\\site-packages (from pdfminer.six==20200517->pdfplumber) (2.4.0)\n",
      "Requirement already satisfied: chardet in c:\\users\\rushikesh\\appdata\\local\\programs\\python\\python39\\lib\\site-packages (from pdfminer.six==20200517->pdfplumber) (4.0.0)\n",
      "Collecting pycryptodome\n",
      "  Downloading pycryptodome-3.10.1-cp35-abi3-win_amd64.whl (1.6 MB)\n",
      "Using legacy 'setup.py install' for pdfplumber, since package 'wheel' is not installed.\n",
      "Installing collected packages: pycryptodome, Wand, pdfminer.six, pdfplumber\n",
      "  Attempting uninstall: pdfminer.six\n",
      "    Found existing installation: pdfminer.six 20201018\n",
      "    Uninstalling pdfminer.six-20201018:\n",
      "      Successfully uninstalled pdfminer.six-20201018\n",
      "    Running setup.py install for pdfplumber: started\n",
      "    Running setup.py install for pdfplumber: finished with status 'done'\n",
      "Successfully installed Wand-0.6.6 pdfminer.six-20200517 pdfplumber-0.5.28 pycryptodome-3.10.1\n",
      "Note: you may need to restart the kernel to use updated packages.\n"
     ]
    },
    {
     "name": "stderr",
     "output_type": "stream",
     "text": [
      "WARNING: You are using pip version 21.1.1; however, version 21.1.2 is available.\n",
      "You should consider upgrading via the 'c:\\users\\rushikesh\\appdata\\local\\programs\\python\\python39\\python.exe -m pip install --upgrade pip' command.\n"
     ]
    }
   ],
   "source": [
    "pip install pdfplumber"
   ]
  },
  {
   "cell_type": "code",
   "execution_count": 7,
   "id": "crucial-bunch",
   "metadata": {},
   "outputs": [
    {
     "name": "stdout",
     "output_type": "stream",
     "text": [
      "Collecting pytesseract\n",
      "  Downloading pytesseract-0.3.7.tar.gz (13 kB)\n",
      "Requirement already satisfied: Pillow in c:\\users\\rushikesh\\appdata\\local\\programs\\python\\python39\\lib\\site-packages (from pytesseract) (8.2.0)\n",
      "Using legacy 'setup.py install' for pytesseract, since package 'wheel' is not installed.\n",
      "Installing collected packages: pytesseract\n",
      "    Running setup.py install for pytesseract: started\n",
      "    Running setup.py install for pytesseract: finished with status 'done'\n",
      "Successfully installed pytesseract-0.3.7\n",
      "Note: you may need to restart the kernel to use updated packages.\n"
     ]
    },
    {
     "name": "stderr",
     "output_type": "stream",
     "text": [
      "WARNING: You are using pip version 21.1.1; however, version 21.1.2 is available.\n",
      "You should consider upgrading via the 'c:\\users\\rushikesh\\appdata\\local\\programs\\python\\python39\\python.exe -m pip install --upgrade pip' command.\n"
     ]
    }
   ],
   "source": [
    "pip install pytesseract"
   ]
  },
  {
   "cell_type": "code",
   "execution_count": 13,
   "id": "primary-controversy",
   "metadata": {},
   "outputs": [],
   "source": [
    "import os\n",
    "import pytesseract\n",
    "import requests\n",
    "import pdfplumber"
   ]
  },
  {
   "cell_type": "code",
   "execution_count": null,
   "id": "considered-affect",
   "metadata": {},
   "outputs": [],
   "source": [
    "invoice_pdf = \"C:/Users/Rushikesh/Desktop/web scrapping/Pankaj/Scan 22 Jun 2021.pdf\""
   ]
  },
  {
   "cell_type": "code",
   "execution_count": 15,
   "id": "bulgarian-navigator",
   "metadata": {},
   "outputs": [
    {
     "name": "stdout",
     "output_type": "stream",
     "text": [
      "FREUDENBERG \n",
      "Freudenberg \n",
      "Service \n",
      "INNOVATING TOGETHER \n",
      "Stand: April 2021 \n",
      "Name Vornamne Geb Datum  Firma \n",
      "Informationsblatt und Einverständniserklärung zur \n",
      "(betriebs-) ärztlichen Untersuchung oder weiteren Behandlung \n",
      "Sehr geehrte Mitarbeiterin, sehr geehrter Mitarbeiter, \n",
      "wir  möchten Sie  ganz  herzlich in  unserem  betriebsärztlichen  arbeitsmedizinischen  Dienst  (AMD) \n",
      "begrußen und bedanken uns für Ihr Vertrauen. Mit diesem Informationsblatt möchten wir Ihnen weitere \n",
      "Informationen geben und um Ihr Einverständnis für die geplanten Maßnahmen bitten.\n",
      "Sie haben den betriebsärztlichen Dienst in Weinheim aufeigenenWunsch, aufWunsch IhresArbeitgebers\n",
      "oder aufgrund von gesetzlichenVorschriften aufgesucht, da eine arbeits- und / oder verkehrsmedizinische \n",
      "Vorsorge-, Tauglichkeit bzw. Einstellungsuntersuchung vorgesehen ist. Diese wird als Wunsch-/Ange- \n",
      "bots- oder Pflichtvorsorge im Rahmen der gesetzlichen Grundlagen, hier insbesondere die Verordnung \n",
      "zur arbeitsmedizinischen Vorsorge (ArbMedW) bzw.  als betriebliche Tauglichkeitsuntersuchungen \n",
      "durchgeführt \n",
      "Oder Sie nutzen unseren betriebsärztlichen Dienst wegen einer allgemeinärztichen Untersuchung. Be \n",
      "handlung oder Beratung. Eventuell möchten Sie sogar verreisen und nutzen unsere Einrichtung zu einer \n",
      "Impfberatung oder Impfung. \n",
      "Ihr Arbeitgeber muss, zumindest im  Falle einer veranlassten betrieblichen Tauglichkeitsuntersuchung \n",
      "wissen, ob und eventuell mit welchen Einschränkungen er Sie einsetzen kann, damit Sie Ihre vertrag-\n",
      "lichen Tätigkeitsmerkmale ohne Gesundheitsschädigung erfüllen können. Er solte deswegen über das \n",
      "Ihnen ausgehändigte ,Ergebnis für den Arbeitgeber\" dieser Vorsorge informiert werden, indem Sie \n",
      "dies an ihn weiterleiten. \n",
      "Grundsätzlich werden vom AMD niemals Untersuchungsergebnisse, medizinischen Befunde oder \n",
      "Diagnosen an IhrenArbeitgeber oder sonstjemandenweitergeleitet, es sei denn Sie entbinden uns (auf \n",
      "einem gesonderten Formular) ausdrücklich von der Schweigepflicht! \n",
      "Bitte  denken  Sie daran,  dass die  Vorsorge-  und  Tauglichkeitsuntersuchungen  Kernbestandteil !hres \n",
      "persónlichen Arbeitsschutzes sind und Ihr Arbeitgeber mit dieser Vorsorge auch seiner Fürsorgepflicht \n",
      "nachkommt. Wir möchten ausdrücklich darauf hinweisen, dass, wenn medizinische Bedenken geäußert \n",
      "werden müssen, dies Ihrem persönlichen Gesundheitsschutz dient, der im individuellen Fall aber auch \n",
      "Konsequenzen für Ihren Arbeitsplatz haben kann.\n",
      "Soltesich nach Eingang noch ausstehender Untersuchungsergebnisse eine andere Beurteilung ergeben,\n",
      "werden Sie von uns kontaktiert und wir besprechen das weitere Vorgehen mit Ihnen. \n",
      "Die erforderlichen Einwilligungen Ihrerseits haben Ihre Rechtsgrundlage in den einschlägigen \n",
      "Datenschutzgesetzen, insbesondere der neuen Datenschutzgrundverordnung vom 25.5.2018 (EU \n",
      "DSGVO). \n",
      "Arbeitsmedizin und Gesundheitsschutz \n",
      "FREUDENBERG  Höhnerweg 2-4  Amtsgencht Mannheim  Telefon +49 6201 80 2233 \n",
      "HRA 430906\n",
      "SERVICE KG  69469 Weinheim  Fax  +49 6201 88 4223 \n",
      "ambulanz@freudenberg.de \n",
      "www.freudenberg-service.de \n"
     ]
    }
   ],
   "source": [
    "with pdfplumber.open(invoice_pdf) as pdf:\n",
    "    page = pdf.pages[0]\n",
    "    text = page.extract_text()\n",
    "    print(text)"
   ]
  },
  {
   "cell_type": "code",
   "execution_count": 23,
   "id": "upset-blackberry",
   "metadata": {},
   "outputs": [],
   "source": [
    "lines = text.split('\\n')"
   ]
  },
  {
   "cell_type": "code",
   "execution_count": 24,
   "id": "mineral-photography",
   "metadata": {},
   "outputs": [
    {
     "data": {
      "text/plain": [
       "['FREUDENBERG ',\n",
       " 'Freudenberg ',\n",
       " 'Service ',\n",
       " 'INNOVATING TOGETHER ',\n",
       " 'Stand: April 2021 ',\n",
       " 'Name Vornamne Geb Datum  Firma ',\n",
       " 'Informationsblatt und Einverständniserklärung zur ',\n",
       " '(betriebs-) ärztlichen Untersuchung oder weiteren Behandlung ',\n",
       " 'Sehr geehrte Mitarbeiterin, sehr geehrter Mitarbeiter, ',\n",
       " 'wir  möchten Sie  ganz  herzlich in  unserem  betriebsärztlichen  arbeitsmedizinischen  Dienst  (AMD) ',\n",
       " 'begrußen und bedanken uns für Ihr Vertrauen. Mit diesem Informationsblatt möchten wir Ihnen weitere ',\n",
       " 'Informationen geben und um Ihr Einverständnis für die geplanten Maßnahmen bitten.',\n",
       " 'Sie haben den betriebsärztlichen Dienst in Weinheim aufeigenenWunsch, aufWunsch IhresArbeitgebers',\n",
       " 'oder aufgrund von gesetzlichenVorschriften aufgesucht, da eine arbeits- und / oder verkehrsmedizinische ',\n",
       " 'Vorsorge-, Tauglichkeit bzw. Einstellungsuntersuchung vorgesehen ist. Diese wird als Wunsch-/Ange- ',\n",
       " 'bots- oder Pflichtvorsorge im Rahmen der gesetzlichen Grundlagen, hier insbesondere die Verordnung ',\n",
       " 'zur arbeitsmedizinischen Vorsorge (ArbMedW) bzw.  als betriebliche Tauglichkeitsuntersuchungen ',\n",
       " 'durchgeführt ',\n",
       " 'Oder Sie nutzen unseren betriebsärztlichen Dienst wegen einer allgemeinärztichen Untersuchung. Be ',\n",
       " 'handlung oder Beratung. Eventuell möchten Sie sogar verreisen und nutzen unsere Einrichtung zu einer ',\n",
       " 'Impfberatung oder Impfung. ',\n",
       " 'Ihr Arbeitgeber muss, zumindest im  Falle einer veranlassten betrieblichen Tauglichkeitsuntersuchung ',\n",
       " 'wissen, ob und eventuell mit welchen Einschränkungen er Sie einsetzen kann, damit Sie Ihre vertrag-',\n",
       " 'lichen Tätigkeitsmerkmale ohne Gesundheitsschädigung erfüllen können. Er solte deswegen über das ',\n",
       " 'Ihnen ausgehändigte ,Ergebnis für den Arbeitgeber\" dieser Vorsorge informiert werden, indem Sie ',\n",
       " 'dies an ihn weiterleiten. ',\n",
       " 'Grundsätzlich werden vom AMD niemals Untersuchungsergebnisse, medizinischen Befunde oder ',\n",
       " 'Diagnosen an IhrenArbeitgeber oder sonstjemandenweitergeleitet, es sei denn Sie entbinden uns (auf ',\n",
       " 'einem gesonderten Formular) ausdrücklich von der Schweigepflicht! ',\n",
       " 'Bitte  denken  Sie daran,  dass die  Vorsorge-  und  Tauglichkeitsuntersuchungen  Kernbestandteil !hres ',\n",
       " 'persónlichen Arbeitsschutzes sind und Ihr Arbeitgeber mit dieser Vorsorge auch seiner Fürsorgepflicht ',\n",
       " 'nachkommt. Wir möchten ausdrücklich darauf hinweisen, dass, wenn medizinische Bedenken geäußert ',\n",
       " 'werden müssen, dies Ihrem persönlichen Gesundheitsschutz dient, der im individuellen Fall aber auch ',\n",
       " 'Konsequenzen für Ihren Arbeitsplatz haben kann.',\n",
       " 'Soltesich nach Eingang noch ausstehender Untersuchungsergebnisse eine andere Beurteilung ergeben,',\n",
       " 'werden Sie von uns kontaktiert und wir besprechen das weitere Vorgehen mit Ihnen. ',\n",
       " 'Die erforderlichen Einwilligungen Ihrerseits haben Ihre Rechtsgrundlage in den einschlägigen ',\n",
       " 'Datenschutzgesetzen, insbesondere der neuen Datenschutzgrundverordnung vom 25.5.2018 (EU ',\n",
       " 'DSGVO). ',\n",
       " 'Arbeitsmedizin und Gesundheitsschutz ',\n",
       " 'FREUDENBERG  Höhnerweg 2-4  Amtsgencht Mannheim  Telefon +49 6201 80 2233 ',\n",
       " 'HRA 430906',\n",
       " 'SERVICE KG  69469 Weinheim  Fax  +49 6201 88 4223 ',\n",
       " 'ambulanz@freudenberg.de ',\n",
       " 'www.freudenberg-service.de ']"
      ]
     },
     "execution_count": 24,
     "metadata": {},
     "output_type": "execute_result"
    }
   ],
   "source": [
    "lines"
   ]
  },
  {
   "cell_type": "code",
   "execution_count": 25,
   "id": "sublime-conservative",
   "metadata": {},
   "outputs": [],
   "source": [
    "import re"
   ]
  },
  {
   "cell_type": "code",
   "execution_count": 26,
   "id": "accurate-interview",
   "metadata": {},
   "outputs": [],
   "source": [
    "amt_re = re.compile(r'\\.\\d\\d$')"
   ]
  },
  {
   "cell_type": "code",
   "execution_count": 27,
   "id": "valuable-poker",
   "metadata": {},
   "outputs": [],
   "source": [
    "subt = 0\n",
    "\n",
    "for line in lines:\n",
    "    if 'SUBTOTAL' in line:\n",
    "        break\n",
    "    if amt_re.search(line):\n",
    "        subt += float(line.split()[-1].replace(',', '').replace('$', ''))"
   ]
  },
  {
   "cell_type": "code",
   "execution_count": 28,
   "id": "paperback-circus",
   "metadata": {},
   "outputs": [
    {
     "data": {
      "text/plain": [
       "0"
      ]
     },
     "execution_count": 28,
     "metadata": {},
     "output_type": "execute_result"
    }
   ],
   "source": [
    "subt"
   ]
  },
  {
   "cell_type": "code",
   "execution_count": 29,
   "id": "rapid-convert",
   "metadata": {},
   "outputs": [
    {
     "data": {
      "text/plain": [
       "['FREUDENBERG ',\n",
       " 'Freudenberg ',\n",
       " 'Service ',\n",
       " 'INNOVATING TOGETHER ',\n",
       " 'Stand: April 2021 ',\n",
       " 'Name Vornamne Geb Datum  Firma ',\n",
       " 'Informationsblatt und Einverständniserklärung zur ',\n",
       " '(betriebs-) ärztlichen Untersuchung oder weiteren Behandlung ',\n",
       " 'Sehr geehrte Mitarbeiterin, sehr geehrter Mitarbeiter, ',\n",
       " 'wir  möchten Sie  ganz  herzlich in  unserem  betriebsärztlichen  arbeitsmedizinischen  Dienst  (AMD) ',\n",
       " 'begrußen und bedanken uns für Ihr Vertrauen. Mit diesem Informationsblatt möchten wir Ihnen weitere ',\n",
       " 'Informationen geben und um Ihr Einverständnis für die geplanten Maßnahmen bitten.',\n",
       " 'Sie haben den betriebsärztlichen Dienst in Weinheim aufeigenenWunsch, aufWunsch IhresArbeitgebers',\n",
       " 'oder aufgrund von gesetzlichenVorschriften aufgesucht, da eine arbeits- und / oder verkehrsmedizinische ',\n",
       " 'Vorsorge-, Tauglichkeit bzw. Einstellungsuntersuchung vorgesehen ist. Diese wird als Wunsch-/Ange- ',\n",
       " 'bots- oder Pflichtvorsorge im Rahmen der gesetzlichen Grundlagen, hier insbesondere die Verordnung ',\n",
       " 'zur arbeitsmedizinischen Vorsorge (ArbMedW) bzw.  als betriebliche Tauglichkeitsuntersuchungen ',\n",
       " 'durchgeführt ',\n",
       " 'Oder Sie nutzen unseren betriebsärztlichen Dienst wegen einer allgemeinärztichen Untersuchung. Be ',\n",
       " 'handlung oder Beratung. Eventuell möchten Sie sogar verreisen und nutzen unsere Einrichtung zu einer ',\n",
       " 'Impfberatung oder Impfung. ',\n",
       " 'Ihr Arbeitgeber muss, zumindest im  Falle einer veranlassten betrieblichen Tauglichkeitsuntersuchung ',\n",
       " 'wissen, ob und eventuell mit welchen Einschränkungen er Sie einsetzen kann, damit Sie Ihre vertrag-',\n",
       " 'lichen Tätigkeitsmerkmale ohne Gesundheitsschädigung erfüllen können. Er solte deswegen über das ',\n",
       " 'Ihnen ausgehändigte ,Ergebnis für den Arbeitgeber\" dieser Vorsorge informiert werden, indem Sie ',\n",
       " 'dies an ihn weiterleiten. ',\n",
       " 'Grundsätzlich werden vom AMD niemals Untersuchungsergebnisse, medizinischen Befunde oder ',\n",
       " 'Diagnosen an IhrenArbeitgeber oder sonstjemandenweitergeleitet, es sei denn Sie entbinden uns (auf ',\n",
       " 'einem gesonderten Formular) ausdrücklich von der Schweigepflicht! ',\n",
       " 'Bitte  denken  Sie daran,  dass die  Vorsorge-  und  Tauglichkeitsuntersuchungen  Kernbestandteil !hres ',\n",
       " 'persónlichen Arbeitsschutzes sind und Ihr Arbeitgeber mit dieser Vorsorge auch seiner Fürsorgepflicht ',\n",
       " 'nachkommt. Wir möchten ausdrücklich darauf hinweisen, dass, wenn medizinische Bedenken geäußert ',\n",
       " 'werden müssen, dies Ihrem persönlichen Gesundheitsschutz dient, der im individuellen Fall aber auch ',\n",
       " 'Konsequenzen für Ihren Arbeitsplatz haben kann.',\n",
       " 'Soltesich nach Eingang noch ausstehender Untersuchungsergebnisse eine andere Beurteilung ergeben,',\n",
       " 'werden Sie von uns kontaktiert und wir besprechen das weitere Vorgehen mit Ihnen. ',\n",
       " 'Die erforderlichen Einwilligungen Ihrerseits haben Ihre Rechtsgrundlage in den einschlägigen ',\n",
       " 'Datenschutzgesetzen, insbesondere der neuen Datenschutzgrundverordnung vom 25.5.2018 (EU ',\n",
       " 'DSGVO). ',\n",
       " 'Arbeitsmedizin und Gesundheitsschutz ',\n",
       " 'FREUDENBERG  Höhnerweg 2-4  Amtsgencht Mannheim  Telefon +49 6201 80 2233 ',\n",
       " 'HRA 430906',\n",
       " 'SERVICE KG  69469 Weinheim  Fax  +49 6201 88 4223 ',\n",
       " 'ambulanz@freudenberg.de ',\n",
       " 'www.freudenberg-service.de ']"
      ]
     },
     "execution_count": 29,
     "metadata": {},
     "output_type": "execute_result"
    }
   ],
   "source": [
    "lines"
   ]
  }
 ],
 "metadata": {
  "kernelspec": {
   "display_name": "Python 3",
   "language": "python",
   "name": "python3"
  },
  "language_info": {
   "codemirror_mode": {
    "name": "ipython",
    "version": 3
   },
   "file_extension": ".py",
   "mimetype": "text/x-python",
   "name": "python",
   "nbconvert_exporter": "python",
   "pygments_lexer": "ipython3",
   "version": "3.9.1"
  }
 },
 "nbformat": 4,
 "nbformat_minor": 5
}
