{
 "cells": [
  {
   "cell_type": "code",
   "execution_count": 1,
   "id": "7f1a0f26",
   "metadata": {},
   "outputs": [],
   "source": [
    "#Import the basic libraries\n",
    "import pandas as pd\n",
    "import numpy as np\n",
    "\n",
    "#data visualization\n",
    "import matplotlib.pyplot as plt\n",
    "import seaborn as sns\n",
    "import plotly.express as px\n",
    "\n",
    "#jupyter notebook widgets\n",
    "import ipywidgets as widgets\n",
    "from ipywidgets import interact\n",
    "from ipywidgets import interact_manual\n",
    "\n",
    "#for interactive shells\n",
    "from IPython.display import display\n",
    "\n",
    "# Supress warnings\n",
    "import warnings\n",
    "warnings.filterwarnings('ignore')\n",
    "\n",
    "#setting up the chart size and the background\n",
    "plt.rcParams['figure.figsize'] = (16,5)\n",
    "plt.style.use('fivethirtyeight')\n"
   ]
  },
  {
   "cell_type": "code",
   "execution_count": 2,
   "id": "ae49751c",
   "metadata": {},
   "outputs": [
    {
     "data": {
      "text/html": [
       "<div>\n",
       "<style scoped>\n",
       "    .dataframe tbody tr th:only-of-type {\n",
       "        vertical-align: middle;\n",
       "    }\n",
       "\n",
       "    .dataframe tbody tr th {\n",
       "        vertical-align: top;\n",
       "    }\n",
       "\n",
       "    .dataframe thead th {\n",
       "        text-align: right;\n",
       "    }\n",
       "</style>\n",
       "<table border=\"1\" class=\"dataframe\">\n",
       "  <thead>\n",
       "    <tr style=\"text-align: right;\">\n",
       "      <th></th>\n",
       "      <th>color</th>\n",
       "      <th>director_name</th>\n",
       "      <th>num_critic_for_reviews</th>\n",
       "      <th>duration</th>\n",
       "      <th>director_facebook_likes</th>\n",
       "      <th>actor_3_facebook_likes</th>\n",
       "      <th>actor_2_name</th>\n",
       "      <th>actor_1_facebook_likes</th>\n",
       "      <th>gross</th>\n",
       "      <th>genres</th>\n",
       "      <th>...</th>\n",
       "      <th>num_user_for_reviews</th>\n",
       "      <th>language</th>\n",
       "      <th>country</th>\n",
       "      <th>content_rating</th>\n",
       "      <th>budget</th>\n",
       "      <th>title_year</th>\n",
       "      <th>actor_2_facebook_likes</th>\n",
       "      <th>imdb_score</th>\n",
       "      <th>aspect_ratio</th>\n",
       "      <th>movie_facebook_likes</th>\n",
       "    </tr>\n",
       "  </thead>\n",
       "  <tbody>\n",
       "    <tr>\n",
       "      <th>0</th>\n",
       "      <td>Color</td>\n",
       "      <td>James Cameron</td>\n",
       "      <td>723.0</td>\n",
       "      <td>178.0</td>\n",
       "      <td>0.0</td>\n",
       "      <td>855.0</td>\n",
       "      <td>Joel David Moore</td>\n",
       "      <td>1000.0</td>\n",
       "      <td>760505847.0</td>\n",
       "      <td>Action|Adventure|Fantasy|Sci-Fi</td>\n",
       "      <td>...</td>\n",
       "      <td>3054.0</td>\n",
       "      <td>English</td>\n",
       "      <td>USA</td>\n",
       "      <td>PG-13</td>\n",
       "      <td>237000000.0</td>\n",
       "      <td>2009.0</td>\n",
       "      <td>936.0</td>\n",
       "      <td>7.9</td>\n",
       "      <td>1.78</td>\n",
       "      <td>33000</td>\n",
       "    </tr>\n",
       "    <tr>\n",
       "      <th>1</th>\n",
       "      <td>Color</td>\n",
       "      <td>Gore Verbinski</td>\n",
       "      <td>302.0</td>\n",
       "      <td>169.0</td>\n",
       "      <td>563.0</td>\n",
       "      <td>1000.0</td>\n",
       "      <td>Orlando Bloom</td>\n",
       "      <td>40000.0</td>\n",
       "      <td>309404152.0</td>\n",
       "      <td>Action|Adventure|Fantasy</td>\n",
       "      <td>...</td>\n",
       "      <td>1238.0</td>\n",
       "      <td>English</td>\n",
       "      <td>USA</td>\n",
       "      <td>PG-13</td>\n",
       "      <td>300000000.0</td>\n",
       "      <td>2007.0</td>\n",
       "      <td>5000.0</td>\n",
       "      <td>7.1</td>\n",
       "      <td>2.35</td>\n",
       "      <td>0</td>\n",
       "    </tr>\n",
       "    <tr>\n",
       "      <th>2</th>\n",
       "      <td>Color</td>\n",
       "      <td>Sam Mendes</td>\n",
       "      <td>602.0</td>\n",
       "      <td>148.0</td>\n",
       "      <td>0.0</td>\n",
       "      <td>161.0</td>\n",
       "      <td>Rory Kinnear</td>\n",
       "      <td>11000.0</td>\n",
       "      <td>200074175.0</td>\n",
       "      <td>Action|Adventure|Thriller</td>\n",
       "      <td>...</td>\n",
       "      <td>994.0</td>\n",
       "      <td>English</td>\n",
       "      <td>UK</td>\n",
       "      <td>PG-13</td>\n",
       "      <td>245000000.0</td>\n",
       "      <td>2015.0</td>\n",
       "      <td>393.0</td>\n",
       "      <td>6.8</td>\n",
       "      <td>2.35</td>\n",
       "      <td>85000</td>\n",
       "    </tr>\n",
       "  </tbody>\n",
       "</table>\n",
       "<p>3 rows × 28 columns</p>\n",
       "</div>"
      ],
      "text/plain": [
       "   color   director_name  num_critic_for_reviews  duration  \\\n",
       "0  Color   James Cameron                   723.0     178.0   \n",
       "1  Color  Gore Verbinski                   302.0     169.0   \n",
       "2  Color      Sam Mendes                   602.0     148.0   \n",
       "\n",
       "   director_facebook_likes  actor_3_facebook_likes      actor_2_name  \\\n",
       "0                      0.0                   855.0  Joel David Moore   \n",
       "1                    563.0                  1000.0     Orlando Bloom   \n",
       "2                      0.0                   161.0      Rory Kinnear   \n",
       "\n",
       "   actor_1_facebook_likes        gross                           genres  ...  \\\n",
       "0                  1000.0  760505847.0  Action|Adventure|Fantasy|Sci-Fi  ...   \n",
       "1                 40000.0  309404152.0         Action|Adventure|Fantasy  ...   \n",
       "2                 11000.0  200074175.0        Action|Adventure|Thriller  ...   \n",
       "\n",
       "  num_user_for_reviews language  country  content_rating       budget  \\\n",
       "0               3054.0  English      USA           PG-13  237000000.0   \n",
       "1               1238.0  English      USA           PG-13  300000000.0   \n",
       "2                994.0  English       UK           PG-13  245000000.0   \n",
       "\n",
       "   title_year actor_2_facebook_likes imdb_score  aspect_ratio  \\\n",
       "0      2009.0                  936.0        7.9          1.78   \n",
       "1      2007.0                 5000.0        7.1          2.35   \n",
       "2      2015.0                  393.0        6.8          2.35   \n",
       "\n",
       "  movie_facebook_likes  \n",
       "0                33000  \n",
       "1                    0  \n",
       "2                85000  \n",
       "\n",
       "[3 rows x 28 columns]"
      ]
     },
     "execution_count": 2,
     "metadata": {},
     "output_type": "execute_result"
    }
   ],
   "source": [
    "df = pd.read_csv('movie_metadata.csv')\n",
    "df.head(3)\n"
   ]
  },
  {
   "cell_type": "code",
   "execution_count": 3,
   "id": "7a334190",
   "metadata": {},
   "outputs": [
    {
     "name": "stdout",
     "output_type": "stream",
     "text": [
      "<class 'pandas.core.frame.DataFrame'>\n",
      "RangeIndex: 5043 entries, 0 to 5042\n",
      "Data columns (total 28 columns):\n",
      " #   Column                     Non-Null Count  Dtype  \n",
      "---  ------                     --------------  -----  \n",
      " 0   color                      5024 non-null   object \n",
      " 1   director_name              4939 non-null   object \n",
      " 2   num_critic_for_reviews     4993 non-null   float64\n",
      " 3   duration                   5028 non-null   float64\n",
      " 4   director_facebook_likes    4939 non-null   float64\n",
      " 5   actor_3_facebook_likes     5020 non-null   float64\n",
      " 6   actor_2_name               5030 non-null   object \n",
      " 7   actor_1_facebook_likes     5036 non-null   float64\n",
      " 8   gross                      4159 non-null   float64\n",
      " 9   genres                     5043 non-null   object \n",
      " 10  actor_1_name               5036 non-null   object \n",
      " 11  movie_title                5043 non-null   object \n",
      " 12  num_voted_users            5043 non-null   int64  \n",
      " 13  cast_total_facebook_likes  5043 non-null   int64  \n",
      " 14  actor_3_name               5020 non-null   object \n",
      " 15  facenumber_in_poster       5030 non-null   float64\n",
      " 16  plot_keywords              4890 non-null   object \n",
      " 17  movie_imdb_link            5043 non-null   object \n",
      " 18  num_user_for_reviews       5022 non-null   float64\n",
      " 19  language                   5031 non-null   object \n",
      " 20  country                    5038 non-null   object \n",
      " 21  content_rating             4740 non-null   object \n",
      " 22  budget                     4551 non-null   float64\n",
      " 23  title_year                 4935 non-null   float64\n",
      " 24  actor_2_facebook_likes     5030 non-null   float64\n",
      " 25  imdb_score                 5043 non-null   float64\n",
      " 26  aspect_ratio               4714 non-null   float64\n",
      " 27  movie_facebook_likes       5043 non-null   int64  \n",
      "dtypes: float64(13), int64(3), object(12)\n",
      "memory usage: 1.1+ MB\n"
     ]
    }
   ],
   "source": [
    "df.info()"
   ]
  },
  {
   "cell_type": "code",
   "execution_count": 4,
   "id": "9d4b39d2",
   "metadata": {},
   "outputs": [],
   "source": [
    "df = df.drop(['color','director_facebook_likes',\n",
    "         'actor_3_facebook_likes','actor_1_facebook_likes',\n",
    "         'cast_total_facebook_likes','facenumber_in_poster','country',\n",
    "         'actor_2_facebook_likes','plot_keywords','content_rating','aspect_ratio'], axis=1)"
   ]
  },
  {
   "cell_type": "code",
   "execution_count": 5,
   "id": "69f94718",
   "metadata": {},
   "outputs": [],
   "source": [
    "df['language'] = df['language'].astype('category')"
   ]
  },
  {
   "cell_type": "code",
   "execution_count": 6,
   "id": "47f32f3e",
   "metadata": {},
   "outputs": [],
   "source": [
    "df['genres'] = df['genres'].astype('category')"
   ]
  },
  {
   "cell_type": "code",
   "execution_count": 7,
   "id": "39369709",
   "metadata": {},
   "outputs": [
    {
     "name": "stdout",
     "output_type": "stream",
     "text": [
      "<class 'pandas.core.frame.DataFrame'>\n",
      "RangeIndex: 5043 entries, 0 to 5042\n",
      "Data columns (total 17 columns):\n",
      " #   Column                  Non-Null Count  Dtype   \n",
      "---  ------                  --------------  -----   \n",
      " 0   director_name           4939 non-null   object  \n",
      " 1   num_critic_for_reviews  4993 non-null   float64 \n",
      " 2   duration                5028 non-null   float64 \n",
      " 3   actor_2_name            5030 non-null   object  \n",
      " 4   gross                   4159 non-null   float64 \n",
      " 5   genres                  5043 non-null   category\n",
      " 6   actor_1_name            5036 non-null   object  \n",
      " 7   movie_title             5043 non-null   object  \n",
      " 8   num_voted_users         5043 non-null   int64   \n",
      " 9   actor_3_name            5020 non-null   object  \n",
      " 10  movie_imdb_link         5043 non-null   object  \n",
      " 11  num_user_for_reviews    5022 non-null   float64 \n",
      " 12  language                5031 non-null   category\n",
      " 13  budget                  4551 non-null   float64 \n",
      " 14  title_year              4935 non-null   float64 \n",
      " 15  imdb_score              5043 non-null   float64 \n",
      " 16  movie_facebook_likes    5043 non-null   int64   \n",
      "dtypes: category(2), float64(7), int64(2), object(6)\n",
      "memory usage: 646.7+ KB\n"
     ]
    }
   ],
   "source": [
    "df.info()"
   ]
  },
  {
   "cell_type": "code",
   "execution_count": 8,
   "id": "e011253c",
   "metadata": {},
   "outputs": [
    {
     "data": {
      "text/plain": [
       "director_name              2.06\n",
       "num_critic_for_reviews     0.99\n",
       "duration                   0.30\n",
       "actor_2_name               0.26\n",
       "gross                     17.53\n",
       "genres                     0.00\n",
       "actor_1_name               0.14\n",
       "movie_title                0.00\n",
       "num_voted_users            0.00\n",
       "actor_3_name               0.46\n",
       "movie_imdb_link            0.00\n",
       "num_user_for_reviews       0.42\n",
       "language                   0.24\n",
       "budget                     9.76\n",
       "title_year                 2.14\n",
       "imdb_score                 0.00\n",
       "movie_facebook_likes       0.00\n",
       "dtype: float64"
      ]
     },
     "execution_count": 8,
     "metadata": {},
     "output_type": "execute_result"
    }
   ],
   "source": [
    "#Checking for the missing value\n",
    "\n",
    "round(100*df.isnull().sum()/len(df.index),2)"
   ]
  },
  {
   "cell_type": "code",
   "execution_count": 9,
   "id": "07c7ce1a",
   "metadata": {},
   "outputs": [],
   "source": [
    "df2 = df[ df['gross'].isnull() == True]\n",
    "df = df.drop(df2.index)"
   ]
  },
  {
   "cell_type": "code",
   "execution_count": 10,
   "id": "911fc2a9",
   "metadata": {},
   "outputs": [],
   "source": [
    "df2 = df[ df['budget'].isnull() == True]\n",
    "df = df.drop(df2.index)"
   ]
  },
  {
   "cell_type": "code",
   "execution_count": 11,
   "id": "3c4b987a",
   "metadata": {},
   "outputs": [
    {
     "name": "stdout",
     "output_type": "stream",
     "text": [
      "<class 'pandas.core.frame.DataFrame'>\n",
      "Int64Index: 3891 entries, 0 to 5042\n",
      "Data columns (total 17 columns):\n",
      " #   Column                  Non-Null Count  Dtype   \n",
      "---  ------                  --------------  -----   \n",
      " 0   director_name           3891 non-null   object  \n",
      " 1   num_critic_for_reviews  3890 non-null   float64 \n",
      " 2   duration                3890 non-null   float64 \n",
      " 3   actor_2_name            3886 non-null   object  \n",
      " 4   gross                   3891 non-null   float64 \n",
      " 5   genres                  3891 non-null   category\n",
      " 6   actor_1_name            3888 non-null   object  \n",
      " 7   movie_title             3891 non-null   object  \n",
      " 8   num_voted_users         3891 non-null   int64   \n",
      " 9   actor_3_name            3881 non-null   object  \n",
      " 10  movie_imdb_link         3891 non-null   object  \n",
      " 11  num_user_for_reviews    3891 non-null   float64 \n",
      " 12  language                3888 non-null   category\n",
      " 13  budget                  3891 non-null   float64 \n",
      " 14  title_year              3891 non-null   float64 \n",
      " 15  imdb_score              3891 non-null   float64 \n",
      " 16  movie_facebook_likes    3891 non-null   int64   \n",
      "dtypes: category(2), float64(7), int64(2), object(6)\n",
      "memory usage: 538.6+ KB\n"
     ]
    }
   ],
   "source": [
    "df.info()"
   ]
  },
  {
   "cell_type": "code",
   "execution_count": 12,
   "id": "db9fc6ef",
   "metadata": {},
   "outputs": [
    {
     "data": {
      "text/plain": [
       "director_name             0.00\n",
       "num_critic_for_reviews    0.03\n",
       "duration                  0.03\n",
       "actor_2_name              0.13\n",
       "gross                     0.00\n",
       "genres                    0.00\n",
       "actor_1_name              0.08\n",
       "movie_title               0.00\n",
       "num_voted_users           0.00\n",
       "actor_3_name              0.26\n",
       "movie_imdb_link           0.00\n",
       "num_user_for_reviews      0.00\n",
       "language                  0.08\n",
       "budget                    0.00\n",
       "title_year                0.00\n",
       "imdb_score                0.00\n",
       "movie_facebook_likes      0.00\n",
       "dtype: float64"
      ]
     },
     "execution_count": 12,
     "metadata": {},
     "output_type": "execute_result"
    }
   ],
   "source": [
    "#Checking for the missing value\n",
    "\n",
    "round(100*df.isnull().sum()/len(df.index),2)"
   ]
  },
  {
   "cell_type": "code",
   "execution_count": 13,
   "id": "a6e9fd4b",
   "metadata": {},
   "outputs": [
    {
     "data": {
      "text/plain": [
       "director_name             0\n",
       "num_critic_for_reviews    1\n",
       "duration                  1\n",
       "actor_2_name              2\n",
       "gross                     0\n",
       "genres                    0\n",
       "actor_1_name              0\n",
       "movie_title               0\n",
       "num_voted_users           0\n",
       "actor_3_name              7\n",
       "movie_imdb_link           0\n",
       "num_user_for_reviews      0\n",
       "language                  3\n",
       "budget                    0\n",
       "title_year                0\n",
       "imdb_score                0\n",
       "movie_facebook_likes      0\n",
       "dtype: int64"
      ]
     },
     "execution_count": 13,
     "metadata": {},
     "output_type": "execute_result"
    }
   ],
   "source": [
    "df = df[df.isnull().sum(axis=1) <= 2]\n",
    "df.isnull().sum()"
   ]
  },
  {
   "cell_type": "code",
   "execution_count": 14,
   "id": "6a10f907",
   "metadata": {},
   "outputs": [],
   "source": [
    "#impute the missing values\n",
    "\n",
    "#using mean for numerical value\n",
    "df['num_critic_for_reviews'] = df['num_critic_for_reviews'].fillna(df['num_critic_for_reviews'].mean())\n",
    "df['duration'] = df['duration'].fillna(df['duration'].mean())\n",
    "#using mode for categorical value\n",
    "df['language'] = df['language'].fillna(df['language'].mode()[0])\n",
    "#replace the actor name with 'Unknown Actor'\n",
    "df['actor_2_name'] = df['actor_2_name'].fillna('Unknown Values')\n",
    "df['actor_3_name'] = df['actor_3_name'].fillna('Unknown Values')\n"
   ]
  },
  {
   "cell_type": "code",
   "execution_count": 15,
   "id": "eb5b9d8d",
   "metadata": {},
   "outputs": [
    {
     "data": {
      "text/plain": [
       "director_name             0\n",
       "num_critic_for_reviews    0\n",
       "duration                  0\n",
       "actor_2_name              0\n",
       "gross                     0\n",
       "genres                    0\n",
       "actor_1_name              0\n",
       "movie_title               0\n",
       "num_voted_users           0\n",
       "actor_3_name              0\n",
       "movie_imdb_link           0\n",
       "num_user_for_reviews      0\n",
       "language                  0\n",
       "budget                    0\n",
       "title_year                0\n",
       "imdb_score                0\n",
       "movie_facebook_likes      0\n",
       "dtype: int64"
      ]
     },
     "execution_count": 15,
     "metadata": {},
     "output_type": "execute_result"
    }
   ],
   "source": [
    "df.isnull().sum()"
   ]
  },
  {
   "cell_type": "code",
   "execution_count": 16,
   "id": "76478101",
   "metadata": {},
   "outputs": [],
   "source": [
    "df.gross =  round(df.gross/1000000, 1)\n",
    "df.budget =  round(df.budget/1000000,1)"
   ]
  },
  {
   "cell_type": "code",
   "execution_count": 20,
   "id": "ff879dc3",
   "metadata": {},
   "outputs": [],
   "source": [
    "df['Profit'] = df['gross'] - df['budget']"
   ]
  },
  {
   "cell_type": "code",
   "execution_count": 21,
   "id": "0ff31b6e",
   "metadata": {},
   "outputs": [
    {
     "data": {
      "text/html": [
       "<div>\n",
       "<style scoped>\n",
       "    .dataframe tbody tr th:only-of-type {\n",
       "        vertical-align: middle;\n",
       "    }\n",
       "\n",
       "    .dataframe tbody tr th {\n",
       "        vertical-align: top;\n",
       "    }\n",
       "\n",
       "    .dataframe thead th {\n",
       "        text-align: right;\n",
       "    }\n",
       "</style>\n",
       "<table border=\"1\" class=\"dataframe\">\n",
       "  <thead>\n",
       "    <tr style=\"text-align: right;\">\n",
       "      <th></th>\n",
       "      <th>director_name</th>\n",
       "      <th>num_critic_for_reviews</th>\n",
       "      <th>duration</th>\n",
       "      <th>actor_2_name</th>\n",
       "      <th>gross</th>\n",
       "      <th>genres</th>\n",
       "      <th>actor_1_name</th>\n",
       "      <th>movie_title</th>\n",
       "      <th>num_voted_users</th>\n",
       "      <th>actor_3_name</th>\n",
       "      <th>movie_imdb_link</th>\n",
       "      <th>num_user_for_reviews</th>\n",
       "      <th>language</th>\n",
       "      <th>budget</th>\n",
       "      <th>title_year</th>\n",
       "      <th>imdb_score</th>\n",
       "      <th>movie_facebook_likes</th>\n",
       "      <th>Profit</th>\n",
       "    </tr>\n",
       "  </thead>\n",
       "  <tbody>\n",
       "    <tr>\n",
       "      <th>0</th>\n",
       "      <td>James Cameron</td>\n",
       "      <td>723.0</td>\n",
       "      <td>178.0</td>\n",
       "      <td>Joel David Moore</td>\n",
       "      <td>760.5</td>\n",
       "      <td>Action|Adventure|Fantasy|Sci-Fi</td>\n",
       "      <td>CCH Pounder</td>\n",
       "      <td>Avatar</td>\n",
       "      <td>886204</td>\n",
       "      <td>Wes Studi</td>\n",
       "      <td>http://www.imdb.com/title/tt0499549/?ref_=fn_t...</td>\n",
       "      <td>3054.0</td>\n",
       "      <td>English</td>\n",
       "      <td>237.0</td>\n",
       "      <td>2009.0</td>\n",
       "      <td>7.9</td>\n",
       "      <td>33000</td>\n",
       "      <td>523.5</td>\n",
       "    </tr>\n",
       "    <tr>\n",
       "      <th>1</th>\n",
       "      <td>Gore Verbinski</td>\n",
       "      <td>302.0</td>\n",
       "      <td>169.0</td>\n",
       "      <td>Orlando Bloom</td>\n",
       "      <td>309.4</td>\n",
       "      <td>Action|Adventure|Fantasy</td>\n",
       "      <td>Johnny Depp</td>\n",
       "      <td>Pirates of the Caribbean: At World's End</td>\n",
       "      <td>471220</td>\n",
       "      <td>Jack Davenport</td>\n",
       "      <td>http://www.imdb.com/title/tt0449088/?ref_=fn_t...</td>\n",
       "      <td>1238.0</td>\n",
       "      <td>English</td>\n",
       "      <td>300.0</td>\n",
       "      <td>2007.0</td>\n",
       "      <td>7.1</td>\n",
       "      <td>0</td>\n",
       "      <td>9.4</td>\n",
       "    </tr>\n",
       "    <tr>\n",
       "      <th>2</th>\n",
       "      <td>Sam Mendes</td>\n",
       "      <td>602.0</td>\n",
       "      <td>148.0</td>\n",
       "      <td>Rory Kinnear</td>\n",
       "      <td>200.1</td>\n",
       "      <td>Action|Adventure|Thriller</td>\n",
       "      <td>Christoph Waltz</td>\n",
       "      <td>Spectre</td>\n",
       "      <td>275868</td>\n",
       "      <td>Stephanie Sigman</td>\n",
       "      <td>http://www.imdb.com/title/tt2379713/?ref_=fn_t...</td>\n",
       "      <td>994.0</td>\n",
       "      <td>English</td>\n",
       "      <td>245.0</td>\n",
       "      <td>2015.0</td>\n",
       "      <td>6.8</td>\n",
       "      <td>85000</td>\n",
       "      <td>-44.9</td>\n",
       "    </tr>\n",
       "    <tr>\n",
       "      <th>3</th>\n",
       "      <td>Christopher Nolan</td>\n",
       "      <td>813.0</td>\n",
       "      <td>164.0</td>\n",
       "      <td>Christian Bale</td>\n",
       "      <td>448.1</td>\n",
       "      <td>Action|Thriller</td>\n",
       "      <td>Tom Hardy</td>\n",
       "      <td>The Dark Knight Rises</td>\n",
       "      <td>1144337</td>\n",
       "      <td>Joseph Gordon-Levitt</td>\n",
       "      <td>http://www.imdb.com/title/tt1345836/?ref_=fn_t...</td>\n",
       "      <td>2701.0</td>\n",
       "      <td>English</td>\n",
       "      <td>250.0</td>\n",
       "      <td>2012.0</td>\n",
       "      <td>8.5</td>\n",
       "      <td>164000</td>\n",
       "      <td>198.1</td>\n",
       "    </tr>\n",
       "    <tr>\n",
       "      <th>5</th>\n",
       "      <td>Andrew Stanton</td>\n",
       "      <td>462.0</td>\n",
       "      <td>132.0</td>\n",
       "      <td>Samantha Morton</td>\n",
       "      <td>73.1</td>\n",
       "      <td>Action|Adventure|Sci-Fi</td>\n",
       "      <td>Daryl Sabara</td>\n",
       "      <td>John Carter</td>\n",
       "      <td>212204</td>\n",
       "      <td>Polly Walker</td>\n",
       "      <td>http://www.imdb.com/title/tt0401729/?ref_=fn_t...</td>\n",
       "      <td>738.0</td>\n",
       "      <td>English</td>\n",
       "      <td>263.7</td>\n",
       "      <td>2012.0</td>\n",
       "      <td>6.6</td>\n",
       "      <td>24000</td>\n",
       "      <td>-190.6</td>\n",
       "    </tr>\n",
       "    <tr>\n",
       "      <th>6</th>\n",
       "      <td>Sam Raimi</td>\n",
       "      <td>392.0</td>\n",
       "      <td>156.0</td>\n",
       "      <td>James Franco</td>\n",
       "      <td>336.5</td>\n",
       "      <td>Action|Adventure|Romance</td>\n",
       "      <td>J.K. Simmons</td>\n",
       "      <td>Spider-Man 3</td>\n",
       "      <td>383056</td>\n",
       "      <td>Kirsten Dunst</td>\n",
       "      <td>http://www.imdb.com/title/tt0413300/?ref_=fn_t...</td>\n",
       "      <td>1902.0</td>\n",
       "      <td>English</td>\n",
       "      <td>258.0</td>\n",
       "      <td>2007.0</td>\n",
       "      <td>6.2</td>\n",
       "      <td>0</td>\n",
       "      <td>78.5</td>\n",
       "    </tr>\n",
       "  </tbody>\n",
       "</table>\n",
       "</div>"
      ],
      "text/plain": [
       "       director_name  num_critic_for_reviews  duration      actor_2_name  \\\n",
       "0      James Cameron                   723.0     178.0  Joel David Moore   \n",
       "1     Gore Verbinski                   302.0     169.0     Orlando Bloom   \n",
       "2         Sam Mendes                   602.0     148.0      Rory Kinnear   \n",
       "3  Christopher Nolan                   813.0     164.0    Christian Bale   \n",
       "5     Andrew Stanton                   462.0     132.0   Samantha Morton   \n",
       "6          Sam Raimi                   392.0     156.0      James Franco   \n",
       "\n",
       "   gross                           genres     actor_1_name  \\\n",
       "0  760.5  Action|Adventure|Fantasy|Sci-Fi      CCH Pounder   \n",
       "1  309.4         Action|Adventure|Fantasy      Johnny Depp   \n",
       "2  200.1        Action|Adventure|Thriller  Christoph Waltz   \n",
       "3  448.1                  Action|Thriller        Tom Hardy   \n",
       "5   73.1          Action|Adventure|Sci-Fi     Daryl Sabara   \n",
       "6  336.5         Action|Adventure|Romance     J.K. Simmons   \n",
       "\n",
       "                                 movie_title  num_voted_users  \\\n",
       "0                                    Avatar            886204   \n",
       "1  Pirates of the Caribbean: At World's End            471220   \n",
       "2                                   Spectre            275868   \n",
       "3                     The Dark Knight Rises           1144337   \n",
       "5                               John Carter            212204   \n",
       "6                              Spider-Man 3            383056   \n",
       "\n",
       "           actor_3_name                                    movie_imdb_link  \\\n",
       "0             Wes Studi  http://www.imdb.com/title/tt0499549/?ref_=fn_t...   \n",
       "1        Jack Davenport  http://www.imdb.com/title/tt0449088/?ref_=fn_t...   \n",
       "2      Stephanie Sigman  http://www.imdb.com/title/tt2379713/?ref_=fn_t...   \n",
       "3  Joseph Gordon-Levitt  http://www.imdb.com/title/tt1345836/?ref_=fn_t...   \n",
       "5          Polly Walker  http://www.imdb.com/title/tt0401729/?ref_=fn_t...   \n",
       "6         Kirsten Dunst  http://www.imdb.com/title/tt0413300/?ref_=fn_t...   \n",
       "\n",
       "   num_user_for_reviews language  budget  title_year  imdb_score  \\\n",
       "0                3054.0  English   237.0      2009.0         7.9   \n",
       "1                1238.0  English   300.0      2007.0         7.1   \n",
       "2                 994.0  English   245.0      2015.0         6.8   \n",
       "3                2701.0  English   250.0      2012.0         8.5   \n",
       "5                 738.0  English   263.7      2012.0         6.6   \n",
       "6                1902.0  English   258.0      2007.0         6.2   \n",
       "\n",
       "   movie_facebook_likes  Profit  \n",
       "0                 33000   523.5  \n",
       "1                     0     9.4  \n",
       "2                 85000   -44.9  \n",
       "3                164000   198.1  \n",
       "5                 24000  -190.6  \n",
       "6                     0    78.5  "
      ]
     },
     "execution_count": 21,
     "metadata": {},
     "output_type": "execute_result"
    }
   ],
   "source": [
    "df.head(6)"
   ]
  },
  {
   "cell_type": "code",
   "execution_count": 29,
   "id": "f75e2d8d",
   "metadata": {},
   "outputs": [
    {
     "data": {
      "text/html": [
       "<div>\n",
       "<style scoped>\n",
       "    .dataframe tbody tr th:only-of-type {\n",
       "        vertical-align: middle;\n",
       "    }\n",
       "\n",
       "    .dataframe tbody tr th {\n",
       "        vertical-align: top;\n",
       "    }\n",
       "\n",
       "    .dataframe thead th {\n",
       "        text-align: right;\n",
       "    }\n",
       "</style>\n",
       "<table border=\"1\" class=\"dataframe\">\n",
       "  <thead>\n",
       "    <tr style=\"text-align: right;\">\n",
       "      <th></th>\n",
       "      <th>movie_title</th>\n",
       "      <th>Profit</th>\n",
       "    </tr>\n",
       "  </thead>\n",
       "  <tbody>\n",
       "    <tr>\n",
       "      <th>0</th>\n",
       "      <td>Avatar</td>\n",
       "      <td>523.5</td>\n",
       "    </tr>\n",
       "    <tr>\n",
       "      <th>29</th>\n",
       "      <td>Jurassic World</td>\n",
       "      <td>502.2</td>\n",
       "    </tr>\n",
       "    <tr>\n",
       "      <th>26</th>\n",
       "      <td>Titanic</td>\n",
       "      <td>458.7</td>\n",
       "    </tr>\n",
       "    <tr>\n",
       "      <th>3024</th>\n",
       "      <td>Star Wars: Episode IV - A New Hope</td>\n",
       "      <td>449.9</td>\n",
       "    </tr>\n",
       "    <tr>\n",
       "      <th>3080</th>\n",
       "      <td>E.T. the Extra-Terrestrial</td>\n",
       "      <td>424.4</td>\n",
       "    </tr>\n",
       "    <tr>\n",
       "      <th>17</th>\n",
       "      <td>The Avengers</td>\n",
       "      <td>403.3</td>\n",
       "    </tr>\n",
       "    <tr>\n",
       "      <th>794</th>\n",
       "      <td>The Avengers</td>\n",
       "      <td>403.3</td>\n",
       "    </tr>\n",
       "    <tr>\n",
       "      <th>509</th>\n",
       "      <td>The Lion King</td>\n",
       "      <td>377.8</td>\n",
       "    </tr>\n",
       "    <tr>\n",
       "      <th>240</th>\n",
       "      <td>Star Wars: Episode I - The Phantom Menace</td>\n",
       "      <td>359.5</td>\n",
       "    </tr>\n",
       "    <tr>\n",
       "      <th>66</th>\n",
       "      <td>The Dark Knight</td>\n",
       "      <td>348.3</td>\n",
       "    </tr>\n",
       "  </tbody>\n",
       "</table>\n",
       "</div>"
      ],
      "text/plain": [
       "                                     movie_title  Profit\n",
       "0                                        Avatar    523.5\n",
       "29                               Jurassic World    502.2\n",
       "26                                      Titanic    458.7\n",
       "3024         Star Wars: Episode IV - A New Hope    449.9\n",
       "3080                 E.T. the Extra-Terrestrial    424.4\n",
       "17                                 The Avengers    403.3\n",
       "794                                The Avengers    403.3\n",
       "509                               The Lion King    377.8\n",
       "240   Star Wars: Episode I - The Phantom Menace    359.5\n",
       "66                              The Dark Knight    348.3"
      ]
     },
     "execution_count": 29,
     "metadata": {},
     "output_type": "execute_result"
    }
   ],
   "source": [
    "df[['movie_title','Profit']].sort_values(by = 'Profit', ascending=False).head(10)"
   ]
  },
  {
   "cell_type": "code",
   "execution_count": 30,
   "id": "e1c15b97",
   "metadata": {},
   "outputs": [
    {
     "name": "stdout",
     "output_type": "stream",
     "text": [
      "before 3888\n",
      "after 3853\n"
     ]
    }
   ],
   "source": [
    "#There are duplicate values in our dataset\n",
    "\n",
    "#first check how many rows are there before removing the duplicate records\n",
    "print('before', df.shape[0])\n",
    "\n",
    "#lets remove the duplicate record\n",
    "df.drop_duplicates(subset=None, keep='first', inplace=True)\n",
    "\n",
    "#number of records after removing the duplicate records\n",
    "print('after', df.shape[0])\n",
    "\n"
   ]
  },
  {
   "cell_type": "code",
   "execution_count": 31,
   "id": "fc5ca6d7",
   "metadata": {},
   "outputs": [
    {
     "data": {
      "text/html": [
       "<div>\n",
       "<style scoped>\n",
       "    .dataframe tbody tr th:only-of-type {\n",
       "        vertical-align: middle;\n",
       "    }\n",
       "\n",
       "    .dataframe tbody tr th {\n",
       "        vertical-align: top;\n",
       "    }\n",
       "\n",
       "    .dataframe thead th {\n",
       "        text-align: right;\n",
       "    }\n",
       "</style>\n",
       "<table border=\"1\" class=\"dataframe\">\n",
       "  <thead>\n",
       "    <tr style=\"text-align: right;\">\n",
       "      <th></th>\n",
       "      <th>movie_title</th>\n",
       "      <th>Profit</th>\n",
       "    </tr>\n",
       "  </thead>\n",
       "  <tbody>\n",
       "    <tr>\n",
       "      <th>0</th>\n",
       "      <td>Avatar</td>\n",
       "      <td>523.5</td>\n",
       "    </tr>\n",
       "    <tr>\n",
       "      <th>29</th>\n",
       "      <td>Jurassic World</td>\n",
       "      <td>502.2</td>\n",
       "    </tr>\n",
       "    <tr>\n",
       "      <th>26</th>\n",
       "      <td>Titanic</td>\n",
       "      <td>458.7</td>\n",
       "    </tr>\n",
       "    <tr>\n",
       "      <th>3024</th>\n",
       "      <td>Star Wars: Episode IV - A New Hope</td>\n",
       "      <td>449.9</td>\n",
       "    </tr>\n",
       "    <tr>\n",
       "      <th>3080</th>\n",
       "      <td>E.T. the Extra-Terrestrial</td>\n",
       "      <td>424.4</td>\n",
       "    </tr>\n",
       "    <tr>\n",
       "      <th>17</th>\n",
       "      <td>The Avengers</td>\n",
       "      <td>403.3</td>\n",
       "    </tr>\n",
       "    <tr>\n",
       "      <th>509</th>\n",
       "      <td>The Lion King</td>\n",
       "      <td>377.8</td>\n",
       "    </tr>\n",
       "    <tr>\n",
       "      <th>240</th>\n",
       "      <td>Star Wars: Episode I - The Phantom Menace</td>\n",
       "      <td>359.5</td>\n",
       "    </tr>\n",
       "    <tr>\n",
       "      <th>66</th>\n",
       "      <td>The Dark Knight</td>\n",
       "      <td>348.3</td>\n",
       "    </tr>\n",
       "    <tr>\n",
       "      <th>439</th>\n",
       "      <td>The Hunger Games</td>\n",
       "      <td>330.0</td>\n",
       "    </tr>\n",
       "  </tbody>\n",
       "</table>\n",
       "</div>"
      ],
      "text/plain": [
       "                                     movie_title  Profit\n",
       "0                                        Avatar    523.5\n",
       "29                               Jurassic World    502.2\n",
       "26                                      Titanic    458.7\n",
       "3024         Star Wars: Episode IV - A New Hope    449.9\n",
       "3080                 E.T. the Extra-Terrestrial    424.4\n",
       "17                                 The Avengers    403.3\n",
       "509                               The Lion King    377.8\n",
       "240   Star Wars: Episode I - The Phantom Menace    359.5\n",
       "66                              The Dark Knight    348.3\n",
       "439                            The Hunger Games    330.0"
      ]
     },
     "execution_count": 31,
     "metadata": {},
     "output_type": "execute_result"
    }
   ],
   "source": [
    "df[['movie_title','Profit']].sort_values(by = 'Profit', ascending=False).head(10)"
   ]
  },
  {
   "cell_type": "code",
   "execution_count": 32,
   "id": "fc28eb1a",
   "metadata": {},
   "outputs": [],
   "source": [
    "#there are many languages but 99 percent of the movies are in english, So lets put other languages as Foreign Language\n",
    "\n",
    "def language(x):\n",
    "    if x == 'English':\n",
    "        return 'English'\n",
    "    else:\n",
    "        return 'Foreign Language'\n",
    "df['language'] = df['language'].apply(language)\n",
    "    "
   ]
  },
  {
   "cell_type": "code",
   "execution_count": 35,
   "id": "4f517fe9",
   "metadata": {},
   "outputs": [
    {
     "data": {
      "text/plain": [
       "English             3673\n",
       "Foreign Language     180\n",
       "Name: language, dtype: int64"
      ]
     },
     "execution_count": 35,
     "metadata": {},
     "output_type": "execute_result"
    }
   ],
   "source": [
    "df.language.value_counts()"
   ]
  },
  {
   "cell_type": "code",
   "execution_count": 36,
   "id": "ee039215",
   "metadata": {},
   "outputs": [],
   "source": [
    "def duration(x):\n",
    "    if x > 120:\n",
    "        return 'Long Movie'\n",
    "    else:\n",
    "        return 'Short Movie'\n",
    "    \n",
    "df['duration'] = df['duration'].apply(duration)"
   ]
  },
  {
   "cell_type": "code",
   "execution_count": 37,
   "id": "e65b4f5d",
   "metadata": {},
   "outputs": [
    {
     "data": {
      "text/plain": [
       "0        Long Movie\n",
       "1        Long Movie\n",
       "2        Long Movie\n",
       "3        Long Movie\n",
       "5        Long Movie\n",
       "           ...     \n",
       "5033    Short Movie\n",
       "5034    Short Movie\n",
       "5035    Short Movie\n",
       "5037    Short Movie\n",
       "5042    Short Movie\n",
       "Name: duration, Length: 3853, dtype: object"
      ]
     },
     "execution_count": 37,
     "metadata": {},
     "output_type": "execute_result"
    }
   ],
   "source": [
    "df.duration"
   ]
  },
  {
   "cell_type": "code",
   "execution_count": 38,
   "id": "c4589f18",
   "metadata": {},
   "outputs": [
    {
     "data": {
      "text/plain": [
       "0           Action|Adventure|Fantasy|Sci-Fi\n",
       "1                  Action|Adventure|Fantasy\n",
       "2                 Action|Adventure|Thriller\n",
       "3                           Action|Thriller\n",
       "5                   Action|Adventure|Sci-Fi\n",
       "                       ...                 \n",
       "5033                  Drama|Sci-Fi|Thriller\n",
       "5034                               Thriller\n",
       "5035    Action|Crime|Drama|Romance|Thriller\n",
       "5037                           Comedy|Drama\n",
       "5042                            Documentary\n",
       "Name: genres, Length: 3853, dtype: category\n",
       "Categories (914, object): ['Action', 'Action|Adventure', 'Action|Adventure|Animation|Comedy|Crime|Famil..., 'Action|Adventure|Animation|Comedy|Drama|Famil..., ..., 'Thriller', 'Thriller|War', 'Thriller|Western', 'Western']"
      ]
     },
     "execution_count": 38,
     "metadata": {},
     "output_type": "execute_result"
    }
   ],
   "source": [
    "df.genres"
   ]
  },
  {
   "cell_type": "code",
   "execution_count": 44,
   "id": "0ff97a6b",
   "metadata": {
    "scrolled": true
   },
   "outputs": [],
   "source": [
    "df['genres'] = df['genres'].str.split('|')"
   ]
  },
  {
   "cell_type": "code",
   "execution_count": 50,
   "id": "8e163114",
   "metadata": {},
   "outputs": [],
   "source": [
    "df['genres_1'] = df['genres'].apply(lambda x: x[0])\n",
    "df['genres_2'] = df['genres'].apply(lambda x: x[1] if len(x) > 1 else x[0])\n",
    "df['genres_3'] = df['genres'].apply(lambda x: x[2] if len(x) > 2 else x[0])\n",
    "df['genres_4'] = df['genres'].apply(lambda x: x[3] if len(x) > 3 else x[0])"
   ]
  },
  {
   "cell_type": "code",
   "execution_count": 47,
   "id": "27d8dc1a",
   "metadata": {},
   "outputs": [
    {
     "data": {
      "text/plain": [
       "0            Action\n",
       "1            Action\n",
       "2            Action\n",
       "3            Action\n",
       "5            Action\n",
       "           ...     \n",
       "5033          Drama\n",
       "5034       Thriller\n",
       "5035         Action\n",
       "5037         Comedy\n",
       "5042    Documentary\n",
       "Name: genres_1, Length: 3853, dtype: object"
      ]
     },
     "execution_count": 47,
     "metadata": {},
     "output_type": "execute_result"
    }
   ],
   "source": []
  },
  {
   "cell_type": "code",
   "execution_count": 54,
   "id": "32b9f9f2",
   "metadata": {},
   "outputs": [],
   "source": [
    "#Social media popularity\n",
    "\n",
    "df['socialmediapopularity'] = (df['num_user_for_reviews']/df['num_voted_users']*df['movie_facebook_likes'])*1000000\n",
    "\n",
    "df['socialmediapopularity'] = df['socialmediapopularity'].astype('int')"
   ]
  },
  {
   "cell_type": "code",
   "execution_count": 58,
   "id": "352578a3",
   "metadata": {},
   "outputs": [],
   "source": [
    "x = df[['movie_title','socialmediapopularity']].sort_values(by = 'socialmediapopularity', ascending=False).head(10).reset_index()"
   ]
  },
  {
   "cell_type": "code",
   "execution_count": 59,
   "id": "96b8f616",
   "metadata": {},
   "outputs": [
    {
     "data": {
      "text/html": [
       "<div>\n",
       "<style scoped>\n",
       "    .dataframe tbody tr th:only-of-type {\n",
       "        vertical-align: middle;\n",
       "    }\n",
       "\n",
       "    .dataframe tbody tr th {\n",
       "        vertical-align: top;\n",
       "    }\n",
       "\n",
       "    .dataframe thead th {\n",
       "        text-align: right;\n",
       "    }\n",
       "</style>\n",
       "<table border=\"1\" class=\"dataframe\">\n",
       "  <thead>\n",
       "    <tr style=\"text-align: right;\">\n",
       "      <th></th>\n",
       "      <th>index</th>\n",
       "      <th>movie_title</th>\n",
       "      <th>socialmediapopularity</th>\n",
       "    </tr>\n",
       "  </thead>\n",
       "  <tbody>\n",
       "    <tr>\n",
       "      <th>0</th>\n",
       "      <td>10</td>\n",
       "      <td>Batman v Superman: Dawn of Justice</td>\n",
       "      <td>1599794424</td>\n",
       "    </tr>\n",
       "    <tr>\n",
       "      <th>1</th>\n",
       "      <td>150</td>\n",
       "      <td>Ghostbusters</td>\n",
       "      <td>1076336425</td>\n",
       "    </tr>\n",
       "    <tr>\n",
       "      <th>2</th>\n",
       "      <td>1582</td>\n",
       "      <td>Ghostbusters</td>\n",
       "      <td>1075827482</td>\n",
       "    </tr>\n",
       "    <tr>\n",
       "      <th>3</th>\n",
       "      <td>96</td>\n",
       "      <td>Interstellar</td>\n",
       "      <td>1024560802</td>\n",
       "    </tr>\n",
       "    <tr>\n",
       "      <th>4</th>\n",
       "      <td>3015</td>\n",
       "      <td>10 Days in a Madhouse</td>\n",
       "      <td>828025477</td>\n",
       "    </tr>\n",
       "    <tr>\n",
       "      <th>5</th>\n",
       "      <td>945</td>\n",
       "      <td>Into the Woods</td>\n",
       "      <td>692937199</td>\n",
       "    </tr>\n",
       "    <tr>\n",
       "      <th>6</th>\n",
       "      <td>73</td>\n",
       "      <td>Suicide Squad</td>\n",
       "      <td>652816996</td>\n",
       "    </tr>\n",
       "    <tr>\n",
       "      <th>7</th>\n",
       "      <td>1190</td>\n",
       "      <td>Fifty Shades of Grey</td>\n",
       "      <td>624306881</td>\n",
       "    </tr>\n",
       "    <tr>\n",
       "      <th>8</th>\n",
       "      <td>108</td>\n",
       "      <td>Warcraft</td>\n",
       "      <td>622790276</td>\n",
       "    </tr>\n",
       "    <tr>\n",
       "      <th>9</th>\n",
       "      <td>92</td>\n",
       "      <td>Independence Day: Resurgence</td>\n",
       "      <td>599274128</td>\n",
       "    </tr>\n",
       "  </tbody>\n",
       "</table>\n",
       "</div>"
      ],
      "text/plain": [
       "   index                          movie_title  socialmediapopularity\n",
       "0     10  Batman v Superman: Dawn of Justice              1599794424\n",
       "1    150                        Ghostbusters              1076336425\n",
       "2   1582                        Ghostbusters              1075827482\n",
       "3     96                        Interstellar              1024560802\n",
       "4   3015               10 Days in a Madhouse               828025477\n",
       "5    945                      Into the Woods               692937199\n",
       "6     73                       Suicide Squad               652816996\n",
       "7   1190                Fifty Shades of Grey               624306881\n",
       "8    108                            Warcraft               622790276\n",
       "9     92        Independence Day: Resurgence               599274128"
      ]
     },
     "execution_count": 59,
     "metadata": {},
     "output_type": "execute_result"
    }
   ],
   "source": [
    "x"
   ]
  },
  {
   "cell_type": "code",
   "execution_count": 62,
   "id": "a268e452",
   "metadata": {},
   "outputs": [
    {
     "data": {
      "text/plain": [
       "(array([0, 1, 2, 3, 4, 5, 6, 7, 8]),\n",
       " [Text(0, 0, 'Batman v Superman: Dawn of Justice\\xa0'),\n",
       "  Text(1, 0, 'Ghostbusters\\xa0'),\n",
       "  Text(2, 0, 'Interstellar\\xa0'),\n",
       "  Text(3, 0, '10 Days in a Madhouse\\xa0'),\n",
       "  Text(4, 0, 'Into the Woods\\xa0'),\n",
       "  Text(5, 0, 'Suicide Squad\\xa0'),\n",
       "  Text(6, 0, 'Fifty Shades of Grey\\xa0'),\n",
       "  Text(7, 0, 'Warcraft\\xa0'),\n",
       "  Text(8, 0, 'Independence Day: Resurgence\\xa0')])"
      ]
     },
     "execution_count": 62,
     "metadata": {},
     "output_type": "execute_result"
    },
    {
     "data": {
      "image/png": "[encoded data removed]",
      "text/plain": [
       "<Figure size 1152x360 with 1 Axes>"
      ]
     },
     "metadata": {},
     "output_type": "display_data"
    }
   ],
   "source": [
    "sns.barplot(x['movie_title'], x['socialmediapopularity'], palette='magma')\n",
    "plt.xticks(rotation = 90)"
   ]
  },
  {
   "cell_type": "code",
   "execution_count": null,
   "id": "fa9cb169",
   "metadata": {},
   "outputs": [],
   "source": []
  },
  {
   "cell_type": "code",
   "execution_count": null,
   "id": "dbcca142",
   "metadata": {},
   "outputs": [],
   "source": []
  },
  {
   "cell_type": "code",
   "execution_count": null,
   "id": "d8e30994",
   "metadata": {},
   "outputs": [],
   "source": []
  }
 ],
 "metadata": {
  "kernelspec": {
   "display_name": "Python 3",
   "language": "python",
   "name": "python3"
  },
  "language_info": {
   "codemirror_mode": {
    "name": "ipython",
    "version": 3
   },
   "file_extension": ".py",
   "mimetype": "text/x-python",
   "name": "python",
   "nbconvert_exporter": "python",
   "pygments_lexer": "ipython3",
   "version": "3.8.8"
  }
 },
 "nbformat": 4,
 "nbformat_minor": 5
}
