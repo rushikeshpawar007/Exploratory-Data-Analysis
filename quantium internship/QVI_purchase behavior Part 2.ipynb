{
 "cells": [
  {
   "cell_type": "code",
   "execution_count": 1,
   "id": "provincial-anthony",
   "metadata": {},
   "outputs": [],
   "source": [
    "import pandas as pd\n",
    "import numpy as np\n",
    "import matplotlib.pyplot as plt"
   ]
  },
  {
   "cell_type": "code",
   "execution_count": 2,
   "id": "editorial-decimal",
   "metadata": {},
   "outputs": [],
   "source": [
    "df = pd.read_excel('QVI_transaction_data.xlsx')"
   ]
  },
  {
   "cell_type": "code",
   "execution_count": 3,
   "id": "ancient-velvet",
   "metadata": {},
   "outputs": [
    {
     "data": {
      "text/html": [
       "<div>\n",
       "<style scoped>\n",
       "    .dataframe tbody tr th:only-of-type {\n",
       "        vertical-align: middle;\n",
       "    }\n",
       "\n",
       "    .dataframe tbody tr th {\n",
       "        vertical-align: top;\n",
       "    }\n",
       "\n",
       "    .dataframe thead th {\n",
       "        text-align: right;\n",
       "    }\n",
       "</style>\n",
       "<table border=\"1\" class=\"dataframe\">\n",
       "  <thead>\n",
       "    <tr style=\"text-align: right;\">\n",
       "      <th></th>\n",
       "      <th>DATE</th>\n",
       "      <th>STORE_NBR</th>\n",
       "      <th>LYLTY_CARD_NBR</th>\n",
       "      <th>TXN_ID</th>\n",
       "      <th>PROD_NBR</th>\n",
       "      <th>PROD_NAME</th>\n",
       "      <th>PROD_QTY</th>\n",
       "      <th>TOT_SALES</th>\n",
       "    </tr>\n",
       "  </thead>\n",
       "  <tbody>\n",
       "    <tr>\n",
       "      <th>0</th>\n",
       "      <td>43390</td>\n",
       "      <td>1</td>\n",
       "      <td>1000</td>\n",
       "      <td>1</td>\n",
       "      <td>5</td>\n",
       "      <td>Natural Chip        Compny SeaSalt175g</td>\n",
       "      <td>2</td>\n",
       "      <td>6.0</td>\n",
       "    </tr>\n",
       "    <tr>\n",
       "      <th>1</th>\n",
       "      <td>43599</td>\n",
       "      <td>1</td>\n",
       "      <td>1307</td>\n",
       "      <td>348</td>\n",
       "      <td>66</td>\n",
       "      <td>CCs Nacho Cheese    175g</td>\n",
       "      <td>3</td>\n",
       "      <td>6.3</td>\n",
       "    </tr>\n",
       "    <tr>\n",
       "      <th>2</th>\n",
       "      <td>43605</td>\n",
       "      <td>1</td>\n",
       "      <td>1343</td>\n",
       "      <td>383</td>\n",
       "      <td>61</td>\n",
       "      <td>Smiths Crinkle Cut  Chips Chicken 170g</td>\n",
       "      <td>2</td>\n",
       "      <td>2.9</td>\n",
       "    </tr>\n",
       "    <tr>\n",
       "      <th>3</th>\n",
       "      <td>43329</td>\n",
       "      <td>2</td>\n",
       "      <td>2373</td>\n",
       "      <td>974</td>\n",
       "      <td>69</td>\n",
       "      <td>Smiths Chip Thinly  S/Cream&amp;Onion 175g</td>\n",
       "      <td>5</td>\n",
       "      <td>15.0</td>\n",
       "    </tr>\n",
       "    <tr>\n",
       "      <th>4</th>\n",
       "      <td>43330</td>\n",
       "      <td>2</td>\n",
       "      <td>2426</td>\n",
       "      <td>1038</td>\n",
       "      <td>108</td>\n",
       "      <td>Kettle Tortilla ChpsHny&amp;Jlpno Chili 150g</td>\n",
       "      <td>3</td>\n",
       "      <td>13.8</td>\n",
       "    </tr>\n",
       "  </tbody>\n",
       "</table>\n",
       "</div>"
      ],
      "text/plain": [
       "    DATE  STORE_NBR  LYLTY_CARD_NBR  TXN_ID  PROD_NBR  \\\n",
       "0  43390          1            1000       1         5   \n",
       "1  43599          1            1307     348        66   \n",
       "2  43605          1            1343     383        61   \n",
       "3  43329          2            2373     974        69   \n",
       "4  43330          2            2426    1038       108   \n",
       "\n",
       "                                  PROD_NAME  PROD_QTY  TOT_SALES  \n",
       "0    Natural Chip        Compny SeaSalt175g         2        6.0  \n",
       "1                  CCs Nacho Cheese    175g         3        6.3  \n",
       "2    Smiths Crinkle Cut  Chips Chicken 170g         2        2.9  \n",
       "3    Smiths Chip Thinly  S/Cream&Onion 175g         5       15.0  \n",
       "4  Kettle Tortilla ChpsHny&Jlpno Chili 150g         3       13.8  "
      ]
     },
     "execution_count": 3,
     "metadata": {},
     "output_type": "execute_result"
    }
   ],
   "source": [
    "df.head()"
   ]
  },
  {
   "cell_type": "code",
   "execution_count": 4,
   "id": "pharmaceutical-damage",
   "metadata": {},
   "outputs": [
    {
     "data": {
      "text/plain": [
       "(264836, 8)"
      ]
     },
     "execution_count": 4,
     "metadata": {},
     "output_type": "execute_result"
    }
   ],
   "source": [
    "df.shape"
   ]
  },
  {
   "cell_type": "code",
   "execution_count": 5,
   "id": "adjustable-detective",
   "metadata": {},
   "outputs": [],
   "source": [
    "df = df.drop(columns='DATE')"
   ]
  },
  {
   "cell_type": "code",
   "execution_count": 6,
   "id": "equipped-discount",
   "metadata": {},
   "outputs": [
    {
     "data": {
      "text/html": [
       "<div>\n",
       "<style scoped>\n",
       "    .dataframe tbody tr th:only-of-type {\n",
       "        vertical-align: middle;\n",
       "    }\n",
       "\n",
       "    .dataframe tbody tr th {\n",
       "        vertical-align: top;\n",
       "    }\n",
       "\n",
       "    .dataframe thead th {\n",
       "        text-align: right;\n",
       "    }\n",
       "</style>\n",
       "<table border=\"1\" class=\"dataframe\">\n",
       "  <thead>\n",
       "    <tr style=\"text-align: right;\">\n",
       "      <th></th>\n",
       "      <th>STORE_NBR</th>\n",
       "      <th>LYLTY_CARD_NBR</th>\n",
       "      <th>TXN_ID</th>\n",
       "      <th>PROD_NBR</th>\n",
       "      <th>PROD_QTY</th>\n",
       "      <th>TOT_SALES</th>\n",
       "    </tr>\n",
       "  </thead>\n",
       "  <tbody>\n",
       "    <tr>\n",
       "      <th>0</th>\n",
       "      <td>1</td>\n",
       "      <td>1000</td>\n",
       "      <td>1</td>\n",
       "      <td>5</td>\n",
       "      <td>2</td>\n",
       "      <td>6.0</td>\n",
       "    </tr>\n",
       "    <tr>\n",
       "      <th>1</th>\n",
       "      <td>1</td>\n",
       "      <td>1307</td>\n",
       "      <td>348</td>\n",
       "      <td>66</td>\n",
       "      <td>3</td>\n",
       "      <td>6.3</td>\n",
       "    </tr>\n",
       "  </tbody>\n",
       "</table>\n",
       "</div>"
      ],
      "text/plain": [
       "   STORE_NBR  LYLTY_CARD_NBR  TXN_ID  PROD_NBR  PROD_QTY  TOT_SALES\n",
       "0          1            1000       1         5         2        6.0\n",
       "1          1            1307     348        66         3        6.3"
      ]
     },
     "execution_count": 6,
     "metadata": {},
     "output_type": "execute_result"
    }
   ],
   "source": [
    "num_data=df.select_dtypes(include=np.number)\n",
    "num_data.head(2)"
   ]
  },
  {
   "cell_type": "code",
   "execution_count": 7,
   "id": "lined-region",
   "metadata": {},
   "outputs": [
    {
     "data": {
      "text/html": [
       "<div>\n",
       "<style scoped>\n",
       "    .dataframe tbody tr th:only-of-type {\n",
       "        vertical-align: middle;\n",
       "    }\n",
       "\n",
       "    .dataframe tbody tr th {\n",
       "        vertical-align: top;\n",
       "    }\n",
       "\n",
       "    .dataframe thead th {\n",
       "        text-align: right;\n",
       "    }\n",
       "</style>\n",
       "<table border=\"1\" class=\"dataframe\">\n",
       "  <thead>\n",
       "    <tr style=\"text-align: right;\">\n",
       "      <th></th>\n",
       "      <th>STORE_NBR</th>\n",
       "      <th>LYLTY_CARD_NBR</th>\n",
       "      <th>TXN_ID</th>\n",
       "      <th>PROD_NBR</th>\n",
       "      <th>PROD_NAME</th>\n",
       "      <th>PROD_QTY</th>\n",
       "      <th>TOT_SALES</th>\n",
       "    </tr>\n",
       "  </thead>\n",
       "  <tbody>\n",
       "    <tr>\n",
       "      <th>0</th>\n",
       "      <td>1</td>\n",
       "      <td>1000</td>\n",
       "      <td>1</td>\n",
       "      <td>5</td>\n",
       "      <td>Natural Chip        Compny SeaSalt175g</td>\n",
       "      <td>2</td>\n",
       "      <td>6.0</td>\n",
       "    </tr>\n",
       "    <tr>\n",
       "      <th>1</th>\n",
       "      <td>1</td>\n",
       "      <td>1307</td>\n",
       "      <td>348</td>\n",
       "      <td>66</td>\n",
       "      <td>CCs Nacho Cheese    175g</td>\n",
       "      <td>3</td>\n",
       "      <td>6.3</td>\n",
       "    </tr>\n",
       "  </tbody>\n",
       "</table>\n",
       "</div>"
      ],
      "text/plain": [
       "   STORE_NBR  LYLTY_CARD_NBR  TXN_ID  PROD_NBR  \\\n",
       "0          1            1000       1         5   \n",
       "1          1            1307     348        66   \n",
       "\n",
       "                                PROD_NAME  PROD_QTY  TOT_SALES  \n",
       "0  Natural Chip        Compny SeaSalt175g         2        6.0  \n",
       "1                CCs Nacho Cheese    175g         3        6.3  "
      ]
     },
     "execution_count": 7,
     "metadata": {},
     "output_type": "execute_result"
    }
   ],
   "source": [
    "df.head(2)"
   ]
  },
  {
   "cell_type": "code",
   "execution_count": 8,
   "id": "clear-request",
   "metadata": {},
   "outputs": [
    {
     "data": {
      "text/html": [
       "<div>\n",
       "<style scoped>\n",
       "    .dataframe tbody tr th:only-of-type {\n",
       "        vertical-align: middle;\n",
       "    }\n",
       "\n",
       "    .dataframe tbody tr th {\n",
       "        vertical-align: top;\n",
       "    }\n",
       "\n",
       "    .dataframe thead th {\n",
       "        text-align: right;\n",
       "    }\n",
       "</style>\n",
       "<table border=\"1\" class=\"dataframe\">\n",
       "  <thead>\n",
       "    <tr style=\"text-align: right;\">\n",
       "      <th></th>\n",
       "      <th>PROD_NAME</th>\n",
       "    </tr>\n",
       "  </thead>\n",
       "  <tbody>\n",
       "    <tr>\n",
       "      <th>0</th>\n",
       "      <td>Natural Chip        Compny SeaSalt175g</td>\n",
       "    </tr>\n",
       "    <tr>\n",
       "      <th>1</th>\n",
       "      <td>CCs Nacho Cheese    175g</td>\n",
       "    </tr>\n",
       "  </tbody>\n",
       "</table>\n",
       "</div>"
      ],
      "text/plain": [
       "                                PROD_NAME\n",
       "0  Natural Chip        Compny SeaSalt175g\n",
       "1                CCs Nacho Cheese    175g"
      ]
     },
     "execution_count": 8,
     "metadata": {},
     "output_type": "execute_result"
    }
   ],
   "source": [
    "cat_data=df.select_dtypes(exclude=np.number)\n",
    "cat_data.head(2)"
   ]
  },
  {
   "cell_type": "code",
   "execution_count": 9,
   "id": "engaged-batch",
   "metadata": {},
   "outputs": [
    {
     "data": {
      "text/plain": [
       "STORE_NBR            135.080110\n",
       "LYLTY_CARD_NBR    135549.476404\n",
       "TXN_ID            135158.310815\n",
       "PROD_NBR              56.583157\n",
       "PROD_QTY               1.907309\n",
       "TOT_SALES              7.304200\n",
       "dtype: float64"
      ]
     },
     "execution_count": 9,
     "metadata": {},
     "output_type": "execute_result"
    }
   ],
   "source": [
    "me=num_data.mean()\n",
    "me"
   ]
  },
  {
   "cell_type": "code",
   "execution_count": 10,
   "id": "secret-tolerance",
   "metadata": {},
   "outputs": [
    {
     "data": {
      "text/plain": [
       "(73, 7)"
      ]
     },
     "execution_count": 10,
     "metadata": {},
     "output_type": "execute_result"
    }
   ],
   "source": [
    "df.loc[df['STORE_NBR']==135].shape"
   ]
  },
  {
   "cell_type": "code",
   "execution_count": 12,
   "id": "blank-investor",
   "metadata": {},
   "outputs": [
    {
     "data": {
      "text/html": [
       "<div>\n",
       "<style scoped>\n",
       "    .dataframe tbody tr th:only-of-type {\n",
       "        vertical-align: middle;\n",
       "    }\n",
       "\n",
       "    .dataframe tbody tr th {\n",
       "        vertical-align: top;\n",
       "    }\n",
       "\n",
       "    .dataframe thead th {\n",
       "        text-align: right;\n",
       "    }\n",
       "</style>\n",
       "<table border=\"1\" class=\"dataframe\">\n",
       "  <thead>\n",
       "    <tr style=\"text-align: right;\">\n",
       "      <th></th>\n",
       "      <th>STORE_NBR</th>\n",
       "      <th>LYLTY_CARD_NBR</th>\n",
       "      <th>TXN_ID</th>\n",
       "      <th>PROD_NBR</th>\n",
       "      <th>PROD_QTY</th>\n",
       "      <th>TOT_SALES</th>\n",
       "    </tr>\n",
       "  </thead>\n",
       "  <tbody>\n",
       "    <tr>\n",
       "      <th>count</th>\n",
       "      <td>264836.00000</td>\n",
       "      <td>2.648360e+05</td>\n",
       "      <td>2.648360e+05</td>\n",
       "      <td>264836.000000</td>\n",
       "      <td>264836.000000</td>\n",
       "      <td>264836.000000</td>\n",
       "    </tr>\n",
       "    <tr>\n",
       "      <th>mean</th>\n",
       "      <td>135.08011</td>\n",
       "      <td>1.355495e+05</td>\n",
       "      <td>1.351583e+05</td>\n",
       "      <td>56.583157</td>\n",
       "      <td>1.907309</td>\n",
       "      <td>7.304200</td>\n",
       "    </tr>\n",
       "    <tr>\n",
       "      <th>std</th>\n",
       "      <td>76.78418</td>\n",
       "      <td>8.057998e+04</td>\n",
       "      <td>7.813303e+04</td>\n",
       "      <td>32.826638</td>\n",
       "      <td>0.643654</td>\n",
       "      <td>3.083226</td>\n",
       "    </tr>\n",
       "    <tr>\n",
       "      <th>min</th>\n",
       "      <td>1.00000</td>\n",
       "      <td>1.000000e+03</td>\n",
       "      <td>1.000000e+00</td>\n",
       "      <td>1.000000</td>\n",
       "      <td>1.000000</td>\n",
       "      <td>1.500000</td>\n",
       "    </tr>\n",
       "    <tr>\n",
       "      <th>25%</th>\n",
       "      <td>70.00000</td>\n",
       "      <td>7.002100e+04</td>\n",
       "      <td>6.760150e+04</td>\n",
       "      <td>28.000000</td>\n",
       "      <td>2.000000</td>\n",
       "      <td>5.400000</td>\n",
       "    </tr>\n",
       "    <tr>\n",
       "      <th>50%</th>\n",
       "      <td>130.00000</td>\n",
       "      <td>1.303575e+05</td>\n",
       "      <td>1.351375e+05</td>\n",
       "      <td>56.000000</td>\n",
       "      <td>2.000000</td>\n",
       "      <td>7.400000</td>\n",
       "    </tr>\n",
       "    <tr>\n",
       "      <th>75%</th>\n",
       "      <td>203.00000</td>\n",
       "      <td>2.030942e+05</td>\n",
       "      <td>2.027012e+05</td>\n",
       "      <td>85.000000</td>\n",
       "      <td>2.000000</td>\n",
       "      <td>9.200000</td>\n",
       "    </tr>\n",
       "    <tr>\n",
       "      <th>max</th>\n",
       "      <td>272.00000</td>\n",
       "      <td>2.373711e+06</td>\n",
       "      <td>2.415841e+06</td>\n",
       "      <td>114.000000</td>\n",
       "      <td>200.000000</td>\n",
       "      <td>650.000000</td>\n",
       "    </tr>\n",
       "  </tbody>\n",
       "</table>\n",
       "</div>"
      ],
      "text/plain": [
       "          STORE_NBR  LYLTY_CARD_NBR        TXN_ID       PROD_NBR  \\\n",
       "count  264836.00000    2.648360e+05  2.648360e+05  264836.000000   \n",
       "mean      135.08011    1.355495e+05  1.351583e+05      56.583157   \n",
       "std        76.78418    8.057998e+04  7.813303e+04      32.826638   \n",
       "min         1.00000    1.000000e+03  1.000000e+00       1.000000   \n",
       "25%        70.00000    7.002100e+04  6.760150e+04      28.000000   \n",
       "50%       130.00000    1.303575e+05  1.351375e+05      56.000000   \n",
       "75%       203.00000    2.030942e+05  2.027012e+05      85.000000   \n",
       "max       272.00000    2.373711e+06  2.415841e+06     114.000000   \n",
       "\n",
       "            PROD_QTY      TOT_SALES  \n",
       "count  264836.000000  264836.000000  \n",
       "mean        1.907309       7.304200  \n",
       "std         0.643654       3.083226  \n",
       "min         1.000000       1.500000  \n",
       "25%         2.000000       5.400000  \n",
       "50%         2.000000       7.400000  \n",
       "75%         2.000000       9.200000  \n",
       "max       200.000000     650.000000  "
      ]
     },
     "execution_count": 12,
     "metadata": {},
     "output_type": "execute_result"
    }
   ],
   "source": [
    "df.describe()"
   ]
  },
  {
   "cell_type": "code",
   "execution_count": 13,
   "id": "surface-northwest",
   "metadata": {},
   "outputs": [
    {
     "data": {
      "text/plain": [
       "{'whiskers': [<matplotlib.lines.Line2D at 0x1e5ea1ce7f0>,\n",
       "  <matplotlib.lines.Line2D at 0x1e5ea1ceac0>],\n",
       " 'caps': [<matplotlib.lines.Line2D at 0x1e5ea1cee50>,\n",
       "  <matplotlib.lines.Line2D at 0x1e5ea1db220>],\n",
       " 'boxes': [<matplotlib.lines.Line2D at 0x1e5ea1ce3a0>],\n",
       " 'medians': [<matplotlib.lines.Line2D at 0x1e5ea1db5b0>],\n",
       " 'fliers': [<matplotlib.lines.Line2D at 0x1e5ea1db940>],\n",
       " 'means': []}"
      ]
     },
     "execution_count": 13,
     "metadata": {},
     "output_type": "execute_result"
    },
    {
     "data": {
      "image/png": "[encoded data removed]",
      "text/plain": [
       "<Figure size 432x288 with 1 Axes>"
      ]
     },
     "metadata": {
      "needs_background": "light"
     },
     "output_type": "display_data"
    }
   ],
   "source": [
    "plt.boxplot(df.PROD_QTY)"
   ]
  },
  {
   "cell_type": "code",
   "execution_count": 14,
   "id": "inclusive-persian",
   "metadata": {},
   "outputs": [
    {
     "data": {
      "text/html": [
       "<div>\n",
       "<style scoped>\n",
       "    .dataframe tbody tr th:only-of-type {\n",
       "        vertical-align: middle;\n",
       "    }\n",
       "\n",
       "    .dataframe tbody tr th {\n",
       "        vertical-align: top;\n",
       "    }\n",
       "\n",
       "    .dataframe thead th {\n",
       "        text-align: right;\n",
       "    }\n",
       "</style>\n",
       "<table border=\"1\" class=\"dataframe\">\n",
       "  <thead>\n",
       "    <tr style=\"text-align: right;\">\n",
       "      <th></th>\n",
       "      <th>STORE_NBR</th>\n",
       "      <th>LYLTY_CARD_NBR</th>\n",
       "      <th>TXN_ID</th>\n",
       "      <th>PROD_NBR</th>\n",
       "      <th>PROD_NAME</th>\n",
       "      <th>PROD_QTY</th>\n",
       "      <th>TOT_SALES</th>\n",
       "    </tr>\n",
       "  </thead>\n",
       "  <tbody>\n",
       "    <tr>\n",
       "      <th>69762</th>\n",
       "      <td>226</td>\n",
       "      <td>226000</td>\n",
       "      <td>226201</td>\n",
       "      <td>4</td>\n",
       "      <td>Dorito Corn Chp     Supreme 380g</td>\n",
       "      <td>200</td>\n",
       "      <td>650.0</td>\n",
       "    </tr>\n",
       "    <tr>\n",
       "      <th>69763</th>\n",
       "      <td>226</td>\n",
       "      <td>226000</td>\n",
       "      <td>226210</td>\n",
       "      <td>4</td>\n",
       "      <td>Dorito Corn Chp     Supreme 380g</td>\n",
       "      <td>200</td>\n",
       "      <td>650.0</td>\n",
       "    </tr>\n",
       "  </tbody>\n",
       "</table>\n",
       "</div>"
      ],
      "text/plain": [
       "       STORE_NBR  LYLTY_CARD_NBR  TXN_ID  PROD_NBR  \\\n",
       "69762        226          226000  226201         4   \n",
       "69763        226          226000  226210         4   \n",
       "\n",
       "                              PROD_NAME  PROD_QTY  TOT_SALES  \n",
       "69762  Dorito Corn Chp     Supreme 380g       200      650.0  \n",
       "69763  Dorito Corn Chp     Supreme 380g       200      650.0  "
      ]
     },
     "execution_count": 14,
     "metadata": {},
     "output_type": "execute_result"
    }
   ],
   "source": [
    "df.loc[df.PROD_QTY == 200]"
   ]
  },
  {
   "cell_type": "markdown",
   "id": "martial-collapse",
   "metadata": {},
   "source": [
    "Here we can see that max number of single product that was sold by any sotre was store no. 226.\n",
    "The product that was sold was Dorito Corn Chp Supreme 380g."
   ]
  },
  {
   "cell_type": "code",
   "execution_count": 15,
   "id": "familiar-moldova",
   "metadata": {},
   "outputs": [],
   "source": [
    "PROD_QTY = df.PROD_QTY.value_counts()"
   ]
  },
  {
   "cell_type": "code",
   "execution_count": 16,
   "id": "false-standard",
   "metadata": {},
   "outputs": [
    {
     "data": {
      "text/plain": [
       "<AxesSubplot:>"
      ]
     },
     "execution_count": 16,
     "metadata": {},
     "output_type": "execute_result"
    },
    {
     "data": {
      "image/png": "[encoded data removed]",
      "text/plain": [
       "<Figure size 432x288 with 1 Axes>"
      ]
     },
     "metadata": {
      "needs_background": "light"
     },
     "output_type": "display_data"
    }
   ],
   "source": [
    "PROD_QTY.plot(kind= 'bar')"
   ]
  },
  {
   "cell_type": "code",
   "execution_count": 85,
   "id": "static-cameroon",
   "metadata": {},
   "outputs": [
    {
     "data": {
      "text/html": [
       "<div>\n",
       "<style scoped>\n",
       "    .dataframe tbody tr th:only-of-type {\n",
       "        vertical-align: middle;\n",
       "    }\n",
       "\n",
       "    .dataframe tbody tr th {\n",
       "        vertical-align: top;\n",
       "    }\n",
       "\n",
       "    .dataframe thead th {\n",
       "        text-align: right;\n",
       "    }\n",
       "</style>\n",
       "<table border=\"1\" class=\"dataframe\">\n",
       "  <thead>\n",
       "    <tr style=\"text-align: right;\">\n",
       "      <th></th>\n",
       "      <th>STORE_NBR</th>\n",
       "      <th>LYLTY_CARD_NBR</th>\n",
       "      <th>TXN_ID</th>\n",
       "      <th>PROD_NBR</th>\n",
       "      <th>PROD_NAME</th>\n",
       "      <th>PROD_QTY</th>\n",
       "      <th>TOT_SALES</th>\n",
       "    </tr>\n",
       "  </thead>\n",
       "  <tbody>\n",
       "    <tr>\n",
       "      <th>0</th>\n",
       "      <td>1</td>\n",
       "      <td>1000</td>\n",
       "      <td>1</td>\n",
       "      <td>5</td>\n",
       "      <td>Natural Chip        Compny SeaSalt175g</td>\n",
       "      <td>2</td>\n",
       "      <td>6.0</td>\n",
       "    </tr>\n",
       "    <tr>\n",
       "      <th>2</th>\n",
       "      <td>1</td>\n",
       "      <td>1343</td>\n",
       "      <td>383</td>\n",
       "      <td>61</td>\n",
       "      <td>Smiths Crinkle Cut  Chips Chicken 170g</td>\n",
       "      <td>2</td>\n",
       "      <td>2.9</td>\n",
       "    </tr>\n",
       "    <tr>\n",
       "      <th>9</th>\n",
       "      <td>7</td>\n",
       "      <td>7150</td>\n",
       "      <td>6900</td>\n",
       "      <td>52</td>\n",
       "      <td>Grain Waves Sour    Cream&amp;Chives 210G</td>\n",
       "      <td>2</td>\n",
       "      <td>7.2</td>\n",
       "    </tr>\n",
       "    <tr>\n",
       "      <th>12</th>\n",
       "      <td>9</td>\n",
       "      <td>9208</td>\n",
       "      <td>8634</td>\n",
       "      <td>15</td>\n",
       "      <td>Twisties Cheese     270g</td>\n",
       "      <td>2</td>\n",
       "      <td>9.2</td>\n",
       "    </tr>\n",
       "    <tr>\n",
       "      <th>24</th>\n",
       "      <td>38</td>\n",
       "      <td>38142</td>\n",
       "      <td>34181</td>\n",
       "      <td>108</td>\n",
       "      <td>Kettle Tortilla ChpsHny&amp;Jlpno Chili 150g</td>\n",
       "      <td>2</td>\n",
       "      <td>9.2</td>\n",
       "    </tr>\n",
       "    <tr>\n",
       "      <th>...</th>\n",
       "      <td>...</td>\n",
       "      <td>...</td>\n",
       "      <td>...</td>\n",
       "      <td>...</td>\n",
       "      <td>...</td>\n",
       "      <td>...</td>\n",
       "      <td>...</td>\n",
       "    </tr>\n",
       "    <tr>\n",
       "      <th>264830</th>\n",
       "      <td>272</td>\n",
       "      <td>272319</td>\n",
       "      <td>270087</td>\n",
       "      <td>44</td>\n",
       "      <td>Thins Chips Light&amp;  Tangy 175g</td>\n",
       "      <td>2</td>\n",
       "      <td>6.6</td>\n",
       "    </tr>\n",
       "    <tr>\n",
       "      <th>264831</th>\n",
       "      <td>272</td>\n",
       "      <td>272319</td>\n",
       "      <td>270088</td>\n",
       "      <td>89</td>\n",
       "      <td>Kettle Sweet Chilli And Sour Cream 175g</td>\n",
       "      <td>2</td>\n",
       "      <td>10.8</td>\n",
       "    </tr>\n",
       "    <tr>\n",
       "      <th>264833</th>\n",
       "      <td>272</td>\n",
       "      <td>272379</td>\n",
       "      <td>270187</td>\n",
       "      <td>51</td>\n",
       "      <td>Doritos Mexicana    170g</td>\n",
       "      <td>2</td>\n",
       "      <td>8.8</td>\n",
       "    </tr>\n",
       "    <tr>\n",
       "      <th>264834</th>\n",
       "      <td>272</td>\n",
       "      <td>272379</td>\n",
       "      <td>270188</td>\n",
       "      <td>42</td>\n",
       "      <td>Doritos Corn Chip Mexican Jalapeno 150g</td>\n",
       "      <td>2</td>\n",
       "      <td>7.8</td>\n",
       "    </tr>\n",
       "    <tr>\n",
       "      <th>264835</th>\n",
       "      <td>272</td>\n",
       "      <td>272380</td>\n",
       "      <td>270189</td>\n",
       "      <td>74</td>\n",
       "      <td>Tostitos Splash Of  Lime 175g</td>\n",
       "      <td>2</td>\n",
       "      <td>8.8</td>\n",
       "    </tr>\n",
       "  </tbody>\n",
       "</table>\n",
       "<p>236039 rows × 7 columns</p>\n",
       "</div>"
      ],
      "text/plain": [
       "        STORE_NBR  LYLTY_CARD_NBR  TXN_ID  PROD_NBR  \\\n",
       "0               1            1000       1         5   \n",
       "2               1            1343     383        61   \n",
       "9               7            7150    6900        52   \n",
       "12              9            9208    8634        15   \n",
       "24             38           38142   34181       108   \n",
       "...           ...             ...     ...       ...   \n",
       "264830        272          272319  270087        44   \n",
       "264831        272          272319  270088        89   \n",
       "264833        272          272379  270187        51   \n",
       "264834        272          272379  270188        42   \n",
       "264835        272          272380  270189        74   \n",
       "\n",
       "                                       PROD_NAME  PROD_QTY  TOT_SALES  \n",
       "0         Natural Chip        Compny SeaSalt175g         2        6.0  \n",
       "2         Smiths Crinkle Cut  Chips Chicken 170g         2        2.9  \n",
       "9          Grain Waves Sour    Cream&Chives 210G         2        7.2  \n",
       "12                      Twisties Cheese     270g         2        9.2  \n",
       "24      Kettle Tortilla ChpsHny&Jlpno Chili 150g         2        9.2  \n",
       "...                                          ...       ...        ...  \n",
       "264830            Thins Chips Light&  Tangy 175g         2        6.6  \n",
       "264831   Kettle Sweet Chilli And Sour Cream 175g         2       10.8  \n",
       "264833                  Doritos Mexicana    170g         2        8.8  \n",
       "264834   Doritos Corn Chip Mexican Jalapeno 150g         2        7.8  \n",
       "264835             Tostitos Splash Of  Lime 175g         2        8.8  \n",
       "\n",
       "[236039 rows x 7 columns]"
      ]
     },
     "execution_count": 85,
     "metadata": {},
     "output_type": "execute_result"
    }
   ],
   "source": [
    "df.loc[df.PROD_QTY == 2]"
   ]
  },
  {
   "cell_type": "code",
   "execution_count": 17,
   "id": "distant-physics",
   "metadata": {
    "scrolled": true
   },
   "outputs": [
    {
     "name": "stdout",
     "output_type": "stream",
     "text": [
      "(450, 7)\n",
      "(430, 7)\n",
      "(397, 7)\n",
      "(2, 7)\n"
     ]
    }
   ],
   "source": [
    "print(df.loc[df.PROD_QTY == 5].shape)\n",
    "print(df.loc[df.PROD_QTY == 3].shape)\n",
    "print(df.loc[df.PROD_QTY == 4].shape)\n",
    "print(df.loc[df.PROD_QTY == 200].shape)"
   ]
  },
  {
   "cell_type": "code",
   "execution_count": 18,
   "id": "higher-tucson",
   "metadata": {},
   "outputs": [
    {
     "data": {
      "text/plain": [
       "{'whiskers': [<matplotlib.lines.Line2D at 0x1e5e9ab9340>,\n",
       "  <matplotlib.lines.Line2D at 0x1e5e9ab96d0>],\n",
       " 'caps': [<matplotlib.lines.Line2D at 0x1e5e9ab9a60>,\n",
       "  <matplotlib.lines.Line2D at 0x1e5e9ab9df0>],\n",
       " 'boxes': [<matplotlib.lines.Line2D at 0x1e5e9aa8f70>],\n",
       " 'medians': [<matplotlib.lines.Line2D at 0x1e5eaa481c0>],\n",
       " 'fliers': [<matplotlib.lines.Line2D at 0x1e5eaa48550>],\n",
       " 'means': []}"
      ]
     },
     "execution_count": 18,
     "metadata": {},
     "output_type": "execute_result"
    },
    {
     "data": {
      "image/png": "[encoded data removed]",
      "text/plain": [
       "<Figure size 432x288 with 1 Axes>"
      ]
     },
     "metadata": {
      "needs_background": "light"
     },
     "output_type": "display_data"
    }
   ],
   "source": [
    "plt.boxplot(df.STORE_NBR)"
   ]
  },
  {
   "cell_type": "code",
   "execution_count": 28,
   "id": "favorite-handling",
   "metadata": {},
   "outputs": [
    {
     "data": {
      "text/plain": [
       "<AxesSubplot:>"
      ]
     },
     "execution_count": 28,
     "metadata": {},
     "output_type": "execute_result"
    },
    {
     "data": {
      "image/png": "[encoded data removed]",
      "text/plain": [
       "<Figure size 432x288 with 1 Axes>"
      ]
     },
     "metadata": {
      "needs_background": "light"
     },
     "output_type": "display_data"
    }
   ],
   "source": [
    "df.STORE_NBR.value_counts().plot(kind = 'bar')"
   ]
  },
  {
   "cell_type": "code",
   "execution_count": 36,
   "id": "killing-tucson",
   "metadata": {},
   "outputs": [
    {
     "data": {
      "text/plain": [
       "226    2022\n",
       "88     1873\n",
       "93     1832\n",
       "165    1819\n",
       "237    1785\n",
       "       ... \n",
       "206       2\n",
       "11        2\n",
       "211       2\n",
       "92        1\n",
       "76        1\n",
       "Name: STORE_NBR, Length: 272, dtype: int64"
      ]
     },
     "execution_count": 36,
     "metadata": {},
     "output_type": "execute_result"
    }
   ],
   "source": [
    "df.STORE_NBR.value_counts()"
   ]
  },
  {
   "cell_type": "code",
   "execution_count": 38,
   "id": "figured-buffer",
   "metadata": {},
   "outputs": [],
   "source": [
    "total_store = df.STORE_NBR.unique()"
   ]
  },
  {
   "cell_type": "code",
   "execution_count": 40,
   "id": "conscious-scout",
   "metadata": {},
   "outputs": [
    {
     "data": {
      "text/plain": [
       "array([  1,   2,   4,   5,   7,   8,   9,  13,  19,  20,  22,  23,  25,\n",
       "        33,  36,  38,  39,  41,  43,  45,  51,  54,  55,  56,  58,  59,\n",
       "        60,  62,  63,  67,  71,  72,  74,  75,  80,  81,  82,  83,  84,\n",
       "        88,  94,  96,  97, 101, 102, 104, 106, 109, 110, 111, 112, 114,\n",
       "       115, 116, 118, 119, 120, 122, 125, 128, 129, 130, 133, 149, 151,\n",
       "       152, 153, 156, 157, 160, 161, 164, 166, 167, 168, 169, 172, 173,\n",
       "       175, 178, 181, 184, 186, 187, 191, 194, 196, 197, 200, 205, 207,\n",
       "       208, 209, 212, 214, 215, 216, 217, 219, 222, 223, 225, 226, 227,\n",
       "       235, 236, 237, 241, 243, 246, 247, 248, 250, 253, 255, 256, 257,\n",
       "       262, 265, 266, 269, 271,  77,   3,   6,  10,  12,  15,  16,  17,\n",
       "        18,  21,  24,  26,  27,  28,  29,  30,  32,  34,  35,  37,  40,\n",
       "        46,  47,  48,  49,  50,  52,  53,  57,  61,  64,  65,  66,  68,\n",
       "        69,  70,  73,  78,  79,  86,  87,  89,  90,  91,  93,  95,  98,\n",
       "       100, 103, 105, 107, 108, 113, 117, 121, 123, 124, 126, 127, 131,\n",
       "       132, 134, 135, 136, 137, 138, 140, 141, 142, 143, 144, 145, 147,\n",
       "       148, 150, 154, 155, 158, 162, 163, 165, 170, 171, 174, 176, 177,\n",
       "       179, 180, 182, 183, 185, 188, 189, 190, 192, 195, 199, 201, 202,\n",
       "       203, 210, 213, 218, 220, 221, 224, 228, 229, 230, 231, 232, 233,\n",
       "       234, 238, 239, 240, 242, 244, 245, 249, 251, 254, 259, 260, 261,\n",
       "       263, 264, 267, 268, 270, 272,  14,  42,  44,  92,  99, 139, 146,\n",
       "       159, 198, 204, 258, 211,  31,  85,  76,  11, 252, 193, 206],\n",
       "      dtype=int64)"
      ]
     },
     "execution_count": 40,
     "metadata": {},
     "output_type": "execute_result"
    }
   ],
   "source": [
    "df.STORE_NBR.unique()"
   ]
  },
  {
   "cell_type": "code",
   "execution_count": 41,
   "id": "killing-wallpaper",
   "metadata": {},
   "outputs": [],
   "source": [
    "a = []\n",
    "for i in total_store:\n",
    "    store_i = df.loc[df.STORE_NBR == i]\n",
    "    b = store_i['TOT_SALES'].sum()\n",
    "    a.append(b)"
   ]
  },
  {
   "cell_type": "code",
   "execution_count": 43,
   "id": "infrared-socket",
   "metadata": {},
   "outputs": [],
   "source": [
    "d = {'store_number':total_store , 'total_sales': a}"
   ]
  },
  {
   "cell_type": "code",
   "execution_count": 44,
   "id": "balanced-acoustic",
   "metadata": {},
   "outputs": [],
   "source": [
    "df_store_sales = pd.DataFrame(d, columns=['store_number','total_sales'])"
   ]
  },
  {
   "cell_type": "code",
   "execution_count": 50,
   "id": "unsigned-soccer",
   "metadata": {},
   "outputs": [
    {
     "data": {
      "text/html": [
       "<div>\n",
       "<style scoped>\n",
       "    .dataframe tbody tr th:only-of-type {\n",
       "        vertical-align: middle;\n",
       "    }\n",
       "\n",
       "    .dataframe tbody tr th {\n",
       "        vertical-align: top;\n",
       "    }\n",
       "\n",
       "    .dataframe thead th {\n",
       "        text-align: right;\n",
       "    }\n",
       "</style>\n",
       "<table border=\"1\" class=\"dataframe\">\n",
       "  <thead>\n",
       "    <tr style=\"text-align: right;\">\n",
       "      <th></th>\n",
       "      <th>store_number</th>\n",
       "      <th>total_sales</th>\n",
       "    </tr>\n",
       "  </thead>\n",
       "  <tbody>\n",
       "    <tr>\n",
       "      <th>102</th>\n",
       "      <td>226</td>\n",
       "      <td>18905.45</td>\n",
       "    </tr>\n",
       "    <tr>\n",
       "      <th>39</th>\n",
       "      <td>88</td>\n",
       "      <td>16333.25</td>\n",
       "    </tr>\n",
       "    <tr>\n",
       "      <th>202</th>\n",
       "      <td>165</td>\n",
       "      <td>15973.75</td>\n",
       "    </tr>\n",
       "    <tr>\n",
       "      <th>142</th>\n",
       "      <td>40</td>\n",
       "      <td>15559.50</td>\n",
       "    </tr>\n",
       "    <tr>\n",
       "      <th>106</th>\n",
       "      <td>237</td>\n",
       "      <td>15539.50</td>\n",
       "    </tr>\n",
       "    <tr>\n",
       "      <th>...</th>\n",
       "      <td>...</td>\n",
       "      <td>...</td>\n",
       "    </tr>\n",
       "    <tr>\n",
       "      <th>271</th>\n",
       "      <td>206</td>\n",
       "      <td>7.60</td>\n",
       "    </tr>\n",
       "    <tr>\n",
       "      <th>269</th>\n",
       "      <td>252</td>\n",
       "      <td>7.40</td>\n",
       "    </tr>\n",
       "    <tr>\n",
       "      <th>268</th>\n",
       "      <td>11</td>\n",
       "      <td>6.70</td>\n",
       "    </tr>\n",
       "    <tr>\n",
       "      <th>267</th>\n",
       "      <td>76</td>\n",
       "      <td>6.00</td>\n",
       "    </tr>\n",
       "    <tr>\n",
       "      <th>264</th>\n",
       "      <td>211</td>\n",
       "      <td>5.20</td>\n",
       "    </tr>\n",
       "  </tbody>\n",
       "</table>\n",
       "<p>272 rows × 2 columns</p>\n",
       "</div>"
      ],
      "text/plain": [
       "     store_number  total_sales\n",
       "102           226     18905.45\n",
       "39             88     16333.25\n",
       "202           165     15973.75\n",
       "142            40     15559.50\n",
       "106           237     15539.50\n",
       "..            ...          ...\n",
       "271           206         7.60\n",
       "269           252         7.40\n",
       "268            11         6.70\n",
       "267            76         6.00\n",
       "264           211         5.20\n",
       "\n",
       "[272 rows x 2 columns]"
      ]
     },
     "execution_count": 50,
     "metadata": {},
     "output_type": "execute_result"
    }
   ],
   "source": [
    "df_store_sales.sort_values(by='total_sales', ascending=False )"
   ]
  },
  {
   "cell_type": "markdown",
   "id": "ancient-background",
   "metadata": {},
   "source": [
    "Here we can see that the top 5 store with respect to the total sales are sotre no. 226 followed by store no. 88, 165, 40, 237\n"
   ]
  },
  {
   "cell_type": "code",
   "execution_count": 51,
   "id": "suitable-candidate",
   "metadata": {},
   "outputs": [
    {
     "data": {
      "text/plain": [
       "array([  5,  66,  61,  69, 108,  57,  16,  24,  42,  52, 114,  15,  92,\n",
       "        44,  54,  94,  98,  93,  56,   7,  31,  32, 111,  46,  13,  99,\n",
       "        26,  64,  22,  48,  37,  36,  51, 107, 106,   4, 113,  45,  39,\n",
       "       102, 104,   3,  82,  88,  40,  73,  87,  84,  70,  89, 101,  63,\n",
       "        25,  47,  71,  65,  33,  35,  12,   8,  75, 100,  29,  59,  30,\n",
       "        81,  67, 110,  28,   2,  14,  77,  17,  83,  68,  96,  79,  23,\n",
       "        50,  78,   1,  86,  53,  72,  74,  76,   9,  91, 105,  90, 109,\n",
       "        27,  62, 112,  55,  18,  34,  49,  60,  38, 103,  85,  95,  97,\n",
       "        20,  19,  21,   6,  80,  58,  10,  11,  43,  41], dtype=int64)"
      ]
     },
     "execution_count": 51,
     "metadata": {},
     "output_type": "execute_result"
    }
   ],
   "source": [
    "df['PROD_NBR'].unique()"
   ]
  },
  {
   "cell_type": "code",
   "execution_count": 52,
   "id": "concrete-creek",
   "metadata": {},
   "outputs": [
    {
     "data": {
      "text/plain": [
       "114"
      ]
     },
     "execution_count": 52,
     "metadata": {},
     "output_type": "execute_result"
    }
   ],
   "source": [
    "df['PROD_NBR'].nunique()"
   ]
  },
  {
   "cell_type": "code",
   "execution_count": 54,
   "id": "hidden-midwest",
   "metadata": {},
   "outputs": [
    {
     "data": {
      "text/plain": [
       "<AxesSubplot:>"
      ]
     },
     "execution_count": 54,
     "metadata": {},
     "output_type": "execute_result"
    },
    {
     "data": {
      "image/png": "[encoded data removed]",
      "text/plain": [
       "<Figure size 432x288 with 1 Axes>"
      ]
     },
     "metadata": {
      "needs_background": "light"
     },
     "output_type": "display_data"
    }
   ],
   "source": [
    "df['PROD_NBR'].value_counts().plot(kind='bar')"
   ]
  },
  {
   "cell_type": "code",
   "execution_count": 63,
   "id": "together-petroleum",
   "metadata": {},
   "outputs": [
    {
     "data": {
      "text/plain": [
       "102    3304\n",
       "108    3296\n",
       "33     3269\n",
       "112    3268\n",
       "75     3265\n",
       "       ... \n",
       "11     1431\n",
       "76     1430\n",
       "98     1419\n",
       "29     1418\n",
       "72     1410\n",
       "Name: PROD_NBR, Length: 114, dtype: int64"
      ]
     },
     "execution_count": 63,
     "metadata": {},
     "output_type": "execute_result"
    }
   ],
   "source": [
    "df['PROD_NBR'].value_counts()\n"
   ]
  },
  {
   "cell_type": "code",
   "execution_count": 77,
   "id": "blessed-space",
   "metadata": {},
   "outputs": [
    {
     "data": {
      "text/html": [
       "<div>\n",
       "<style scoped>\n",
       "    .dataframe tbody tr th:only-of-type {\n",
       "        vertical-align: middle;\n",
       "    }\n",
       "\n",
       "    .dataframe tbody tr th {\n",
       "        vertical-align: top;\n",
       "    }\n",
       "\n",
       "    .dataframe thead th {\n",
       "        text-align: right;\n",
       "    }\n",
       "</style>\n",
       "<table border=\"1\" class=\"dataframe\">\n",
       "  <thead>\n",
       "    <tr style=\"text-align: right;\">\n",
       "      <th></th>\n",
       "      <th>STORE_NBR</th>\n",
       "      <th>LYLTY_CARD_NBR</th>\n",
       "      <th>TXN_ID</th>\n",
       "      <th>PROD_NBR</th>\n",
       "      <th>PROD_NAME</th>\n",
       "      <th>PROD_QTY</th>\n",
       "      <th>TOT_SALES</th>\n",
       "    </tr>\n",
       "  </thead>\n",
       "  <tbody>\n",
       "    <tr>\n",
       "      <th>45</th>\n",
       "      <td>58</td>\n",
       "      <td>58324</td>\n",
       "      <td>54252</td>\n",
       "      <td>102</td>\n",
       "      <td>Kettle Mozzarella   Basil &amp; Pesto 175g</td>\n",
       "      <td>1</td>\n",
       "      <td>5.4</td>\n",
       "    </tr>\n",
       "    <tr>\n",
       "      <th>247</th>\n",
       "      <td>3</td>\n",
       "      <td>3326</td>\n",
       "      <td>2482</td>\n",
       "      <td>102</td>\n",
       "      <td>Kettle Mozzarella   Basil &amp; Pesto 175g</td>\n",
       "      <td>2</td>\n",
       "      <td>10.8</td>\n",
       "    </tr>\n",
       "    <tr>\n",
       "      <th>248</th>\n",
       "      <td>3</td>\n",
       "      <td>3326</td>\n",
       "      <td>2483</td>\n",
       "      <td>102</td>\n",
       "      <td>Kettle Mozzarella   Basil &amp; Pesto 175g</td>\n",
       "      <td>2</td>\n",
       "      <td>10.8</td>\n",
       "    </tr>\n",
       "    <tr>\n",
       "      <th>356</th>\n",
       "      <td>7</td>\n",
       "      <td>7133</td>\n",
       "      <td>6813</td>\n",
       "      <td>102</td>\n",
       "      <td>Kettle Mozzarella   Basil &amp; Pesto 175g</td>\n",
       "      <td>2</td>\n",
       "      <td>10.8</td>\n",
       "    </tr>\n",
       "    <tr>\n",
       "      <th>573</th>\n",
       "      <td>24</td>\n",
       "      <td>24032</td>\n",
       "      <td>20456</td>\n",
       "      <td>102</td>\n",
       "      <td>Kettle Mozzarella   Basil &amp; Pesto 175g</td>\n",
       "      <td>2</td>\n",
       "      <td>10.8</td>\n",
       "    </tr>\n",
       "    <tr>\n",
       "      <th>...</th>\n",
       "      <td>...</td>\n",
       "      <td>...</td>\n",
       "      <td>...</td>\n",
       "      <td>...</td>\n",
       "      <td>...</td>\n",
       "      <td>...</td>\n",
       "      <td>...</td>\n",
       "    </tr>\n",
       "    <tr>\n",
       "      <th>264227</th>\n",
       "      <td>246</td>\n",
       "      <td>246125</td>\n",
       "      <td>248123</td>\n",
       "      <td>102</td>\n",
       "      <td>Kettle Mozzarella   Basil &amp; Pesto 175g</td>\n",
       "      <td>2</td>\n",
       "      <td>10.8</td>\n",
       "    </tr>\n",
       "    <tr>\n",
       "      <th>264411</th>\n",
       "      <td>251</td>\n",
       "      <td>251312</td>\n",
       "      <td>253427</td>\n",
       "      <td>102</td>\n",
       "      <td>Kettle Mozzarella   Basil &amp; Pesto 175g</td>\n",
       "      <td>2</td>\n",
       "      <td>10.8</td>\n",
       "    </tr>\n",
       "    <tr>\n",
       "      <th>264533</th>\n",
       "      <td>259</td>\n",
       "      <td>259056</td>\n",
       "      <td>257774</td>\n",
       "      <td>102</td>\n",
       "      <td>Kettle Mozzarella   Basil &amp; Pesto 175g</td>\n",
       "      <td>2</td>\n",
       "      <td>10.8</td>\n",
       "    </tr>\n",
       "    <tr>\n",
       "      <th>264648</th>\n",
       "      <td>264</td>\n",
       "      <td>264374</td>\n",
       "      <td>263163</td>\n",
       "      <td>102</td>\n",
       "      <td>Kettle Mozzarella   Basil &amp; Pesto 175g</td>\n",
       "      <td>2</td>\n",
       "      <td>10.8</td>\n",
       "    </tr>\n",
       "    <tr>\n",
       "      <th>264748</th>\n",
       "      <td>268</td>\n",
       "      <td>268228</td>\n",
       "      <td>264647</td>\n",
       "      <td>102</td>\n",
       "      <td>Kettle Mozzarella   Basil &amp; Pesto 175g</td>\n",
       "      <td>1</td>\n",
       "      <td>5.4</td>\n",
       "    </tr>\n",
       "  </tbody>\n",
       "</table>\n",
       "<p>3304 rows × 7 columns</p>\n",
       "</div>"
      ],
      "text/plain": [
       "        STORE_NBR  LYLTY_CARD_NBR  TXN_ID  PROD_NBR  \\\n",
       "45             58           58324   54252       102   \n",
       "247             3            3326    2482       102   \n",
       "248             3            3326    2483       102   \n",
       "356             7            7133    6813       102   \n",
       "573            24           24032   20456       102   \n",
       "...           ...             ...     ...       ...   \n",
       "264227        246          246125  248123       102   \n",
       "264411        251          251312  253427       102   \n",
       "264533        259          259056  257774       102   \n",
       "264648        264          264374  263163       102   \n",
       "264748        268          268228  264647       102   \n",
       "\n",
       "                                     PROD_NAME  PROD_QTY  TOT_SALES  \n",
       "45      Kettle Mozzarella   Basil & Pesto 175g         1        5.4  \n",
       "247     Kettle Mozzarella   Basil & Pesto 175g         2       10.8  \n",
       "248     Kettle Mozzarella   Basil & Pesto 175g         2       10.8  \n",
       "356     Kettle Mozzarella   Basil & Pesto 175g         2       10.8  \n",
       "573     Kettle Mozzarella   Basil & Pesto 175g         2       10.8  \n",
       "...                                        ...       ...        ...  \n",
       "264227  Kettle Mozzarella   Basil & Pesto 175g         2       10.8  \n",
       "264411  Kettle Mozzarella   Basil & Pesto 175g         2       10.8  \n",
       "264533  Kettle Mozzarella   Basil & Pesto 175g         2       10.8  \n",
       "264648  Kettle Mozzarella   Basil & Pesto 175g         2       10.8  \n",
       "264748  Kettle Mozzarella   Basil & Pesto 175g         1        5.4  \n",
       "\n",
       "[3304 rows x 7 columns]"
      ]
     },
     "execution_count": 77,
     "metadata": {},
     "output_type": "execute_result"
    }
   ],
   "source": [
    "df.loc[df['PROD_NBR'] == 102]"
   ]
  },
  {
   "cell_type": "markdown",
   "id": "polar-application",
   "metadata": {},
   "source": [
    "Here we can see that the max number of product sold my multiple store is Kettle Mozzarella Basil & Pesto 175g."
   ]
  },
  {
   "cell_type": "code",
   "execution_count": 80,
   "id": "antique-nightlife",
   "metadata": {},
   "outputs": [
    {
     "name": "stdout",
     "output_type": "stream",
     "text": [
      "Requirement already satisfied: scipy in c:\\users\\rushikesh\\appdata\\local\\programs\\python\\python39\\lib\\site-packages (1.6.3)Note: you may need to restart the kernel to use updated packages.\n"
     ]
    },
    {
     "name": "stderr",
     "output_type": "stream",
     "text": [
      "WARNING: You are using pip version 21.1.1; however, version 21.1.2 is available.\n",
      "You should consider upgrading via the 'c:\\users\\rushikesh\\appdata\\local\\programs\\python\\python39\\python.exe -m pip install --upgrade pip' command.\n"
     ]
    },
    {
     "name": "stdout",
     "output_type": "stream",
     "text": [
      "\n",
      "Requirement already satisfied: numpy<1.23.0,>=1.16.5 in c:\\users\\rushikesh\\appdata\\local\\programs\\python\\python39\\lib\\site-packages (from scipy) (1.20.1)\n"
     ]
    }
   ],
   "source": [
    "pip install scipy"
   ]
  }
 ],
 "metadata": {
  "kernelspec": {
   "display_name": "Python 3",
   "language": "python",
   "name": "python3"
  },
  "language_info": {
   "codemirror_mode": {
    "name": "ipython",
    "version": 3
   },
   "file_extension": ".py",
   "mimetype": "text/x-python",
   "name": "python",
   "nbconvert_exporter": "python",
   "pygments_lexer": "ipython3",
   "version": "3.9.1"
  }
 },
 "nbformat": 4,
 "nbformat_minor": 5
}
