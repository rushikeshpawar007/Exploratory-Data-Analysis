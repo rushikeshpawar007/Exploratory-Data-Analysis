{
 "cells": [
  {
   "cell_type": "code",
   "execution_count": 1,
   "id": "female-cabin",
   "metadata": {},
   "outputs": [],
   "source": [
    "import numpy as np\n",
    "import pandas as pd\n",
    "import matplotlib.pyplot as plt\n",
    "import seaborn as sns"
   ]
  },
  {
   "cell_type": "code",
   "execution_count": 3,
   "id": "limited-costs",
   "metadata": {},
   "outputs": [],
   "source": [
    "df = pd.read_csv('C:/Users/Rushikesh/Documents/GitHub/Exploratory-Data-Analysis/quantium internship/task 2/QVI_data.csv')"
   ]
  },
  {
   "cell_type": "code",
   "execution_count": 4,
   "id": "collaborative-tuesday",
   "metadata": {},
   "outputs": [
    {
     "data": {
      "text/html": [
       "<div>\n",
       "<style scoped>\n",
       "    .dataframe tbody tr th:only-of-type {\n",
       "        vertical-align: middle;\n",
       "    }\n",
       "\n",
       "    .dataframe tbody tr th {\n",
       "        vertical-align: top;\n",
       "    }\n",
       "\n",
       "    .dataframe thead th {\n",
       "        text-align: right;\n",
       "    }\n",
       "</style>\n",
       "<table border=\"1\" class=\"dataframe\">\n",
       "  <thead>\n",
       "    <tr style=\"text-align: right;\">\n",
       "      <th></th>\n",
       "      <th>LYLTY_CARD_NBR</th>\n",
       "      <th>DATE</th>\n",
       "      <th>STORE_NBR</th>\n",
       "      <th>TXN_ID</th>\n",
       "      <th>PROD_NBR</th>\n",
       "      <th>PROD_NAME</th>\n",
       "      <th>PROD_QTY</th>\n",
       "      <th>TOT_SALES</th>\n",
       "      <th>PACK_SIZE</th>\n",
       "      <th>BRAND</th>\n",
       "      <th>LIFESTAGE</th>\n",
       "      <th>PREMIUM_CUSTOMER</th>\n",
       "    </tr>\n",
       "  </thead>\n",
       "  <tbody>\n",
       "    <tr>\n",
       "      <th>0</th>\n",
       "      <td>1000</td>\n",
       "      <td>2018-10-17</td>\n",
       "      <td>1</td>\n",
       "      <td>1</td>\n",
       "      <td>5</td>\n",
       "      <td>Natural Chip        Compny SeaSalt175g</td>\n",
       "      <td>2</td>\n",
       "      <td>6.0</td>\n",
       "      <td>175</td>\n",
       "      <td>NATURAL</td>\n",
       "      <td>YOUNG SINGLES/COUPLES</td>\n",
       "      <td>Premium</td>\n",
       "    </tr>\n",
       "    <tr>\n",
       "      <th>1</th>\n",
       "      <td>1002</td>\n",
       "      <td>2018-09-16</td>\n",
       "      <td>1</td>\n",
       "      <td>2</td>\n",
       "      <td>58</td>\n",
       "      <td>Red Rock Deli Chikn&amp;Garlic Aioli 150g</td>\n",
       "      <td>1</td>\n",
       "      <td>2.7</td>\n",
       "      <td>150</td>\n",
       "      <td>RRD</td>\n",
       "      <td>YOUNG SINGLES/COUPLES</td>\n",
       "      <td>Mainstream</td>\n",
       "    </tr>\n",
       "    <tr>\n",
       "      <th>2</th>\n",
       "      <td>1003</td>\n",
       "      <td>2019-03-07</td>\n",
       "      <td>1</td>\n",
       "      <td>3</td>\n",
       "      <td>52</td>\n",
       "      <td>Grain Waves Sour    Cream&amp;Chives 210G</td>\n",
       "      <td>1</td>\n",
       "      <td>3.6</td>\n",
       "      <td>210</td>\n",
       "      <td>GRNWVES</td>\n",
       "      <td>YOUNG FAMILIES</td>\n",
       "      <td>Budget</td>\n",
       "    </tr>\n",
       "    <tr>\n",
       "      <th>3</th>\n",
       "      <td>1003</td>\n",
       "      <td>2019-03-08</td>\n",
       "      <td>1</td>\n",
       "      <td>4</td>\n",
       "      <td>106</td>\n",
       "      <td>Natural ChipCo      Hony Soy Chckn175g</td>\n",
       "      <td>1</td>\n",
       "      <td>3.0</td>\n",
       "      <td>175</td>\n",
       "      <td>NATURAL</td>\n",
       "      <td>YOUNG FAMILIES</td>\n",
       "      <td>Budget</td>\n",
       "    </tr>\n",
       "    <tr>\n",
       "      <th>4</th>\n",
       "      <td>1004</td>\n",
       "      <td>2018-11-02</td>\n",
       "      <td>1</td>\n",
       "      <td>5</td>\n",
       "      <td>96</td>\n",
       "      <td>WW Original Stacked Chips 160g</td>\n",
       "      <td>1</td>\n",
       "      <td>1.9</td>\n",
       "      <td>160</td>\n",
       "      <td>WOOLWORTHS</td>\n",
       "      <td>OLDER SINGLES/COUPLES</td>\n",
       "      <td>Mainstream</td>\n",
       "    </tr>\n",
       "    <tr>\n",
       "      <th>5</th>\n",
       "      <td>1005</td>\n",
       "      <td>2018-12-28</td>\n",
       "      <td>1</td>\n",
       "      <td>6</td>\n",
       "      <td>86</td>\n",
       "      <td>Cheetos Puffs 165g</td>\n",
       "      <td>1</td>\n",
       "      <td>2.8</td>\n",
       "      <td>165</td>\n",
       "      <td>CHEETOS</td>\n",
       "      <td>MIDAGE SINGLES/COUPLES</td>\n",
       "      <td>Mainstream</td>\n",
       "    </tr>\n",
       "    <tr>\n",
       "      <th>6</th>\n",
       "      <td>1007</td>\n",
       "      <td>2018-12-04</td>\n",
       "      <td>1</td>\n",
       "      <td>7</td>\n",
       "      <td>49</td>\n",
       "      <td>Infuzions SourCream&amp;Herbs Veg Strws 110g</td>\n",
       "      <td>1</td>\n",
       "      <td>3.8</td>\n",
       "      <td>110</td>\n",
       "      <td>INFUZIONS</td>\n",
       "      <td>YOUNG SINGLES/COUPLES</td>\n",
       "      <td>Budget</td>\n",
       "    </tr>\n",
       "    <tr>\n",
       "      <th>7</th>\n",
       "      <td>1007</td>\n",
       "      <td>2018-12-05</td>\n",
       "      <td>1</td>\n",
       "      <td>8</td>\n",
       "      <td>10</td>\n",
       "      <td>RRD SR Slow Rst     Pork Belly 150g</td>\n",
       "      <td>1</td>\n",
       "      <td>2.7</td>\n",
       "      <td>150</td>\n",
       "      <td>RRD</td>\n",
       "      <td>YOUNG SINGLES/COUPLES</td>\n",
       "      <td>Budget</td>\n",
       "    </tr>\n",
       "    <tr>\n",
       "      <th>8</th>\n",
       "      <td>1009</td>\n",
       "      <td>2018-11-20</td>\n",
       "      <td>1</td>\n",
       "      <td>9</td>\n",
       "      <td>20</td>\n",
       "      <td>Doritos Cheese      Supreme 330g</td>\n",
       "      <td>1</td>\n",
       "      <td>5.7</td>\n",
       "      <td>330</td>\n",
       "      <td>DORITOS</td>\n",
       "      <td>NEW FAMILIES</td>\n",
       "      <td>Premium</td>\n",
       "    </tr>\n",
       "    <tr>\n",
       "      <th>9</th>\n",
       "      <td>1010</td>\n",
       "      <td>2018-09-09</td>\n",
       "      <td>1</td>\n",
       "      <td>10</td>\n",
       "      <td>51</td>\n",
       "      <td>Doritos Mexicana    170g</td>\n",
       "      <td>2</td>\n",
       "      <td>8.8</td>\n",
       "      <td>170</td>\n",
       "      <td>DORITOS</td>\n",
       "      <td>YOUNG SINGLES/COUPLES</td>\n",
       "      <td>Mainstream</td>\n",
       "    </tr>\n",
       "  </tbody>\n",
       "</table>\n",
       "</div>"
      ],
      "text/plain": [
       "   LYLTY_CARD_NBR        DATE  STORE_NBR  TXN_ID  PROD_NBR  \\\n",
       "0            1000  2018-10-17          1       1         5   \n",
       "1            1002  2018-09-16          1       2        58   \n",
       "2            1003  2019-03-07          1       3        52   \n",
       "3            1003  2019-03-08          1       4       106   \n",
       "4            1004  2018-11-02          1       5        96   \n",
       "5            1005  2018-12-28          1       6        86   \n",
       "6            1007  2018-12-04          1       7        49   \n",
       "7            1007  2018-12-05          1       8        10   \n",
       "8            1009  2018-11-20          1       9        20   \n",
       "9            1010  2018-09-09          1      10        51   \n",
       "\n",
       "                                  PROD_NAME  PROD_QTY  TOT_SALES  PACK_SIZE  \\\n",
       "0    Natural Chip        Compny SeaSalt175g         2        6.0        175   \n",
       "1     Red Rock Deli Chikn&Garlic Aioli 150g         1        2.7        150   \n",
       "2     Grain Waves Sour    Cream&Chives 210G         1        3.6        210   \n",
       "3    Natural ChipCo      Hony Soy Chckn175g         1        3.0        175   \n",
       "4            WW Original Stacked Chips 160g         1        1.9        160   \n",
       "5                        Cheetos Puffs 165g         1        2.8        165   \n",
       "6  Infuzions SourCream&Herbs Veg Strws 110g         1        3.8        110   \n",
       "7       RRD SR Slow Rst     Pork Belly 150g         1        2.7        150   \n",
       "8          Doritos Cheese      Supreme 330g         1        5.7        330   \n",
       "9                  Doritos Mexicana    170g         2        8.8        170   \n",
       "\n",
       "        BRAND               LIFESTAGE PREMIUM_CUSTOMER  \n",
       "0     NATURAL   YOUNG SINGLES/COUPLES          Premium  \n",
       "1         RRD   YOUNG SINGLES/COUPLES       Mainstream  \n",
       "2     GRNWVES          YOUNG FAMILIES           Budget  \n",
       "3     NATURAL          YOUNG FAMILIES           Budget  \n",
       "4  WOOLWORTHS   OLDER SINGLES/COUPLES       Mainstream  \n",
       "5     CHEETOS  MIDAGE SINGLES/COUPLES       Mainstream  \n",
       "6   INFUZIONS   YOUNG SINGLES/COUPLES           Budget  \n",
       "7         RRD   YOUNG SINGLES/COUPLES           Budget  \n",
       "8     DORITOS            NEW FAMILIES          Premium  \n",
       "9     DORITOS   YOUNG SINGLES/COUPLES       Mainstream  "
      ]
     },
     "execution_count": 4,
     "metadata": {},
     "output_type": "execute_result"
    }
   ],
   "source": [
    "df.head(10)"
   ]
  },
  {
   "cell_type": "code",
   "execution_count": 6,
   "id": "latin-sleeve",
   "metadata": {},
   "outputs": [
    {
     "data": {
      "text/plain": [
       "(264834, 12)"
      ]
     },
     "execution_count": 6,
     "metadata": {},
     "output_type": "execute_result"
    }
   ],
   "source": [
    "df.shape\n"
   ]
  },
  {
   "cell_type": "code",
   "execution_count": 7,
   "id": "athletic-occupation",
   "metadata": {},
   "outputs": [],
   "source": [
    "df['DATE'] = df['DATE'].astype('object')"
   ]
  },
  {
   "cell_type": "code",
   "execution_count": 8,
   "id": "rolled-burden",
   "metadata": {},
   "outputs": [],
   "source": [
    "df_num = df.select_dtypes(include=np.number)"
   ]
  },
  {
   "cell_type": "code",
   "execution_count": 9,
   "id": "located-genome",
   "metadata": {},
   "outputs": [
    {
     "data": {
      "text/html": [
       "<div>\n",
       "<style scoped>\n",
       "    .dataframe tbody tr th:only-of-type {\n",
       "        vertical-align: middle;\n",
       "    }\n",
       "\n",
       "    .dataframe tbody tr th {\n",
       "        vertical-align: top;\n",
       "    }\n",
       "\n",
       "    .dataframe thead th {\n",
       "        text-align: right;\n",
       "    }\n",
       "</style>\n",
       "<table border=\"1\" class=\"dataframe\">\n",
       "  <thead>\n",
       "    <tr style=\"text-align: right;\">\n",
       "      <th></th>\n",
       "      <th>LYLTY_CARD_NBR</th>\n",
       "      <th>STORE_NBR</th>\n",
       "      <th>TXN_ID</th>\n",
       "      <th>PROD_NBR</th>\n",
       "      <th>PROD_QTY</th>\n",
       "      <th>TOT_SALES</th>\n",
       "      <th>PACK_SIZE</th>\n",
       "    </tr>\n",
       "  </thead>\n",
       "  <tbody>\n",
       "    <tr>\n",
       "      <th>0</th>\n",
       "      <td>1000</td>\n",
       "      <td>1</td>\n",
       "      <td>1</td>\n",
       "      <td>5</td>\n",
       "      <td>2</td>\n",
       "      <td>6.0</td>\n",
       "      <td>175</td>\n",
       "    </tr>\n",
       "    <tr>\n",
       "      <th>1</th>\n",
       "      <td>1002</td>\n",
       "      <td>1</td>\n",
       "      <td>2</td>\n",
       "      <td>58</td>\n",
       "      <td>1</td>\n",
       "      <td>2.7</td>\n",
       "      <td>150</td>\n",
       "    </tr>\n",
       "    <tr>\n",
       "      <th>2</th>\n",
       "      <td>1003</td>\n",
       "      <td>1</td>\n",
       "      <td>3</td>\n",
       "      <td>52</td>\n",
       "      <td>1</td>\n",
       "      <td>3.6</td>\n",
       "      <td>210</td>\n",
       "    </tr>\n",
       "    <tr>\n",
       "      <th>3</th>\n",
       "      <td>1003</td>\n",
       "      <td>1</td>\n",
       "      <td>4</td>\n",
       "      <td>106</td>\n",
       "      <td>1</td>\n",
       "      <td>3.0</td>\n",
       "      <td>175</td>\n",
       "    </tr>\n",
       "    <tr>\n",
       "      <th>4</th>\n",
       "      <td>1004</td>\n",
       "      <td>1</td>\n",
       "      <td>5</td>\n",
       "      <td>96</td>\n",
       "      <td>1</td>\n",
       "      <td>1.9</td>\n",
       "      <td>160</td>\n",
       "    </tr>\n",
       "    <tr>\n",
       "      <th>...</th>\n",
       "      <td>...</td>\n",
       "      <td>...</td>\n",
       "      <td>...</td>\n",
       "      <td>...</td>\n",
       "      <td>...</td>\n",
       "      <td>...</td>\n",
       "      <td>...</td>\n",
       "    </tr>\n",
       "    <tr>\n",
       "      <th>264829</th>\n",
       "      <td>2370701</td>\n",
       "      <td>88</td>\n",
       "      <td>240378</td>\n",
       "      <td>24</td>\n",
       "      <td>2</td>\n",
       "      <td>7.2</td>\n",
       "      <td>210</td>\n",
       "    </tr>\n",
       "    <tr>\n",
       "      <th>264830</th>\n",
       "      <td>2370751</td>\n",
       "      <td>88</td>\n",
       "      <td>240394</td>\n",
       "      <td>60</td>\n",
       "      <td>2</td>\n",
       "      <td>9.2</td>\n",
       "      <td>150</td>\n",
       "    </tr>\n",
       "    <tr>\n",
       "      <th>264831</th>\n",
       "      <td>2370961</td>\n",
       "      <td>88</td>\n",
       "      <td>240480</td>\n",
       "      <td>70</td>\n",
       "      <td>2</td>\n",
       "      <td>8.4</td>\n",
       "      <td>165</td>\n",
       "    </tr>\n",
       "    <tr>\n",
       "      <th>264832</th>\n",
       "      <td>2370961</td>\n",
       "      <td>88</td>\n",
       "      <td>240481</td>\n",
       "      <td>65</td>\n",
       "      <td>2</td>\n",
       "      <td>10.2</td>\n",
       "      <td>300</td>\n",
       "    </tr>\n",
       "    <tr>\n",
       "      <th>264833</th>\n",
       "      <td>2373711</td>\n",
       "      <td>88</td>\n",
       "      <td>241815</td>\n",
       "      <td>16</td>\n",
       "      <td>2</td>\n",
       "      <td>11.4</td>\n",
       "      <td>330</td>\n",
       "    </tr>\n",
       "  </tbody>\n",
       "</table>\n",
       "<p>264834 rows × 7 columns</p>\n",
       "</div>"
      ],
      "text/plain": [
       "        LYLTY_CARD_NBR  STORE_NBR  TXN_ID  PROD_NBR  PROD_QTY  TOT_SALES  \\\n",
       "0                 1000          1       1         5         2        6.0   \n",
       "1                 1002          1       2        58         1        2.7   \n",
       "2                 1003          1       3        52         1        3.6   \n",
       "3                 1003          1       4       106         1        3.0   \n",
       "4                 1004          1       5        96         1        1.9   \n",
       "...                ...        ...     ...       ...       ...        ...   \n",
       "264829         2370701         88  240378        24         2        7.2   \n",
       "264830         2370751         88  240394        60         2        9.2   \n",
       "264831         2370961         88  240480        70         2        8.4   \n",
       "264832         2370961         88  240481        65         2       10.2   \n",
       "264833         2373711         88  241815        16         2       11.4   \n",
       "\n",
       "        PACK_SIZE  \n",
       "0             175  \n",
       "1             150  \n",
       "2             210  \n",
       "3             175  \n",
       "4             160  \n",
       "...           ...  \n",
       "264829        210  \n",
       "264830        150  \n",
       "264831        165  \n",
       "264832        300  \n",
       "264833        330  \n",
       "\n",
       "[264834 rows x 7 columns]"
      ]
     },
     "execution_count": 9,
     "metadata": {},
     "output_type": "execute_result"
    }
   ],
   "source": [
    "df_num"
   ]
  },
  {
   "cell_type": "code",
   "execution_count": 10,
   "id": "architectural-movement",
   "metadata": {},
   "outputs": [
    {
     "data": {
      "text/html": [
       "<div>\n",
       "<style scoped>\n",
       "    .dataframe tbody tr th:only-of-type {\n",
       "        vertical-align: middle;\n",
       "    }\n",
       "\n",
       "    .dataframe tbody tr th {\n",
       "        vertical-align: top;\n",
       "    }\n",
       "\n",
       "    .dataframe thead th {\n",
       "        text-align: right;\n",
       "    }\n",
       "</style>\n",
       "<table border=\"1\" class=\"dataframe\">\n",
       "  <thead>\n",
       "    <tr style=\"text-align: right;\">\n",
       "      <th></th>\n",
       "      <th>LYLTY_CARD_NBR</th>\n",
       "      <th>STORE_NBR</th>\n",
       "      <th>TXN_ID</th>\n",
       "      <th>PROD_NBR</th>\n",
       "      <th>PROD_QTY</th>\n",
       "      <th>TOT_SALES</th>\n",
       "      <th>PACK_SIZE</th>\n",
       "    </tr>\n",
       "  </thead>\n",
       "  <tbody>\n",
       "    <tr>\n",
       "      <th>count</th>\n",
       "      <td>2.648340e+05</td>\n",
       "      <td>264834.000000</td>\n",
       "      <td>2.648340e+05</td>\n",
       "      <td>264834.000000</td>\n",
       "      <td>264834.000000</td>\n",
       "      <td>264834.000000</td>\n",
       "      <td>264834.000000</td>\n",
       "    </tr>\n",
       "    <tr>\n",
       "      <th>mean</th>\n",
       "      <td>1.355488e+05</td>\n",
       "      <td>135.079423</td>\n",
       "      <td>1.351576e+05</td>\n",
       "      <td>56.583554</td>\n",
       "      <td>1.905813</td>\n",
       "      <td>7.299346</td>\n",
       "      <td>182.425512</td>\n",
       "    </tr>\n",
       "    <tr>\n",
       "      <th>std</th>\n",
       "      <td>8.057990e+04</td>\n",
       "      <td>76.784063</td>\n",
       "      <td>7.813292e+04</td>\n",
       "      <td>32.826444</td>\n",
       "      <td>0.343436</td>\n",
       "      <td>2.527241</td>\n",
       "      <td>64.325148</td>\n",
       "    </tr>\n",
       "    <tr>\n",
       "      <th>min</th>\n",
       "      <td>1.000000e+03</td>\n",
       "      <td>1.000000</td>\n",
       "      <td>1.000000e+00</td>\n",
       "      <td>1.000000</td>\n",
       "      <td>1.000000</td>\n",
       "      <td>1.500000</td>\n",
       "      <td>70.000000</td>\n",
       "    </tr>\n",
       "    <tr>\n",
       "      <th>25%</th>\n",
       "      <td>7.002100e+04</td>\n",
       "      <td>70.000000</td>\n",
       "      <td>6.760050e+04</td>\n",
       "      <td>28.000000</td>\n",
       "      <td>2.000000</td>\n",
       "      <td>5.400000</td>\n",
       "      <td>150.000000</td>\n",
       "    </tr>\n",
       "    <tr>\n",
       "      <th>50%</th>\n",
       "      <td>1.303570e+05</td>\n",
       "      <td>130.000000</td>\n",
       "      <td>1.351365e+05</td>\n",
       "      <td>56.000000</td>\n",
       "      <td>2.000000</td>\n",
       "      <td>7.400000</td>\n",
       "      <td>170.000000</td>\n",
       "    </tr>\n",
       "    <tr>\n",
       "      <th>75%</th>\n",
       "      <td>2.030940e+05</td>\n",
       "      <td>203.000000</td>\n",
       "      <td>2.026998e+05</td>\n",
       "      <td>85.000000</td>\n",
       "      <td>2.000000</td>\n",
       "      <td>9.200000</td>\n",
       "      <td>175.000000</td>\n",
       "    </tr>\n",
       "    <tr>\n",
       "      <th>max</th>\n",
       "      <td>2.373711e+06</td>\n",
       "      <td>272.000000</td>\n",
       "      <td>2.415841e+06</td>\n",
       "      <td>114.000000</td>\n",
       "      <td>5.000000</td>\n",
       "      <td>29.500000</td>\n",
       "      <td>380.000000</td>\n",
       "    </tr>\n",
       "  </tbody>\n",
       "</table>\n",
       "</div>"
      ],
      "text/plain": [
       "       LYLTY_CARD_NBR      STORE_NBR        TXN_ID       PROD_NBR  \\\n",
       "count    2.648340e+05  264834.000000  2.648340e+05  264834.000000   \n",
       "mean     1.355488e+05     135.079423  1.351576e+05      56.583554   \n",
       "std      8.057990e+04      76.784063  7.813292e+04      32.826444   \n",
       "min      1.000000e+03       1.000000  1.000000e+00       1.000000   \n",
       "25%      7.002100e+04      70.000000  6.760050e+04      28.000000   \n",
       "50%      1.303570e+05     130.000000  1.351365e+05      56.000000   \n",
       "75%      2.030940e+05     203.000000  2.026998e+05      85.000000   \n",
       "max      2.373711e+06     272.000000  2.415841e+06     114.000000   \n",
       "\n",
       "            PROD_QTY      TOT_SALES      PACK_SIZE  \n",
       "count  264834.000000  264834.000000  264834.000000  \n",
       "mean        1.905813       7.299346     182.425512  \n",
       "std         0.343436       2.527241      64.325148  \n",
       "min         1.000000       1.500000      70.000000  \n",
       "25%         2.000000       5.400000     150.000000  \n",
       "50%         2.000000       7.400000     170.000000  \n",
       "75%         2.000000       9.200000     175.000000  \n",
       "max         5.000000      29.500000     380.000000  "
      ]
     },
     "execution_count": 10,
     "metadata": {},
     "output_type": "execute_result"
    }
   ],
   "source": [
    "df_num.describe()"
   ]
  },
  {
   "cell_type": "code",
   "execution_count": 11,
   "id": "martial-reservation",
   "metadata": {},
   "outputs": [
    {
     "name": "stderr",
     "output_type": "stream",
     "text": [
      "c:\\users\\rushikesh\\appdata\\local\\programs\\python\\python39\\lib\\site-packages\\pandas\\plotting\\_matplotlib\\tools.py:400: MatplotlibDeprecationWarning: \n",
      "The is_first_col function was deprecated in Matplotlib 3.4 and will be removed two minor releases later. Use ax.get_subplotspec().is_first_col() instead.\n",
      "  if ax.is_first_col():\n"
     ]
    },
    {
     "data": {
      "text/plain": [
       "array([[<AxesSubplot:title={'center':'LYLTY_CARD_NBR'}>,\n",
       "        <AxesSubplot:title={'center':'STORE_NBR'}>,\n",
       "        <AxesSubplot:title={'center':'TXN_ID'}>],\n",
       "       [<AxesSubplot:title={'center':'PROD_NBR'}>,\n",
       "        <AxesSubplot:title={'center':'PROD_QTY'}>,\n",
       "        <AxesSubplot:title={'center':'TOT_SALES'}>],\n",
       "       [<AxesSubplot:title={'center':'PACK_SIZE'}>, <AxesSubplot:>,\n",
       "        <AxesSubplot:>]], dtype=object)"
      ]
     },
     "execution_count": 11,
     "metadata": {},
     "output_type": "execute_result"
    },
    {
     "data": {
      "image/png": "[encoded data removed]",
      "text/plain": [
       "<Figure size 432x288 with 9 Axes>"
      ]
     },
     "metadata": {
      "needs_background": "light"
     },
     "output_type": "display_data"
    }
   ],
   "source": [
    "df_num.hist()"
   ]
  },
  {
   "cell_type": "code",
   "execution_count": 13,
   "id": "living-chapel",
   "metadata": {},
   "outputs": [
    {
     "data": {
      "text/plain": [
       "LYLTY_CARD_NBR    133073.00\n",
       "STORE_NBR            133.00\n",
       "TXN_ID            135099.25\n",
       "PROD_NBR              57.00\n",
       "PROD_QTY               0.00\n",
       "TOT_SALES              3.80\n",
       "PACK_SIZE             25.00\n",
       "dtype: float64"
      ]
     },
     "execution_count": 13,
     "metadata": {},
     "output_type": "execute_result"
    }
   ],
   "source": [
    "# IQR - Inter Quartile Range = q3-q1\n",
    "q3=df_num.quantile(0.75)\n",
    "q1=df_num.quantile(0.25)\n",
    "iqr=q3-q1\n",
    "iqr"
   ]
  },
  {
   "cell_type": "code",
   "execution_count": 15,
   "id": "flush-orlando",
   "metadata": {},
   "outputs": [
    {
     "name": "stderr",
     "output_type": "stream",
     "text": [
      "c:\\users\\rushikesh\\appdata\\local\\programs\\python\\python39\\lib\\site-packages\\seaborn\\_decorators.py:36: FutureWarning: Pass the following variable as a keyword arg: x. From version 0.12, the only valid positional argument will be `data`, and passing other arguments without an explicit keyword will result in an error or misinterpretation.\n",
      "  warnings.warn(\n"
     ]
    },
    {
     "data": {
      "image/png": "[encoded data removed]",
      "text/plain": [
       "<Figure size 432x288 with 1 Axes>"
      ]
     },
     "metadata": {
      "needs_background": "light"
     },
     "output_type": "display_data"
    },
    {
     "name": "stderr",
     "output_type": "stream",
     "text": [
      "c:\\users\\rushikesh\\appdata\\local\\programs\\python\\python39\\lib\\site-packages\\seaborn\\_decorators.py:36: FutureWarning: Pass the following variable as a keyword arg: x. From version 0.12, the only valid positional argument will be `data`, and passing other arguments without an explicit keyword will result in an error or misinterpretation.\n",
      "  warnings.warn(\n"
     ]
    },
    {
     "data": {
      "image/png": "[encoded data removed]",
      "text/plain": [
       "<Figure size 432x288 with 1 Axes>"
      ]
     },
     "metadata": {
      "needs_background": "light"
     },
     "output_type": "display_data"
    },
    {
     "name": "stderr",
     "output_type": "stream",
     "text": [
      "c:\\users\\rushikesh\\appdata\\local\\programs\\python\\python39\\lib\\site-packages\\seaborn\\_decorators.py:36: FutureWarning: Pass the following variable as a keyword arg: x. From version 0.12, the only valid positional argument will be `data`, and passing other arguments without an explicit keyword will result in an error or misinterpretation.\n",
      "  warnings.warn(\n"
     ]
    },
    {
     "data": {
      "image/png": "[encoded data removed]",
      "text/plain": [
       "<Figure size 432x288 with 1 Axes>"
      ]
     },
     "metadata": {
      "needs_background": "light"
     },
     "output_type": "display_data"
    },
    {
     "name": "stderr",
     "output_type": "stream",
     "text": [
      "c:\\users\\rushikesh\\appdata\\local\\programs\\python\\python39\\lib\\site-packages\\seaborn\\_decorators.py:36: FutureWarning: Pass the following variable as a keyword arg: x. From version 0.12, the only valid positional argument will be `data`, and passing other arguments without an explicit keyword will result in an error or misinterpretation.\n",
      "  warnings.warn(\n"
     ]
    },
    {
     "data": {
      "image/png": "[encoded data removed]",
      "text/plain": [
       "<Figure size 432x288 with 1 Axes>"
      ]
     },
     "metadata": {
      "needs_background": "light"
     },
     "output_type": "display_data"
    },
    {
     "name": "stderr",
     "output_type": "stream",
     "text": [
      "c:\\users\\rushikesh\\appdata\\local\\programs\\python\\python39\\lib\\site-packages\\seaborn\\_decorators.py:36: FutureWarning: Pass the following variable as a keyword arg: x. From version 0.12, the only valid positional argument will be `data`, and passing other arguments without an explicit keyword will result in an error or misinterpretation.\n",
      "  warnings.warn(\n"
     ]
    },
    {
     "data": {
      "image/png": "[encoded data removed]",
      "text/plain": [
       "<Figure size 432x288 with 1 Axes>"
      ]
     },
     "metadata": {
      "needs_background": "light"
     },
     "output_type": "display_data"
    },
    {
     "name": "stderr",
     "output_type": "stream",
     "text": [
      "c:\\users\\rushikesh\\appdata\\local\\programs\\python\\python39\\lib\\site-packages\\seaborn\\_decorators.py:36: FutureWarning: Pass the following variable as a keyword arg: x. From version 0.12, the only valid positional argument will be `data`, and passing other arguments without an explicit keyword will result in an error or misinterpretation.\n",
      "  warnings.warn(\n"
     ]
    },
    {
     "data": {
      "image/png": "[encoded data removed]",
      "text/plain": [
       "<Figure size 432x288 with 1 Axes>"
      ]
     },
     "metadata": {
      "needs_background": "light"
     },
     "output_type": "display_data"
    },
    {
     "name": "stderr",
     "output_type": "stream",
     "text": [
      "c:\\users\\rushikesh\\appdata\\local\\programs\\python\\python39\\lib\\site-packages\\seaborn\\_decorators.py:36: FutureWarning: Pass the following variable as a keyword arg: x. From version 0.12, the only valid positional argument will be `data`, and passing other arguments without an explicit keyword will result in an error or misinterpretation.\n",
      "  warnings.warn(\n"
     ]
    },
    {
     "data": {
      "image/png": "[encoded data removed]",
      "text/plain": [
       "<Figure size 432x288 with 1 Axes>"
      ]
     },
     "metadata": {
      "needs_background": "light"
     },
     "output_type": "display_data"
    }
   ],
   "source": [
    "for i in df_num.columns:\n",
    "    sns.boxplot(df_num[i])\n",
    "    plt.show()"
   ]
  },
  {
   "cell_type": "code",
   "execution_count": 16,
   "id": "ordered-siemens",
   "metadata": {},
   "outputs": [
    {
     "data": {
      "text/plain": [
       "<AxesSubplot:ylabel='Density'>"
      ]
     },
     "execution_count": 16,
     "metadata": {},
     "output_type": "execute_result"
    },
    {
     "data": {
      "image/png": "[encoded data removed]",
      "text/plain": [
       "<Figure size 432x288 with 1 Axes>"
      ]
     },
     "metadata": {
      "needs_background": "light"
     },
     "output_type": "display_data"
    }
   ],
   "source": [
    "# Distribution Analysis\n",
    "df_num['TOT_SALES'].plot(kind='kde')"
   ]
  },
  {
   "cell_type": "code",
   "execution_count": 17,
   "id": "seventh-restaurant",
   "metadata": {},
   "outputs": [
    {
     "data": {
      "text/plain": [
       "0.313154635049601"
      ]
     },
     "execution_count": 17,
     "metadata": {},
     "output_type": "execute_result"
    }
   ],
   "source": [
    "df_num['TOT_SALES'].skew()"
   ]
  },
  {
   "cell_type": "code",
   "execution_count": 26,
   "id": "threatened-basis",
   "metadata": {},
   "outputs": [
    {
     "data": {
      "text/plain": [
       "STORE_NBR\n",
       "1      4.177312\n",
       "2      3.964032\n",
       "3      8.523602\n",
       "4      8.729231\n",
       "5      6.980749\n",
       "         ...   \n",
       "268    4.763828\n",
       "269    6.983074\n",
       "270    6.928804\n",
       "271    7.019350\n",
       "272    8.266341\n",
       "Name: TOT_SALES, Length: 272, dtype: float64"
      ]
     },
     "execution_count": 26,
     "metadata": {},
     "output_type": "execute_result"
    }
   ],
   "source": [
    "# If I want to know the avrage sales for each store, what should I do ?\n",
    "df.groupby('STORE_NBR')['TOT_SALES'].mean()"
   ]
  },
  {
   "cell_type": "code",
   "execution_count": 28,
   "id": "increasing-hacker",
   "metadata": {},
   "outputs": [
    {
     "data": {
      "text/plain": [
       "<AxesSubplot:>"
      ]
     },
     "execution_count": 28,
     "metadata": {},
     "output_type": "execute_result"
    },
    {
     "data": {
      "image/png": "[encoded data removed]",
      "text/plain": [
       "<Figure size 432x288 with 2 Axes>"
      ]
     },
     "metadata": {
      "needs_background": "light"
     },
     "output_type": "display_data"
    }
   ],
   "source": [
    "sns.heatmap(df_num.corr(),vmin=-1,vmax=1,annot=True)"
   ]
  },
  {
   "cell_type": "code",
   "execution_count": 31,
   "id": "portuguese-orchestra",
   "metadata": {},
   "outputs": [
    {
     "data": {
      "text/plain": [
       "PREMIUM_CUSTOMER\n",
       "Budget        7.258838\n",
       "Mainstream    7.361106\n",
       "Premium       7.263111\n",
       "Name: TOT_SALES, dtype: float64"
      ]
     },
     "execution_count": 31,
     "metadata": {},
     "output_type": "execute_result"
    }
   ],
   "source": [
    "#Numeric Vs Categorical\n",
    "#TOT_SALES  Vs PREMIUM_CUSTOMER\n",
    "df.groupby('PREMIUM_CUSTOMER')['TOT_SALES'].mean()"
   ]
  },
  {
   "cell_type": "code",
   "execution_count": null,
   "id": "endangered-security",
   "metadata": {},
   "outputs": [],
   "source": [
    "#Maximum slaes is happening from Mainstream Customer"
   ]
  },
  {
   "cell_type": "code",
   "execution_count": 33,
   "id": "sunset-roommate",
   "metadata": {},
   "outputs": [
    {
     "data": {
      "text/plain": [
       "21"
      ]
     },
     "execution_count": 33,
     "metadata": {},
     "output_type": "execute_result"
    }
   ],
   "source": [
    "df['BRAND'].nunique()"
   ]
  },
  {
   "cell_type": "code",
   "execution_count": 34,
   "id": "afraid-township",
   "metadata": {},
   "outputs": [
    {
     "data": {
      "text/plain": [
       "BRAND\n",
       "BURGER        4.367647\n",
       "CCS           3.972512\n",
       "CHEETOS       5.768534\n",
       "CHEEZELS      8.696481\n",
       "COBS          7.280491\n",
       "DORITOS       8.548264\n",
       "FRENCH        5.591678\n",
       "GRNWVES       6.668889\n",
       "INFUZIONS     6.974692\n",
       "KETTLE        9.451652\n",
       "NATURAL       5.665819\n",
       "OLD           9.736712\n",
       "PRINGLES      7.077344\n",
       "RRD           5.345970\n",
       "SMITHS        7.059680\n",
       "SUNBITES      3.216888\n",
       "THINS         6.312789\n",
       "TOSTITOS      8.424623\n",
       "TWISTIES      8.623027\n",
       "TYRRELLS      8.017293\n",
       "WOOLWORTHS    3.343742\n",
       "Name: TOT_SALES, dtype: float64"
      ]
     },
     "execution_count": 34,
     "metadata": {},
     "output_type": "execute_result"
    }
   ],
   "source": [
    "#Numeric Vs Categorical\n",
    "#TOT_SALES  Vs BRAND\n",
    "df.groupby('BRAND')['TOT_SALES'].mean()"
   ]
  },
  {
   "cell_type": "code",
   "execution_count": 35,
   "id": "progressive-generator",
   "metadata": {},
   "outputs": [],
   "source": [
    "b = df.groupby('BRAND')['TOT_SALES'].mean()"
   ]
  },
  {
   "cell_type": "code",
   "execution_count": 36,
   "id": "separate-firmware",
   "metadata": {},
   "outputs": [
    {
     "data": {
      "text/plain": [
       "<AxesSubplot:xlabel='BRAND'>"
      ]
     },
     "execution_count": 36,
     "metadata": {},
     "output_type": "execute_result"
    },
    {
     "data": {
      "image/png": "[encoded data removed]",
      "text/plain": [
       "<Figure size 432x288 with 1 Axes>"
      ]
     },
     "metadata": {
      "needs_background": "light"
     },
     "output_type": "display_data"
    }
   ],
   "source": [
    "b.plot(kind = 'bar')"
   ]
  },
  {
   "cell_type": "code",
   "execution_count": null,
   "id": "dirty-oxide",
   "metadata": {},
   "outputs": [],
   "source": [
    "#Brand wise OLD is the one whos product sales are high"
   ]
  },
  {
   "cell_type": "code",
   "execution_count": 37,
   "id": "agreed-tournament",
   "metadata": {},
   "outputs": [
    {
     "data": {
      "text/plain": [
       "BRAND\n",
       "BURGER        1.898977\n",
       "CCS           1.891672\n",
       "CHEETOS       1.889306\n",
       "CHEEZELS      1.900282\n",
       "COBS          1.915919\n",
       "DORITOS       1.912098\n",
       "FRENCH        1.863893\n",
       "GRNWVES       1.902584\n",
       "INFUZIONS     1.909654\n",
       "KETTLE        1.914624\n",
       "NATURAL       1.888606\n",
       "OLD           1.909588\n",
       "PRINGLES      1.912955\n",
       "RRD           1.892457\n",
       "SMITHS        1.896081\n",
       "SUNBITES      1.892287\n",
       "THINS         1.913250\n",
       "TOSTITOS      1.914687\n",
       "TWISTIES      1.916437\n",
       "TYRRELLS      1.909034\n",
       "WOOLWORTHS    1.887647\n",
       "Name: PROD_QTY, dtype: float64"
      ]
     },
     "execution_count": 37,
     "metadata": {},
     "output_type": "execute_result"
    }
   ],
   "source": [
    "#Numeric Vs Categorical\n",
    "#PROD_QTY  Vs BRAND\n",
    "df.groupby('BRAND')['PROD_QTY'].mean()"
   ]
  },
  {
   "cell_type": "code",
   "execution_count": 38,
   "id": "impressive-glory",
   "metadata": {},
   "outputs": [],
   "source": [
    "c = df.groupby('BRAND')['PROD_QTY'].mean()"
   ]
  },
  {
   "cell_type": "code",
   "execution_count": 39,
   "id": "mobile-substitute",
   "metadata": {},
   "outputs": [
    {
     "data": {
      "text/plain": [
       "<AxesSubplot:xlabel='BRAND'>"
      ]
     },
     "execution_count": 39,
     "metadata": {},
     "output_type": "execute_result"
    },
    {
     "data": {
      "image/png": "[encoded data removed]",
      "text/plain": [
       "<Figure size 432x288 with 1 Axes>"
      ]
     },
     "metadata": {
      "needs_background": "light"
     },
     "output_type": "display_data"
    }
   ],
   "source": [
    "c.plot(kind = 'bar')"
   ]
  },
  {
   "cell_type": "code",
   "execution_count": 44,
   "id": "limited-bargain",
   "metadata": {},
   "outputs": [
    {
     "name": "stderr",
     "output_type": "stream",
     "text": [
      "c:\\users\\rushikesh\\appdata\\local\\programs\\python\\python39\\lib\\site-packages\\seaborn\\_decorators.py:36: FutureWarning: Pass the following variables as keyword args: x, y. From version 0.12, the only valid positional argument will be `data`, and passing other arguments without an explicit keyword will result in an error or misinterpretation.\n",
      "  warnings.warn(\n"
     ]
    },
    {
     "data": {
      "text/plain": [
       "<AxesSubplot:xlabel='PROD_QTY', ylabel='TOT_SALES'>"
      ]
     },
     "execution_count": 44,
     "metadata": {},
     "output_type": "execute_result"
    },
    {
     "data": {
      "image/png": "[encoded data removed]",
      "text/plain": [
       "<Figure size 432x288 with 1 Axes>"
      ]
     },
     "metadata": {
      "needs_background": "light"
     },
     "output_type": "display_data"
    }
   ],
   "source": [
    "#Numeric Vs Numeric\n",
    "#PROD_QTY vs TOT_SALES\n",
    "sns.scatterplot(df['PROD_QTY'],df['TOT_SALES'], hue = df['PREMIUM_CUSTOMER'])"
   ]
  },
  {
   "cell_type": "code",
   "execution_count": null,
   "id": "remarkable-hydrogen",
   "metadata": {},
   "outputs": [],
   "source": [
    "#As the product Quantity increases the total sales also increases\n",
    "#Premium customers tend to buy in large quantity"
   ]
  },
  {
   "cell_type": "code",
   "execution_count": 42,
   "id": "accomplished-scheduling",
   "metadata": {},
   "outputs": [
    {
     "name": "stderr",
     "output_type": "stream",
     "text": [
      "c:\\users\\rushikesh\\appdata\\local\\programs\\python\\python39\\lib\\site-packages\\seaborn\\_decorators.py:36: FutureWarning: Pass the following variables as keyword args: x, y. From version 0.12, the only valid positional argument will be `data`, and passing other arguments without an explicit keyword will result in an error or misinterpretation.\n",
      "  warnings.warn(\n"
     ]
    },
    {
     "data": {
      "text/plain": [
       "<AxesSubplot:xlabel='PACK_SIZE', ylabel='TOT_SALES'>"
      ]
     },
     "execution_count": 42,
     "metadata": {},
     "output_type": "execute_result"
    },
    {
     "data": {
      "image/png": "[encoded data removed]",
      "text/plain": [
       "<Figure size 432x288 with 1 Axes>"
      ]
     },
     "metadata": {
      "needs_background": "light"
     },
     "output_type": "display_data"
    }
   ],
   "source": [
    "#Numeric Vs Numeric\n",
    "#PACK_SIZE vs TOT_SALES\n",
    "sns.scatterplot(df['PACK_SIZE'],df['TOT_SALES'])"
   ]
  },
  {
   "cell_type": "code",
   "execution_count": 45,
   "id": "structural-grammar",
   "metadata": {},
   "outputs": [],
   "source": [
    "df_cat= df.select_dtypes(exclude=np.number)"
   ]
  },
  {
   "cell_type": "code",
   "execution_count": 46,
   "id": "middle-harrison",
   "metadata": {},
   "outputs": [
    {
     "data": {
      "text/html": [
       "<div>\n",
       "<style scoped>\n",
       "    .dataframe tbody tr th:only-of-type {\n",
       "        vertical-align: middle;\n",
       "    }\n",
       "\n",
       "    .dataframe tbody tr th {\n",
       "        vertical-align: top;\n",
       "    }\n",
       "\n",
       "    .dataframe thead th {\n",
       "        text-align: right;\n",
       "    }\n",
       "</style>\n",
       "<table border=\"1\" class=\"dataframe\">\n",
       "  <thead>\n",
       "    <tr style=\"text-align: right;\">\n",
       "      <th></th>\n",
       "      <th>DATE</th>\n",
       "      <th>PROD_NAME</th>\n",
       "      <th>BRAND</th>\n",
       "      <th>LIFESTAGE</th>\n",
       "      <th>PREMIUM_CUSTOMER</th>\n",
       "    </tr>\n",
       "  </thead>\n",
       "  <tbody>\n",
       "    <tr>\n",
       "      <th>0</th>\n",
       "      <td>2018-10-17</td>\n",
       "      <td>Natural Chip        Compny SeaSalt175g</td>\n",
       "      <td>NATURAL</td>\n",
       "      <td>YOUNG SINGLES/COUPLES</td>\n",
       "      <td>Premium</td>\n",
       "    </tr>\n",
       "    <tr>\n",
       "      <th>1</th>\n",
       "      <td>2018-09-16</td>\n",
       "      <td>Red Rock Deli Chikn&amp;Garlic Aioli 150g</td>\n",
       "      <td>RRD</td>\n",
       "      <td>YOUNG SINGLES/COUPLES</td>\n",
       "      <td>Mainstream</td>\n",
       "    </tr>\n",
       "    <tr>\n",
       "      <th>2</th>\n",
       "      <td>2019-03-07</td>\n",
       "      <td>Grain Waves Sour    Cream&amp;Chives 210G</td>\n",
       "      <td>GRNWVES</td>\n",
       "      <td>YOUNG FAMILIES</td>\n",
       "      <td>Budget</td>\n",
       "    </tr>\n",
       "    <tr>\n",
       "      <th>3</th>\n",
       "      <td>2019-03-08</td>\n",
       "      <td>Natural ChipCo      Hony Soy Chckn175g</td>\n",
       "      <td>NATURAL</td>\n",
       "      <td>YOUNG FAMILIES</td>\n",
       "      <td>Budget</td>\n",
       "    </tr>\n",
       "    <tr>\n",
       "      <th>4</th>\n",
       "      <td>2018-11-02</td>\n",
       "      <td>WW Original Stacked Chips 160g</td>\n",
       "      <td>WOOLWORTHS</td>\n",
       "      <td>OLDER SINGLES/COUPLES</td>\n",
       "      <td>Mainstream</td>\n",
       "    </tr>\n",
       "    <tr>\n",
       "      <th>...</th>\n",
       "      <td>...</td>\n",
       "      <td>...</td>\n",
       "      <td>...</td>\n",
       "      <td>...</td>\n",
       "      <td>...</td>\n",
       "    </tr>\n",
       "    <tr>\n",
       "      <th>264829</th>\n",
       "      <td>2018-12-08</td>\n",
       "      <td>Grain Waves         Sweet Chilli 210g</td>\n",
       "      <td>GRNWVES</td>\n",
       "      <td>YOUNG FAMILIES</td>\n",
       "      <td>Mainstream</td>\n",
       "    </tr>\n",
       "    <tr>\n",
       "      <th>264830</th>\n",
       "      <td>2018-10-01</td>\n",
       "      <td>Kettle Tortilla ChpsFeta&amp;Garlic 150g</td>\n",
       "      <td>KETTLE</td>\n",
       "      <td>YOUNG FAMILIES</td>\n",
       "      <td>Premium</td>\n",
       "    </tr>\n",
       "    <tr>\n",
       "      <th>264831</th>\n",
       "      <td>2018-10-24</td>\n",
       "      <td>Tyrrells Crisps     Lightly Salted 165g</td>\n",
       "      <td>TYRRELLS</td>\n",
       "      <td>OLDER FAMILIES</td>\n",
       "      <td>Budget</td>\n",
       "    </tr>\n",
       "    <tr>\n",
       "      <th>264832</th>\n",
       "      <td>2018-10-27</td>\n",
       "      <td>Old El Paso Salsa   Dip Chnky Tom Ht300g</td>\n",
       "      <td>OLD</td>\n",
       "      <td>OLDER FAMILIES</td>\n",
       "      <td>Budget</td>\n",
       "    </tr>\n",
       "    <tr>\n",
       "      <th>264833</th>\n",
       "      <td>2018-12-14</td>\n",
       "      <td>Smiths Crinkle Chips Salt &amp; Vinegar 330g</td>\n",
       "      <td>SMITHS</td>\n",
       "      <td>YOUNG SINGLES/COUPLES</td>\n",
       "      <td>Mainstream</td>\n",
       "    </tr>\n",
       "  </tbody>\n",
       "</table>\n",
       "<p>264834 rows × 5 columns</p>\n",
       "</div>"
      ],
      "text/plain": [
       "              DATE                                 PROD_NAME       BRAND  \\\n",
       "0       2018-10-17    Natural Chip        Compny SeaSalt175g     NATURAL   \n",
       "1       2018-09-16     Red Rock Deli Chikn&Garlic Aioli 150g         RRD   \n",
       "2       2019-03-07     Grain Waves Sour    Cream&Chives 210G     GRNWVES   \n",
       "3       2019-03-08    Natural ChipCo      Hony Soy Chckn175g     NATURAL   \n",
       "4       2018-11-02            WW Original Stacked Chips 160g  WOOLWORTHS   \n",
       "...            ...                                       ...         ...   \n",
       "264829  2018-12-08     Grain Waves         Sweet Chilli 210g     GRNWVES   \n",
       "264830  2018-10-01      Kettle Tortilla ChpsFeta&Garlic 150g      KETTLE   \n",
       "264831  2018-10-24   Tyrrells Crisps     Lightly Salted 165g    TYRRELLS   \n",
       "264832  2018-10-27  Old El Paso Salsa   Dip Chnky Tom Ht300g         OLD   \n",
       "264833  2018-12-14  Smiths Crinkle Chips Salt & Vinegar 330g      SMITHS   \n",
       "\n",
       "                    LIFESTAGE PREMIUM_CUSTOMER  \n",
       "0       YOUNG SINGLES/COUPLES          Premium  \n",
       "1       YOUNG SINGLES/COUPLES       Mainstream  \n",
       "2              YOUNG FAMILIES           Budget  \n",
       "3              YOUNG FAMILIES           Budget  \n",
       "4       OLDER SINGLES/COUPLES       Mainstream  \n",
       "...                       ...              ...  \n",
       "264829         YOUNG FAMILIES       Mainstream  \n",
       "264830         YOUNG FAMILIES          Premium  \n",
       "264831         OLDER FAMILIES           Budget  \n",
       "264832         OLDER FAMILIES           Budget  \n",
       "264833  YOUNG SINGLES/COUPLES       Mainstream  \n",
       "\n",
       "[264834 rows x 5 columns]"
      ]
     },
     "execution_count": 46,
     "metadata": {},
     "output_type": "execute_result"
    }
   ],
   "source": [
    "df_cat"
   ]
  },
  {
   "cell_type": "code",
   "execution_count": 58,
   "id": "minor-investigator",
   "metadata": {},
   "outputs": [],
   "source": [
    "df_cat = df_cat.drop('DATE', axis=1)"
   ]
  },
  {
   "cell_type": "code",
   "execution_count": 51,
   "id": "exterior-central",
   "metadata": {},
   "outputs": [
    {
     "data": {
      "text/html": [
       "<div>\n",
       "<style scoped>\n",
       "    .dataframe tbody tr th:only-of-type {\n",
       "        vertical-align: middle;\n",
       "    }\n",
       "\n",
       "    .dataframe tbody tr th {\n",
       "        vertical-align: top;\n",
       "    }\n",
       "\n",
       "    .dataframe thead th {\n",
       "        text-align: right;\n",
       "    }\n",
       "</style>\n",
       "<table border=\"1\" class=\"dataframe\">\n",
       "  <thead>\n",
       "    <tr style=\"text-align: right;\">\n",
       "      <th></th>\n",
       "      <th>DATE</th>\n",
       "      <th>PROD_NAME</th>\n",
       "      <th>BRAND</th>\n",
       "      <th>LIFESTAGE</th>\n",
       "    </tr>\n",
       "    <tr>\n",
       "      <th>PREMIUM_CUSTOMER</th>\n",
       "      <th></th>\n",
       "      <th></th>\n",
       "      <th></th>\n",
       "      <th></th>\n",
       "    </tr>\n",
       "  </thead>\n",
       "  <tbody>\n",
       "    <tr>\n",
       "      <th>Budget</th>\n",
       "      <td>93157</td>\n",
       "      <td>93157</td>\n",
       "      <td>93157</td>\n",
       "      <td>93157</td>\n",
       "    </tr>\n",
       "    <tr>\n",
       "      <th>Mainstream</th>\n",
       "      <td>101988</td>\n",
       "      <td>101988</td>\n",
       "      <td>101988</td>\n",
       "      <td>101988</td>\n",
       "    </tr>\n",
       "    <tr>\n",
       "      <th>Premium</th>\n",
       "      <td>69689</td>\n",
       "      <td>69689</td>\n",
       "      <td>69689</td>\n",
       "      <td>69689</td>\n",
       "    </tr>\n",
       "  </tbody>\n",
       "</table>\n",
       "</div>"
      ],
      "text/plain": [
       "                    DATE  PROD_NAME   BRAND  LIFESTAGE\n",
       "PREMIUM_CUSTOMER                                      \n",
       "Budget             93157      93157   93157      93157\n",
       "Mainstream        101988     101988  101988     101988\n",
       "Premium            69689      69689   69689      69689"
      ]
     },
     "execution_count": 51,
     "metadata": {},
     "output_type": "execute_result"
    }
   ],
   "source": [
    "df_cat.groupby('PREMIUM_CUSTOMER').count()"
   ]
  },
  {
   "cell_type": "code",
   "execution_count": 54,
   "id": "independent-military",
   "metadata": {},
   "outputs": [
    {
     "data": {
      "text/html": [
       "<div>\n",
       "<style scoped>\n",
       "    .dataframe tbody tr th:only-of-type {\n",
       "        vertical-align: middle;\n",
       "    }\n",
       "\n",
       "    .dataframe tbody tr th {\n",
       "        vertical-align: top;\n",
       "    }\n",
       "\n",
       "    .dataframe thead th {\n",
       "        text-align: right;\n",
       "    }\n",
       "</style>\n",
       "<table border=\"1\" class=\"dataframe\">\n",
       "  <thead>\n",
       "    <tr style=\"text-align: right;\">\n",
       "      <th></th>\n",
       "      <th>DATE</th>\n",
       "      <th>PROD_NAME</th>\n",
       "      <th>BRAND</th>\n",
       "      <th>PREMIUM_CUSTOMER</th>\n",
       "    </tr>\n",
       "    <tr>\n",
       "      <th>LIFESTAGE</th>\n",
       "      <th></th>\n",
       "      <th></th>\n",
       "      <th></th>\n",
       "      <th></th>\n",
       "    </tr>\n",
       "  </thead>\n",
       "  <tbody>\n",
       "    <tr>\n",
       "      <th>MIDAGE SINGLES/COUPLES</th>\n",
       "      <td>25110</td>\n",
       "      <td>25110</td>\n",
       "      <td>25110</td>\n",
       "      <td>25110</td>\n",
       "    </tr>\n",
       "    <tr>\n",
       "      <th>NEW FAMILIES</th>\n",
       "      <td>6919</td>\n",
       "      <td>6919</td>\n",
       "      <td>6919</td>\n",
       "      <td>6919</td>\n",
       "    </tr>\n",
       "    <tr>\n",
       "      <th>OLDER FAMILIES</th>\n",
       "      <td>48594</td>\n",
       "      <td>48594</td>\n",
       "      <td>48594</td>\n",
       "      <td>48594</td>\n",
       "    </tr>\n",
       "    <tr>\n",
       "      <th>OLDER SINGLES/COUPLES</th>\n",
       "      <td>54479</td>\n",
       "      <td>54479</td>\n",
       "      <td>54479</td>\n",
       "      <td>54479</td>\n",
       "    </tr>\n",
       "    <tr>\n",
       "      <th>RETIREES</th>\n",
       "      <td>49763</td>\n",
       "      <td>49763</td>\n",
       "      <td>49763</td>\n",
       "      <td>49763</td>\n",
       "    </tr>\n",
       "    <tr>\n",
       "      <th>YOUNG FAMILIES</th>\n",
       "      <td>43592</td>\n",
       "      <td>43592</td>\n",
       "      <td>43592</td>\n",
       "      <td>43592</td>\n",
       "    </tr>\n",
       "    <tr>\n",
       "      <th>YOUNG SINGLES/COUPLES</th>\n",
       "      <td>36377</td>\n",
       "      <td>36377</td>\n",
       "      <td>36377</td>\n",
       "      <td>36377</td>\n",
       "    </tr>\n",
       "  </tbody>\n",
       "</table>\n",
       "</div>"
      ],
      "text/plain": [
       "                         DATE  PROD_NAME  BRAND  PREMIUM_CUSTOMER\n",
       "LIFESTAGE                                                        \n",
       "MIDAGE SINGLES/COUPLES  25110      25110  25110             25110\n",
       "NEW FAMILIES             6919       6919   6919              6919\n",
       "OLDER FAMILIES          48594      48594  48594             48594\n",
       "OLDER SINGLES/COUPLES   54479      54479  54479             54479\n",
       "RETIREES                49763      49763  49763             49763\n",
       "YOUNG FAMILIES          43592      43592  43592             43592\n",
       "YOUNG SINGLES/COUPLES   36377      36377  36377             36377"
      ]
     },
     "execution_count": 54,
     "metadata": {},
     "output_type": "execute_result"
    }
   ],
   "source": [
    "df_cat.groupby('LIFESTAGE').count()"
   ]
  },
  {
   "cell_type": "code",
   "execution_count": 55,
   "id": "threatened-venture",
   "metadata": {},
   "outputs": [],
   "source": [
    "d = df_cat.groupby('LIFESTAGE').count()"
   ]
  },
  {
   "cell_type": "code",
   "execution_count": 56,
   "id": "strong-cherry",
   "metadata": {},
   "outputs": [
    {
     "data": {
      "text/plain": [
       "<AxesSubplot:xlabel='LIFESTAGE'>"
      ]
     },
     "execution_count": 56,
     "metadata": {},
     "output_type": "execute_result"
    },
    {
     "data": {
      "image/png": "[encoded data removed]",
      "text/plain": [
       "<Figure size 432x288 with 1 Axes>"
      ]
     },
     "metadata": {
      "needs_background": "light"
     },
     "output_type": "display_data"
    }
   ],
   "source": [
    "d.plot(kind='bar')"
   ]
  },
  {
   "cell_type": "code",
   "execution_count": null,
   "id": "accompanied-transcription",
   "metadata": {},
   "outputs": [],
   "source": [
    "#As we can see, Older singles/couples are the main customer followed by RETIREES and then YOUNG FAMILIES\n",
    "#New Families are small in number which can be our potential target to increase sales."
   ]
  },
  {
   "cell_type": "code",
   "execution_count": 70,
   "id": "digital-chemistry",
   "metadata": {},
   "outputs": [
    {
     "name": "stderr",
     "output_type": "stream",
     "text": [
      "c:\\users\\rushikesh\\appdata\\local\\programs\\python\\python39\\lib\\site-packages\\seaborn\\_decorators.py:36: FutureWarning: Pass the following variable as a keyword arg: x. From version 0.12, the only valid positional argument will be `data`, and passing other arguments without an explicit keyword will result in an error or misinterpretation.\n",
      "  warnings.warn(\n"
     ]
    },
    {
     "data": {
      "text/plain": [
       "(array([0, 1, 2, 3, 4, 5, 6]),\n",
       " [Text(0, 0, 'YOUNG SINGLES/COUPLES'),\n",
       "  Text(1, 0, 'YOUNG FAMILIES'),\n",
       "  Text(2, 0, 'OLDER SINGLES/COUPLES'),\n",
       "  Text(3, 0, 'MIDAGE SINGLES/COUPLES'),\n",
       "  Text(4, 0, 'NEW FAMILIES'),\n",
       "  Text(5, 0, 'OLDER FAMILIES'),\n",
       "  Text(6, 0, 'RETIREES')])"
      ]
     },
     "execution_count": 70,
     "metadata": {},
     "output_type": "execute_result"
    },
    {
     "data": {
      "image/png": "[encoded data removed]",
      "text/plain": [
       "<Figure size 432x288 with 1 Axes>"
      ]
     },
     "metadata": {
      "needs_background": "light"
     },
     "output_type": "display_data"
    }
   ],
   "source": [
    "q = sns.countplot(df['LIFESTAGE'])\n",
    "plt.xticks(rotation=90)"
   ]
  },
  {
   "cell_type": "code",
   "execution_count": 62,
   "id": "healthy-russian",
   "metadata": {},
   "outputs": [
    {
     "name": "stderr",
     "output_type": "stream",
     "text": [
      "c:\\users\\rushikesh\\appdata\\local\\programs\\python\\python39\\lib\\site-packages\\seaborn\\_decorators.py:36: FutureWarning: Pass the following variable as a keyword arg: x. From version 0.12, the only valid positional argument will be `data`, and passing other arguments without an explicit keyword will result in an error or misinterpretation.\n",
      "  warnings.warn(\n",
      "c:\\users\\rushikesh\\appdata\\local\\programs\\python\\python39\\lib\\site-packages\\seaborn\\_decorators.py:36: FutureWarning: Pass the following variable as a keyword arg: x. From version 0.12, the only valid positional argument will be `data`, and passing other arguments without an explicit keyword will result in an error or misinterpretation.\n",
      "  warnings.warn(\n",
      "c:\\users\\rushikesh\\appdata\\local\\programs\\python\\python39\\lib\\site-packages\\seaborn\\_decorators.py:36: FutureWarning: Pass the following variable as a keyword arg: x. From version 0.12, the only valid positional argument will be `data`, and passing other arguments without an explicit keyword will result in an error or misinterpretation.\n",
      "  warnings.warn(\n",
      "c:\\users\\rushikesh\\appdata\\local\\programs\\python\\python39\\lib\\site-packages\\seaborn\\_decorators.py:36: FutureWarning: Pass the following variable as a keyword arg: x. From version 0.12, the only valid positional argument will be `data`, and passing other arguments without an explicit keyword will result in an error or misinterpretation.\n",
      "  warnings.warn(\n"
     ]
    },
    {
     "data": {
      "image/png": "[encoded data removed]",
      "text/plain": [
       "<Figure size 432x288 with 1 Axes>"
      ]
     },
     "metadata": {
      "needs_background": "light"
     },
     "output_type": "display_data"
    }
   ],
   "source": [
    "for i in df_cat.columns:\n",
    "    sns.countplot(df_cat[i])"
   ]
  },
  {
   "cell_type": "code",
   "execution_count": 71,
   "id": "prostate-blank",
   "metadata": {},
   "outputs": [
    {
     "data": {
      "image/png": "[encoded data removed]",
      "text/plain": [
       "<Figure size 750x500 with 1 Axes>"
      ]
     },
     "metadata": {
      "needs_background": "light"
     },
     "output_type": "display_data"
    }
   ],
   "source": [
    "#cat vs cat interms of count\n",
    "plt.figure(dpi=125)\n",
    "sns.countplot(y ='LIFESTAGE', hue = \"PREMIUM_CUSTOMER\", data = df) \n",
    "plt.xlabel('Count')\n",
    "plt.show()"
   ]
  },
  {
   "cell_type": "code",
   "execution_count": null,
   "id": "unexpected-equivalent",
   "metadata": {},
   "outputs": [],
   "source": [
    "#As we can see in new Families Budget segment customers are more\n",
    "#same goes for OLDER Families\n",
    "#Strangley RETIREES are more Mainstream customers "
   ]
  },
  {
   "cell_type": "markdown",
   "id": "international-notebook",
   "metadata": {},
   "source": [
    "# Lets solve the actual problem statement given by the firm"
   ]
  },
  {
   "cell_type": "code",
   "execution_count": 3,
   "id": "exact-domestic",
   "metadata": {},
   "outputs": [
    {
     "name": "stdout",
     "output_type": "stream",
     "text": [
      "Collecting missingno\n",
      "  Downloading missingno-0.4.2-py3-none-any.whl (9.7 kB)\n",
      "Requirement already satisfied: numpy in c:\\users\\rushikesh\\appdata\\local\\programs\\python\\python39\\lib\\site-packages (from missingno) (1.20.1)\n",
      "Requirement already satisfied: matplotlib in c:\\users\\rushikesh\\appdata\\local\\programs\\python\\python39\\lib\\site-packages (from missingno) (3.4.1)\n",
      "Requirement already satisfied: seaborn in c:\\users\\rushikesh\\appdata\\local\\programs\\python\\python39\\lib\\site-packages (from missingno) (0.11.1)\n",
      "Requirement already satisfied: scipy in c:\\users\\rushikesh\\appdata\\local\\programs\\python\\python39\\lib\\site-packages (from missingno) (1.6.3)\n",
      "Requirement already satisfied: pillow>=6.2.0 in c:\\users\\rushikesh\\appdata\\local\\programs\\python\\python39\\lib\\site-packages (from matplotlib->missingno) (8.1.2)\n",
      "Requirement already satisfied: kiwisolver>=1.0.1 in c:\\users\\rushikesh\\appdata\\local\\programs\\python\\python39\\lib\\site-packages (from matplotlib->missingno) (1.3.1)\n",
      "Requirement already satisfied: python-dateutil>=2.7 in c:\\users\\rushikesh\\appdata\\local\\programs\\python\\python39\\lib\\site-packages (from matplotlib->missingno) (2.8.1)\n",
      "Requirement already satisfied: cycler>=0.10 in c:\\users\\rushikesh\\appdata\\local\\programs\\python\\python39\\lib\\site-packages (from matplotlib->missingno) (0.10.0)\n",
      "Requirement already satisfied: pyparsing>=2.2.1 in c:\\users\\rushikesh\\appdata\\local\\programs\\python\\python39\\lib\\site-packages (from matplotlib->missingno) (2.4.7)\n",
      "Requirement already satisfied: six in c:\\users\\rushikesh\\appdata\\local\\programs\\python\\python39\\lib\\site-packages (from cycler>=0.10->matplotlib->missingno) (1.15.0)\n",
      "Requirement already satisfied: pandas>=0.23 in c:\\users\\rushikesh\\appdata\\local\\programs\\python\\python39\\lib\\site-packages (from seaborn->missingno) (1.2.3)\n",
      "Requirement already satisfied: pytz>=2017.3 in c:\\users\\rushikesh\\appdata\\local\\programs\\python\\python39\\lib\\site-packages (from pandas>=0.23->seaborn->missingno) (2021.1)\n",
      "Installing collected packages: missingno\n",
      "Successfully installed missingno-0.4.2\n",
      "Note: you may need to restart the kernel to use updated packages.\n"
     ]
    },
    {
     "name": "stderr",
     "output_type": "stream",
     "text": [
      "WARNING: You are using pip version 21.1.1; however, version 21.1.2 is available.\n",
      "You should consider upgrading via the 'c:\\users\\rushikesh\\appdata\\local\\programs\\python\\python39\\python.exe -m pip install --upgrade pip' command.\n"
     ]
    }
   ],
   "source": [
    "pip install missingno"
   ]
  },
  {
   "cell_type": "code",
   "execution_count": 1,
   "id": "ahead-proxy",
   "metadata": {},
   "outputs": [],
   "source": [
    "# Data analysis and wragling\n",
    "import pandas as pd\n",
    "import numpy as np\n",
    "\n",
    "# Visualisation\n",
    "import seaborn as sns\n",
    "import matplotlib.pyplot as plt \n",
    "import missingno\n",
    "\n",
    "# Statistics\n",
    "from statistics import stdev\n",
    "from scipy.stats import t\n",
    "\n",
    "# Dates\n",
    "import matplotlib.dates as mdates\n",
    "\n",
    "# Remove warnings\n",
    "import warnings\n",
    "warnings.filterwarnings('ignore')"
   ]
  },
  {
   "cell_type": "code",
   "execution_count": null,
   "id": "catholic-environment",
   "metadata": {},
   "outputs": [],
   "source": [
    "#lets check the our data set again by loading it"
   ]
  },
  {
   "cell_type": "code",
   "execution_count": 2,
   "id": "crude-glasgow",
   "metadata": {},
   "outputs": [],
   "source": [
    "data = pd.read_csv('C:/Users/Rushikesh/Documents/GitHub/Exploratory-Data-Analysis/quantium internship/task 2/QVI_data.csv')"
   ]
  },
  {
   "cell_type": "code",
   "execution_count": 6,
   "id": "perfect-occurrence",
   "metadata": {},
   "outputs": [
    {
     "data": {
      "text/html": [
       "<div>\n",
       "<style scoped>\n",
       "    .dataframe tbody tr th:only-of-type {\n",
       "        vertical-align: middle;\n",
       "    }\n",
       "\n",
       "    .dataframe tbody tr th {\n",
       "        vertical-align: top;\n",
       "    }\n",
       "\n",
       "    .dataframe thead th {\n",
       "        text-align: right;\n",
       "    }\n",
       "</style>\n",
       "<table border=\"1\" class=\"dataframe\">\n",
       "  <thead>\n",
       "    <tr style=\"text-align: right;\">\n",
       "      <th></th>\n",
       "      <th>LYLTY_CARD_NBR</th>\n",
       "      <th>DATE</th>\n",
       "      <th>STORE_NBR</th>\n",
       "      <th>TXN_ID</th>\n",
       "      <th>PROD_NBR</th>\n",
       "      <th>PROD_NAME</th>\n",
       "      <th>PROD_QTY</th>\n",
       "      <th>TOT_SALES</th>\n",
       "      <th>PACK_SIZE</th>\n",
       "      <th>BRAND</th>\n",
       "      <th>LIFESTAGE</th>\n",
       "      <th>PREMIUM_CUSTOMER</th>\n",
       "    </tr>\n",
       "  </thead>\n",
       "  <tbody>\n",
       "    <tr>\n",
       "      <th>0</th>\n",
       "      <td>1000</td>\n",
       "      <td>2018-10-17</td>\n",
       "      <td>1</td>\n",
       "      <td>1</td>\n",
       "      <td>5</td>\n",
       "      <td>Natural Chip        Compny SeaSalt175g</td>\n",
       "      <td>2</td>\n",
       "      <td>6.0</td>\n",
       "      <td>175</td>\n",
       "      <td>NATURAL</td>\n",
       "      <td>YOUNG SINGLES/COUPLES</td>\n",
       "      <td>Premium</td>\n",
       "    </tr>\n",
       "    <tr>\n",
       "      <th>1</th>\n",
       "      <td>1002</td>\n",
       "      <td>2018-09-16</td>\n",
       "      <td>1</td>\n",
       "      <td>2</td>\n",
       "      <td>58</td>\n",
       "      <td>Red Rock Deli Chikn&amp;Garlic Aioli 150g</td>\n",
       "      <td>1</td>\n",
       "      <td>2.7</td>\n",
       "      <td>150</td>\n",
       "      <td>RRD</td>\n",
       "      <td>YOUNG SINGLES/COUPLES</td>\n",
       "      <td>Mainstream</td>\n",
       "    </tr>\n",
       "    <tr>\n",
       "      <th>2</th>\n",
       "      <td>1003</td>\n",
       "      <td>2019-03-07</td>\n",
       "      <td>1</td>\n",
       "      <td>3</td>\n",
       "      <td>52</td>\n",
       "      <td>Grain Waves Sour    Cream&amp;Chives 210G</td>\n",
       "      <td>1</td>\n",
       "      <td>3.6</td>\n",
       "      <td>210</td>\n",
       "      <td>GRNWVES</td>\n",
       "      <td>YOUNG FAMILIES</td>\n",
       "      <td>Budget</td>\n",
       "    </tr>\n",
       "    <tr>\n",
       "      <th>3</th>\n",
       "      <td>1003</td>\n",
       "      <td>2019-03-08</td>\n",
       "      <td>1</td>\n",
       "      <td>4</td>\n",
       "      <td>106</td>\n",
       "      <td>Natural ChipCo      Hony Soy Chckn175g</td>\n",
       "      <td>1</td>\n",
       "      <td>3.0</td>\n",
       "      <td>175</td>\n",
       "      <td>NATURAL</td>\n",
       "      <td>YOUNG FAMILIES</td>\n",
       "      <td>Budget</td>\n",
       "    </tr>\n",
       "    <tr>\n",
       "      <th>4</th>\n",
       "      <td>1004</td>\n",
       "      <td>2018-11-02</td>\n",
       "      <td>1</td>\n",
       "      <td>5</td>\n",
       "      <td>96</td>\n",
       "      <td>WW Original Stacked Chips 160g</td>\n",
       "      <td>1</td>\n",
       "      <td>1.9</td>\n",
       "      <td>160</td>\n",
       "      <td>WOOLWORTHS</td>\n",
       "      <td>OLDER SINGLES/COUPLES</td>\n",
       "      <td>Mainstream</td>\n",
       "    </tr>\n",
       "  </tbody>\n",
       "</table>\n",
       "</div>"
      ],
      "text/plain": [
       "   LYLTY_CARD_NBR        DATE  STORE_NBR  TXN_ID  PROD_NBR  \\\n",
       "0            1000  2018-10-17          1       1         5   \n",
       "1            1002  2018-09-16          1       2        58   \n",
       "2            1003  2019-03-07          1       3        52   \n",
       "3            1003  2019-03-08          1       4       106   \n",
       "4            1004  2018-11-02          1       5        96   \n",
       "\n",
       "                                PROD_NAME  PROD_QTY  TOT_SALES  PACK_SIZE  \\\n",
       "0  Natural Chip        Compny SeaSalt175g         2        6.0        175   \n",
       "1   Red Rock Deli Chikn&Garlic Aioli 150g         1        2.7        150   \n",
       "2   Grain Waves Sour    Cream&Chives 210G         1        3.6        210   \n",
       "3  Natural ChipCo      Hony Soy Chckn175g         1        3.0        175   \n",
       "4          WW Original Stacked Chips 160g         1        1.9        160   \n",
       "\n",
       "        BRAND              LIFESTAGE PREMIUM_CUSTOMER  \n",
       "0     NATURAL  YOUNG SINGLES/COUPLES          Premium  \n",
       "1         RRD  YOUNG SINGLES/COUPLES       Mainstream  \n",
       "2     GRNWVES         YOUNG FAMILIES           Budget  \n",
       "3     NATURAL         YOUNG FAMILIES           Budget  \n",
       "4  WOOLWORTHS  OLDER SINGLES/COUPLES       Mainstream  "
      ]
     },
     "execution_count": 6,
     "metadata": {},
     "output_type": "execute_result"
    }
   ],
   "source": [
    "data.head()"
   ]
  },
  {
   "cell_type": "code",
   "execution_count": 7,
   "id": "worse-keyboard",
   "metadata": {},
   "outputs": [
    {
     "data": {
      "text/plain": [
       "(264834, 12)"
      ]
     },
     "execution_count": 7,
     "metadata": {},
     "output_type": "execute_result"
    }
   ],
   "source": [
    "data.shape"
   ]
  },
  {
   "cell_type": "code",
   "execution_count": 8,
   "id": "reflected-reduction",
   "metadata": {},
   "outputs": [
    {
     "data": {
      "text/plain": [
       "<AxesSubplot:>"
      ]
     },
     "execution_count": 8,
     "metadata": {},
     "output_type": "execute_result"
    },
    {
     "data": {
      "image/png": "[encoded data removed]",
      "text/plain": [
       "<Figure size 1800x720 with 2 Axes>"
      ]
     },
     "metadata": {
      "needs_background": "light"
     },
     "output_type": "display_data"
    }
   ],
   "source": [
    "#check for null value\n",
    "missingno.matrix(data)"
   ]
  },
  {
   "cell_type": "markdown",
   "id": "rising-official",
   "metadata": {},
   "source": [
    "# Select control store"
   ]
  },
  {
   "cell_type": "markdown",
   "id": "adaptive-heading",
   "metadata": {},
   "source": [
    "The client has selected stores 77, 86 and 88 as trial stores and want control stores to be established stores that are operational for the entire observation period.\n",
    "\n",
    "We would want to match trial stores to control stores that are similar to the trial store prior to the trial period of Feb 2019 in terms of:\n",
    "\n",
    "Monthly overall sales revenue\n",
    "Monthly number of customers\n",
    "Monthly number of transactions per customer\n",
    "Let's first create the metrics of interest and filter out stores that are present throughout the pre-trial period."
   ]
  },
  {
   "cell_type": "code",
   "execution_count": 3,
   "id": "great-motivation",
   "metadata": {},
   "outputs": [],
   "source": [
    "data['DATE'] = data['DATE'].apply(lambda x: x.replace('-',''))"
   ]
  },
  {
   "cell_type": "code",
   "execution_count": 4,
   "id": "advance-flower",
   "metadata": {},
   "outputs": [
    {
     "data": {
      "text/plain": [
       "0         20181017\n",
       "1         20180916\n",
       "2         20190307\n",
       "3         20190308\n",
       "4         20181102\n",
       "            ...   \n",
       "264829    20181208\n",
       "264830    20181001\n",
       "264831    20181024\n",
       "264832    20181027\n",
       "264833    20181214\n",
       "Name: DATE, Length: 264834, dtype: object"
      ]
     },
     "execution_count": 4,
     "metadata": {},
     "output_type": "execute_result"
    }
   ],
   "source": [
    "data['DATE']"
   ]
  },
  {
   "cell_type": "code",
   "execution_count": 5,
   "id": "finite-complaint",
   "metadata": {},
   "outputs": [],
   "source": [
    "#converting the date to numberic value\n",
    "data['DATE'] = data.DATE.str.slice(stop=6)\n",
    "data['DATE']=data.DATE.astype(int)"
   ]
  },
  {
   "cell_type": "code",
   "execution_count": 31,
   "id": "pleased-portfolio",
   "metadata": {},
   "outputs": [
    {
     "name": "stdout",
     "output_type": "stream",
     "text": [
      "<class 'pandas.core.frame.DataFrame'>\n",
      "RangeIndex: 264834 entries, 0 to 264833\n",
      "Data columns (total 12 columns):\n",
      " #   Column            Non-Null Count   Dtype  \n",
      "---  ------            --------------   -----  \n",
      " 0   LYLTY_CARD_NBR    264834 non-null  int64  \n",
      " 1   DATE              264834 non-null  int32  \n",
      " 2   STORE_NBR         264834 non-null  int64  \n",
      " 3   TXN_ID            264834 non-null  int64  \n",
      " 4   PROD_NBR          264834 non-null  int64  \n",
      " 5   PROD_NAME         264834 non-null  object \n",
      " 6   PROD_QTY          264834 non-null  int64  \n",
      " 7   TOT_SALES         264834 non-null  float64\n",
      " 8   PACK_SIZE         264834 non-null  int64  \n",
      " 9   BRAND             264834 non-null  object \n",
      " 10  LIFESTAGE         264834 non-null  object \n",
      " 11  PREMIUM_CUSTOMER  264834 non-null  object \n",
      "dtypes: float64(1), int32(1), int64(6), object(4)\n",
      "memory usage: 23.2+ MB\n"
     ]
    }
   ],
   "source": [
    "data.info()"
   ]
  },
  {
   "cell_type": "markdown",
   "id": "informative-thirty",
   "metadata": {},
   "source": [
    "For each month and store, calculate:\n",
    "\n",
    "Total sales\n",
    "Number of customers\n",
    "Transaction per customer\n",
    "Chips per transaction\n",
    "Average price per unit\n",
    "Create individual dataframe and then concatenate all of them together at the end."
   ]
  },
  {
   "cell_type": "code",
   "execution_count": 6,
   "id": "skilled-softball",
   "metadata": {},
   "outputs": [
    {
     "data": {
      "text/plain": [
       "STORE_NBR  DATE  \n",
       "1          201807    206.9\n",
       "           201808    176.1\n",
       "           201809    278.8\n",
       "           201810    188.1\n",
       "           201811    192.6\n",
       "                     ...  \n",
       "272        201902    395.5\n",
       "           201903    442.3\n",
       "           201904    445.1\n",
       "           201905    314.6\n",
       "           201906    312.1\n",
       "Name: TOT_SALES, Length: 3169, dtype: float64"
      ]
     },
     "execution_count": 6,
     "metadata": {},
     "output_type": "execute_result"
    }
   ],
   "source": [
    "#Calculating total sale\n",
    "totalSales = data.groupby(['STORE_NBR','DATE']).TOT_SALES.sum()\n",
    "totalSales"
   ]
  },
  {
   "cell_type": "code",
   "execution_count": 7,
   "id": "blond-performance",
   "metadata": {},
   "outputs": [
    {
     "data": {
      "text/plain": [
       "STORE_NBR  DATE  \n",
       "1          201807    49\n",
       "           201808    42\n",
       "           201809    59\n",
       "           201810    44\n",
       "           201811    46\n",
       "                     ..\n",
       "272        201902    45\n",
       "           201903    50\n",
       "           201904    54\n",
       "           201905    34\n",
       "           201906    34\n",
       "Name: LYLTY_CARD_NBR, Length: 3169, dtype: int64"
      ]
     },
     "execution_count": 7,
     "metadata": {},
     "output_type": "execute_result"
    }
   ],
   "source": [
    "#calculating Number of customers\n",
    "numOfCustomer = data.groupby(['STORE_NBR','DATE']).LYLTY_CARD_NBR.nunique()\n",
    "numOfCustomer"
   ]
  },
  {
   "cell_type": "code",
   "execution_count": 8,
   "id": "infinite-sitting",
   "metadata": {},
   "outputs": [
    {
     "data": {
      "text/plain": [
       "STORE_NBR  DATE  \n",
       "1          201807    1.061224\n",
       "           201808    1.023810\n",
       "           201809    1.050847\n",
       "           201810    1.022727\n",
       "           201811    1.021739\n",
       "                       ...   \n",
       "272        201902    1.066667\n",
       "           201903    1.060000\n",
       "           201904    1.018519\n",
       "           201905    1.176471\n",
       "           201906    1.088235\n",
       "Length: 3169, dtype: float64"
      ]
     },
     "execution_count": 8,
     "metadata": {},
     "output_type": "execute_result"
    }
   ],
   "source": [
    "# Calculating Transaction per customer\n",
    "TransPerCustomer = data.groupby(['STORE_NBR','DATE']).TXN_ID.nunique() / data.groupby(['STORE_NBR','DATE']).LYLTY_CARD_NBR.nunique()\n",
    "TransPerCustomer"
   ]
  },
  {
   "cell_type": "code",
   "execution_count": 9,
   "id": "wound-height",
   "metadata": {},
   "outputs": [
    {
     "data": {
      "text/plain": [
       "STORE_NBR  DATE  \n",
       "1          201807    1.192308\n",
       "           201808    1.255814\n",
       "           201809    1.209677\n",
       "           201810    1.288889\n",
       "           201811    1.212766\n",
       "                       ...   \n",
       "272        201902    1.895833\n",
       "           201903    1.905660\n",
       "           201904    1.909091\n",
       "           201905    1.775000\n",
       "           201906    1.891892\n",
       "Length: 3169, dtype: float64"
      ]
     },
     "execution_count": 9,
     "metadata": {},
     "output_type": "execute_result"
    }
   ],
   "source": [
    "#calculating Chips per transaction\n",
    "chipPerTnx = data.groupby(['STORE_NBR','DATE']).PROD_QTY.sum() / data.groupby(['STORE_NBR','DATE']).TXN_ID.nunique()\n",
    "chipPerTnx"
   ]
  },
  {
   "cell_type": "code",
   "execution_count": 10,
   "id": "postal-moscow",
   "metadata": {},
   "outputs": [
    {
     "data": {
      "text/plain": [
       "STORE_NBR  DATE  \n",
       "1          201807    3.337097\n",
       "           201808    3.261111\n",
       "           201809    3.717333\n",
       "           201810    3.243103\n",
       "           201811    3.378947\n",
       "                       ...   \n",
       "272        201902    4.346154\n",
       "           201903    4.379208\n",
       "           201904    4.239048\n",
       "           201905    4.430986\n",
       "           201906    4.458571\n",
       "Length: 3169, dtype: float64"
      ]
     },
     "execution_count": 10,
     "metadata": {},
     "output_type": "execute_result"
    }
   ],
   "source": [
    "#Calculating Average price per unit\n",
    "AvgPerUnit = data.groupby(['STORE_NBR','DATE']).TOT_SALES.sum() / data.groupby(['STORE_NBR','DATE']).PROD_QTY.sum()\n",
    "AvgPerUnit"
   ]
  },
  {
   "cell_type": "code",
   "execution_count": 11,
   "id": "previous-olympus",
   "metadata": {},
   "outputs": [
    {
     "data": {
      "text/html": [
       "<div>\n",
       "<style scoped>\n",
       "    .dataframe tbody tr th:only-of-type {\n",
       "        vertical-align: middle;\n",
       "    }\n",
       "\n",
       "    .dataframe tbody tr th {\n",
       "        vertical-align: top;\n",
       "    }\n",
       "\n",
       "    .dataframe thead th {\n",
       "        text-align: right;\n",
       "    }\n",
       "</style>\n",
       "<table border=\"1\" class=\"dataframe\">\n",
       "  <thead>\n",
       "    <tr style=\"text-align: right;\">\n",
       "      <th></th>\n",
       "      <th></th>\n",
       "      <th>TOT_SALES</th>\n",
       "      <th>LYLTY_CARD_NBR</th>\n",
       "      <th>0</th>\n",
       "      <th>1</th>\n",
       "      <th>2</th>\n",
       "    </tr>\n",
       "    <tr>\n",
       "      <th>STORE_NBR</th>\n",
       "      <th>DATE</th>\n",
       "      <th></th>\n",
       "      <th></th>\n",
       "      <th></th>\n",
       "      <th></th>\n",
       "      <th></th>\n",
       "    </tr>\n",
       "  </thead>\n",
       "  <tbody>\n",
       "    <tr>\n",
       "      <th rowspan=\"5\" valign=\"top\">1</th>\n",
       "      <th>201807</th>\n",
       "      <td>206.9</td>\n",
       "      <td>49</td>\n",
       "      <td>1.061224</td>\n",
       "      <td>1.192308</td>\n",
       "      <td>3.337097</td>\n",
       "    </tr>\n",
       "    <tr>\n",
       "      <th>201808</th>\n",
       "      <td>176.1</td>\n",
       "      <td>42</td>\n",
       "      <td>1.023810</td>\n",
       "      <td>1.255814</td>\n",
       "      <td>3.261111</td>\n",
       "    </tr>\n",
       "    <tr>\n",
       "      <th>201809</th>\n",
       "      <td>278.8</td>\n",
       "      <td>59</td>\n",
       "      <td>1.050847</td>\n",
       "      <td>1.209677</td>\n",
       "      <td>3.717333</td>\n",
       "    </tr>\n",
       "    <tr>\n",
       "      <th>201810</th>\n",
       "      <td>188.1</td>\n",
       "      <td>44</td>\n",
       "      <td>1.022727</td>\n",
       "      <td>1.288889</td>\n",
       "      <td>3.243103</td>\n",
       "    </tr>\n",
       "    <tr>\n",
       "      <th>201811</th>\n",
       "      <td>192.6</td>\n",
       "      <td>46</td>\n",
       "      <td>1.021739</td>\n",
       "      <td>1.212766</td>\n",
       "      <td>3.378947</td>\n",
       "    </tr>\n",
       "    <tr>\n",
       "      <th>...</th>\n",
       "      <th>...</th>\n",
       "      <td>...</td>\n",
       "      <td>...</td>\n",
       "      <td>...</td>\n",
       "      <td>...</td>\n",
       "      <td>...</td>\n",
       "    </tr>\n",
       "    <tr>\n",
       "      <th rowspan=\"5\" valign=\"top\">272</th>\n",
       "      <th>201902</th>\n",
       "      <td>395.5</td>\n",
       "      <td>45</td>\n",
       "      <td>1.066667</td>\n",
       "      <td>1.895833</td>\n",
       "      <td>4.346154</td>\n",
       "    </tr>\n",
       "    <tr>\n",
       "      <th>201903</th>\n",
       "      <td>442.3</td>\n",
       "      <td>50</td>\n",
       "      <td>1.060000</td>\n",
       "      <td>1.905660</td>\n",
       "      <td>4.379208</td>\n",
       "    </tr>\n",
       "    <tr>\n",
       "      <th>201904</th>\n",
       "      <td>445.1</td>\n",
       "      <td>54</td>\n",
       "      <td>1.018519</td>\n",
       "      <td>1.909091</td>\n",
       "      <td>4.239048</td>\n",
       "    </tr>\n",
       "    <tr>\n",
       "      <th>201905</th>\n",
       "      <td>314.6</td>\n",
       "      <td>34</td>\n",
       "      <td>1.176471</td>\n",
       "      <td>1.775000</td>\n",
       "      <td>4.430986</td>\n",
       "    </tr>\n",
       "    <tr>\n",
       "      <th>201906</th>\n",
       "      <td>312.1</td>\n",
       "      <td>34</td>\n",
       "      <td>1.088235</td>\n",
       "      <td>1.891892</td>\n",
       "      <td>4.458571</td>\n",
       "    </tr>\n",
       "  </tbody>\n",
       "</table>\n",
       "<p>3169 rows × 5 columns</p>\n",
       "</div>"
      ],
      "text/plain": [
       "                  TOT_SALES  LYLTY_CARD_NBR         0         1         2\n",
       "STORE_NBR DATE                                                           \n",
       "1         201807      206.9              49  1.061224  1.192308  3.337097\n",
       "          201808      176.1              42  1.023810  1.255814  3.261111\n",
       "          201809      278.8              59  1.050847  1.209677  3.717333\n",
       "          201810      188.1              44  1.022727  1.288889  3.243103\n",
       "          201811      192.6              46  1.021739  1.212766  3.378947\n",
       "...                     ...             ...       ...       ...       ...\n",
       "272       201902      395.5              45  1.066667  1.895833  4.346154\n",
       "          201903      442.3              50  1.060000  1.905660  4.379208\n",
       "          201904      445.1              54  1.018519  1.909091  4.239048\n",
       "          201905      314.6              34  1.176471  1.775000  4.430986\n",
       "          201906      312.1              34  1.088235  1.891892  4.458571\n",
       "\n",
       "[3169 rows x 5 columns]"
      ]
     },
     "execution_count": 11,
     "metadata": {},
     "output_type": "execute_result"
    }
   ],
   "source": [
    "#concat the variables that we have just created\n",
    "df = [totalSales, numOfCustomer, TransPerCustomer, chipPerTnx, AvgPerUnit]\n",
    "measureOverTime = pd.concat(df, join = 'outer', axis = 1)\n",
    "measureOverTime"
   ]
  },
  {
   "cell_type": "code",
   "execution_count": 12,
   "id": "everyday-industry",
   "metadata": {},
   "outputs": [
    {
     "data": {
      "text/html": [
       "<div>\n",
       "<style scoped>\n",
       "    .dataframe tbody tr th:only-of-type {\n",
       "        vertical-align: middle;\n",
       "    }\n",
       "\n",
       "    .dataframe tbody tr th {\n",
       "        vertical-align: top;\n",
       "    }\n",
       "\n",
       "    .dataframe thead th {\n",
       "        text-align: right;\n",
       "    }\n",
       "</style>\n",
       "<table border=\"1\" class=\"dataframe\">\n",
       "  <thead>\n",
       "    <tr style=\"text-align: right;\">\n",
       "      <th></th>\n",
       "      <th></th>\n",
       "      <th>totalSales</th>\n",
       "      <th>numOfCustomer</th>\n",
       "      <th>TransPerCustomer</th>\n",
       "      <th>chipPerTnx</th>\n",
       "      <th>AvgPerUnit</th>\n",
       "    </tr>\n",
       "    <tr>\n",
       "      <th>STORE_NBR</th>\n",
       "      <th>DATE</th>\n",
       "      <th></th>\n",
       "      <th></th>\n",
       "      <th></th>\n",
       "      <th></th>\n",
       "      <th></th>\n",
       "    </tr>\n",
       "  </thead>\n",
       "  <tbody>\n",
       "    <tr>\n",
       "      <th rowspan=\"5\" valign=\"top\">1</th>\n",
       "      <th>201807</th>\n",
       "      <td>206.9</td>\n",
       "      <td>49</td>\n",
       "      <td>1.061224</td>\n",
       "      <td>1.192308</td>\n",
       "      <td>3.337097</td>\n",
       "    </tr>\n",
       "    <tr>\n",
       "      <th>201808</th>\n",
       "      <td>176.1</td>\n",
       "      <td>42</td>\n",
       "      <td>1.023810</td>\n",
       "      <td>1.255814</td>\n",
       "      <td>3.261111</td>\n",
       "    </tr>\n",
       "    <tr>\n",
       "      <th>201809</th>\n",
       "      <td>278.8</td>\n",
       "      <td>59</td>\n",
       "      <td>1.050847</td>\n",
       "      <td>1.209677</td>\n",
       "      <td>3.717333</td>\n",
       "    </tr>\n",
       "    <tr>\n",
       "      <th>201810</th>\n",
       "      <td>188.1</td>\n",
       "      <td>44</td>\n",
       "      <td>1.022727</td>\n",
       "      <td>1.288889</td>\n",
       "      <td>3.243103</td>\n",
       "    </tr>\n",
       "    <tr>\n",
       "      <th>201811</th>\n",
       "      <td>192.6</td>\n",
       "      <td>46</td>\n",
       "      <td>1.021739</td>\n",
       "      <td>1.212766</td>\n",
       "      <td>3.378947</td>\n",
       "    </tr>\n",
       "  </tbody>\n",
       "</table>\n",
       "</div>"
      ],
      "text/plain": [
       "                  totalSales  numOfCustomer  TransPerCustomer  chipPerTnx  \\\n",
       "STORE_NBR DATE                                                              \n",
       "1         201807       206.9             49          1.061224    1.192308   \n",
       "          201808       176.1             42          1.023810    1.255814   \n",
       "          201809       278.8             59          1.050847    1.209677   \n",
       "          201810       188.1             44          1.022727    1.288889   \n",
       "          201811       192.6             46          1.021739    1.212766   \n",
       "\n",
       "                  AvgPerUnit  \n",
       "STORE_NBR DATE                \n",
       "1         201807    3.337097  \n",
       "          201808    3.261111  \n",
       "          201809    3.717333  \n",
       "          201810    3.243103  \n",
       "          201811    3.378947  "
      ]
     },
     "execution_count": 12,
     "metadata": {},
     "output_type": "execute_result"
    }
   ],
   "source": [
    "\n",
    "# Rename the columns\n",
    "\n",
    "measureOverTime.rename(columns = {'TOT_SALES': 'totalSales', 'LYLTY_CARD_NBR': 'numOfCustomer', 0: 'TransPerCustomer', 1: 'chipPerTnx', 2: 'AvgPerUnit'}, inplace = True)\n",
    "measureOverTime.head()"
   ]
  },
  {
   "cell_type": "code",
   "execution_count": 13,
   "id": "quick-dancing",
   "metadata": {},
   "outputs": [
    {
     "data": {
      "text/html": [
       "<div>\n",
       "<style scoped>\n",
       "    .dataframe tbody tr th:only-of-type {\n",
       "        vertical-align: middle;\n",
       "    }\n",
       "\n",
       "    .dataframe tbody tr th {\n",
       "        vertical-align: top;\n",
       "    }\n",
       "\n",
       "    .dataframe thead th {\n",
       "        text-align: right;\n",
       "    }\n",
       "</style>\n",
       "<table border=\"1\" class=\"dataframe\">\n",
       "  <thead>\n",
       "    <tr style=\"text-align: right;\">\n",
       "      <th>DATE</th>\n",
       "      <th>201807</th>\n",
       "      <th>201808</th>\n",
       "      <th>201809</th>\n",
       "      <th>201810</th>\n",
       "      <th>201811</th>\n",
       "      <th>201812</th>\n",
       "      <th>201901</th>\n",
       "      <th>201902</th>\n",
       "      <th>201903</th>\n",
       "      <th>201904</th>\n",
       "      <th>201905</th>\n",
       "      <th>201906</th>\n",
       "    </tr>\n",
       "    <tr>\n",
       "      <th>STORE_NBR</th>\n",
       "      <th></th>\n",
       "      <th></th>\n",
       "      <th></th>\n",
       "      <th></th>\n",
       "      <th></th>\n",
       "      <th></th>\n",
       "      <th></th>\n",
       "      <th></th>\n",
       "      <th></th>\n",
       "      <th></th>\n",
       "      <th></th>\n",
       "      <th></th>\n",
       "    </tr>\n",
       "  </thead>\n",
       "  <tbody>\n",
       "    <tr>\n",
       "      <th>1</th>\n",
       "      <td>52.0</td>\n",
       "      <td>43.0</td>\n",
       "      <td>62.0</td>\n",
       "      <td>45.0</td>\n",
       "      <td>47.0</td>\n",
       "      <td>47.0</td>\n",
       "      <td>36.0</td>\n",
       "      <td>55.0</td>\n",
       "      <td>49.0</td>\n",
       "      <td>43.0</td>\n",
       "      <td>51.0</td>\n",
       "      <td>43.0</td>\n",
       "    </tr>\n",
       "    <tr>\n",
       "      <th>2</th>\n",
       "      <td>41.0</td>\n",
       "      <td>43.0</td>\n",
       "      <td>37.0</td>\n",
       "      <td>43.0</td>\n",
       "      <td>40.0</td>\n",
       "      <td>38.0</td>\n",
       "      <td>45.0</td>\n",
       "      <td>32.0</td>\n",
       "      <td>46.0</td>\n",
       "      <td>49.0</td>\n",
       "      <td>50.0</td>\n",
       "      <td>42.0</td>\n",
       "    </tr>\n",
       "    <tr>\n",
       "      <th>3</th>\n",
       "      <td>138.0</td>\n",
       "      <td>134.0</td>\n",
       "      <td>119.0</td>\n",
       "      <td>119.0</td>\n",
       "      <td>118.0</td>\n",
       "      <td>129.0</td>\n",
       "      <td>121.0</td>\n",
       "      <td>139.0</td>\n",
       "      <td>130.0</td>\n",
       "      <td>110.0</td>\n",
       "      <td>123.0</td>\n",
       "      <td>122.0</td>\n",
       "    </tr>\n",
       "    <tr>\n",
       "      <th>4</th>\n",
       "      <td>160.0</td>\n",
       "      <td>151.0</td>\n",
       "      <td>138.0</td>\n",
       "      <td>155.0</td>\n",
       "      <td>139.0</td>\n",
       "      <td>133.0</td>\n",
       "      <td>168.0</td>\n",
       "      <td>102.0</td>\n",
       "      <td>135.0</td>\n",
       "      <td>137.0</td>\n",
       "      <td>126.0</td>\n",
       "      <td>134.0</td>\n",
       "    </tr>\n",
       "    <tr>\n",
       "      <th>5</th>\n",
       "      <td>120.0</td>\n",
       "      <td>112.0</td>\n",
       "      <td>125.0</td>\n",
       "      <td>107.0</td>\n",
       "      <td>111.0</td>\n",
       "      <td>125.0</td>\n",
       "      <td>118.0</td>\n",
       "      <td>106.0</td>\n",
       "      <td>97.0</td>\n",
       "      <td>109.0</td>\n",
       "      <td>104.0</td>\n",
       "      <td>127.0</td>\n",
       "    </tr>\n",
       "    <tr>\n",
       "      <th>...</th>\n",
       "      <td>...</td>\n",
       "      <td>...</td>\n",
       "      <td>...</td>\n",
       "      <td>...</td>\n",
       "      <td>...</td>\n",
       "      <td>...</td>\n",
       "      <td>...</td>\n",
       "      <td>...</td>\n",
       "      <td>...</td>\n",
       "      <td>...</td>\n",
       "      <td>...</td>\n",
       "      <td>...</td>\n",
       "    </tr>\n",
       "    <tr>\n",
       "      <th>268</th>\n",
       "      <td>52.0</td>\n",
       "      <td>54.0</td>\n",
       "      <td>34.0</td>\n",
       "      <td>48.0</td>\n",
       "      <td>51.0</td>\n",
       "      <td>43.0</td>\n",
       "      <td>38.0</td>\n",
       "      <td>37.0</td>\n",
       "      <td>47.0</td>\n",
       "      <td>50.0</td>\n",
       "      <td>52.0</td>\n",
       "      <td>40.0</td>\n",
       "    </tr>\n",
       "    <tr>\n",
       "      <th>269</th>\n",
       "      <td>139.0</td>\n",
       "      <td>132.0</td>\n",
       "      <td>124.0</td>\n",
       "      <td>148.0</td>\n",
       "      <td>136.0</td>\n",
       "      <td>133.0</td>\n",
       "      <td>144.0</td>\n",
       "      <td>133.0</td>\n",
       "      <td>122.0</td>\n",
       "      <td>139.0</td>\n",
       "      <td>130.0</td>\n",
       "      <td>127.0</td>\n",
       "    </tr>\n",
       "    <tr>\n",
       "      <th>270</th>\n",
       "      <td>139.0</td>\n",
       "      <td>154.0</td>\n",
       "      <td>126.0</td>\n",
       "      <td>119.0</td>\n",
       "      <td>133.0</td>\n",
       "      <td>149.0</td>\n",
       "      <td>155.0</td>\n",
       "      <td>125.0</td>\n",
       "      <td>143.0</td>\n",
       "      <td>132.0</td>\n",
       "      <td>128.0</td>\n",
       "      <td>127.0</td>\n",
       "    </tr>\n",
       "    <tr>\n",
       "      <th>271</th>\n",
       "      <td>129.0</td>\n",
       "      <td>101.0</td>\n",
       "      <td>114.0</td>\n",
       "      <td>114.0</td>\n",
       "      <td>122.0</td>\n",
       "      <td>117.0</td>\n",
       "      <td>120.0</td>\n",
       "      <td>102.0</td>\n",
       "      <td>101.0</td>\n",
       "      <td>109.0</td>\n",
       "      <td>127.0</td>\n",
       "      <td>129.0</td>\n",
       "    </tr>\n",
       "    <tr>\n",
       "      <th>272</th>\n",
       "      <td>52.0</td>\n",
       "      <td>48.0</td>\n",
       "      <td>36.0</td>\n",
       "      <td>51.0</td>\n",
       "      <td>45.0</td>\n",
       "      <td>47.0</td>\n",
       "      <td>50.0</td>\n",
       "      <td>48.0</td>\n",
       "      <td>53.0</td>\n",
       "      <td>56.0</td>\n",
       "      <td>40.0</td>\n",
       "      <td>37.0</td>\n",
       "    </tr>\n",
       "  </tbody>\n",
       "</table>\n",
       "<p>272 rows × 12 columns</p>\n",
       "</div>"
      ],
      "text/plain": [
       "DATE       201807  201808  201809  201810  201811  201812  201901  201902  \\\n",
       "STORE_NBR                                                                   \n",
       "1            52.0    43.0    62.0    45.0    47.0    47.0    36.0    55.0   \n",
       "2            41.0    43.0    37.0    43.0    40.0    38.0    45.0    32.0   \n",
       "3           138.0   134.0   119.0   119.0   118.0   129.0   121.0   139.0   \n",
       "4           160.0   151.0   138.0   155.0   139.0   133.0   168.0   102.0   \n",
       "5           120.0   112.0   125.0   107.0   111.0   125.0   118.0   106.0   \n",
       "...           ...     ...     ...     ...     ...     ...     ...     ...   \n",
       "268          52.0    54.0    34.0    48.0    51.0    43.0    38.0    37.0   \n",
       "269         139.0   132.0   124.0   148.0   136.0   133.0   144.0   133.0   \n",
       "270         139.0   154.0   126.0   119.0   133.0   149.0   155.0   125.0   \n",
       "271         129.0   101.0   114.0   114.0   122.0   117.0   120.0   102.0   \n",
       "272          52.0    48.0    36.0    51.0    45.0    47.0    50.0    48.0   \n",
       "\n",
       "DATE       201903  201904  201905  201906  \n",
       "STORE_NBR                                  \n",
       "1            49.0    43.0    51.0    43.0  \n",
       "2            46.0    49.0    50.0    42.0  \n",
       "3           130.0   110.0   123.0   122.0  \n",
       "4           135.0   137.0   126.0   134.0  \n",
       "5            97.0   109.0   104.0   127.0  \n",
       "...           ...     ...     ...     ...  \n",
       "268          47.0    50.0    52.0    40.0  \n",
       "269         122.0   139.0   130.0   127.0  \n",
       "270         143.0   132.0   128.0   127.0  \n",
       "271         101.0   109.0   127.0   129.0  \n",
       "272          53.0    56.0    40.0    37.0  \n",
       "\n",
       "[272 rows x 12 columns]"
      ]
     },
     "execution_count": 13,
     "metadata": {},
     "output_type": "execute_result"
    }
   ],
   "source": [
    "#getting the information to check which store had no transcation of chips over the the given time period by creating a pivot table\n",
    "\n",
    "a = pd.pivot_table(data, index='STORE_NBR', columns='DATE', values = 'TXN_ID', aggfunc='count')\n",
    "a"
   ]
  },
  {
   "cell_type": "code",
   "execution_count": 14,
   "id": "unexpected-pattern",
   "metadata": {},
   "outputs": [
    {
     "data": {
      "text/plain": [
       "<AxesSubplot:>"
      ]
     },
     "execution_count": 14,
     "metadata": {},
     "output_type": "execute_result"
    },
    {
     "data": {
      "image/png": "[encoded data removed]",
      "text/plain": [
       "<Figure size 1800x720 with 2 Axes>"
      ]
     },
     "metadata": {
      "needs_background": "light"
     },
     "output_type": "display_data"
    }
   ],
   "source": [
    "missingno.matrix(a)"
   ]
  },
  {
   "cell_type": "code",
   "execution_count": 16,
   "id": "loving-rebound",
   "metadata": {},
   "outputs": [
    {
     "data": {
      "text/plain": [
       "DATE\n",
       "201807    6\n",
       "201808    9\n",
       "201809    8\n",
       "201810    7\n",
       "201811    8\n",
       "201812    9\n",
       "201901    9\n",
       "201902    8\n",
       "201903    7\n",
       "201904    7\n",
       "201905    9\n",
       "201906    8\n",
       "dtype: int64"
      ]
     },
     "execution_count": 16,
     "metadata": {},
     "output_type": "execute_result"
    }
   ],
   "source": [
    "#checking out for the null values\n",
    "a.isnull().sum()"
   ]
  },
  {
   "cell_type": "code",
   "execution_count": 17,
   "id": "temporal-upset",
   "metadata": {},
   "outputs": [
    {
     "data": {
      "text/plain": [
       "[11, 31, 44, 76, 85, 92, 117, 193, 206, 211, 218, 252]"
      ]
     },
     "execution_count": 17,
     "metadata": {},
     "output_type": "execute_result"
    }
   ],
   "source": [
    "null_store = a[a.isnull().any(axis=1)].index.tolist()\n",
    "null_store"
   ]
  },
  {
   "cell_type": "code",
   "execution_count": 18,
   "id": "arbitrary-symphony",
   "metadata": {},
   "outputs": [
    {
     "data": {
      "text/plain": [
       "12"
      ]
     },
     "execution_count": 18,
     "metadata": {},
     "output_type": "execute_result"
    }
   ],
   "source": [
    "len(null_store)"
   ]
  },
  {
   "cell_type": "code",
   "execution_count": 19,
   "id": "caroline-index",
   "metadata": {},
   "outputs": [
    {
     "data": {
      "text/html": [
       "<div>\n",
       "<style scoped>\n",
       "    .dataframe tbody tr th:only-of-type {\n",
       "        vertical-align: middle;\n",
       "    }\n",
       "\n",
       "    .dataframe tbody tr th {\n",
       "        vertical-align: top;\n",
       "    }\n",
       "\n",
       "    .dataframe thead th {\n",
       "        text-align: right;\n",
       "    }\n",
       "</style>\n",
       "<table border=\"1\" class=\"dataframe\">\n",
       "  <thead>\n",
       "    <tr style=\"text-align: right;\">\n",
       "      <th></th>\n",
       "      <th></th>\n",
       "      <th>totalSales</th>\n",
       "      <th>numOfCustomer</th>\n",
       "      <th>TransPerCustomer</th>\n",
       "      <th>chipPerTnx</th>\n",
       "      <th>AvgPerUnit</th>\n",
       "    </tr>\n",
       "    <tr>\n",
       "      <th>STORE_NBR</th>\n",
       "      <th>DATE</th>\n",
       "      <th></th>\n",
       "      <th></th>\n",
       "      <th></th>\n",
       "      <th></th>\n",
       "      <th></th>\n",
       "    </tr>\n",
       "  </thead>\n",
       "  <tbody>\n",
       "    <tr>\n",
       "      <th rowspan=\"5\" valign=\"top\">1</th>\n",
       "      <th>201807</th>\n",
       "      <td>206.9</td>\n",
       "      <td>49</td>\n",
       "      <td>1.061224</td>\n",
       "      <td>1.192308</td>\n",
       "      <td>3.337097</td>\n",
       "    </tr>\n",
       "    <tr>\n",
       "      <th>201808</th>\n",
       "      <td>176.1</td>\n",
       "      <td>42</td>\n",
       "      <td>1.023810</td>\n",
       "      <td>1.255814</td>\n",
       "      <td>3.261111</td>\n",
       "    </tr>\n",
       "    <tr>\n",
       "      <th>201809</th>\n",
       "      <td>278.8</td>\n",
       "      <td>59</td>\n",
       "      <td>1.050847</td>\n",
       "      <td>1.209677</td>\n",
       "      <td>3.717333</td>\n",
       "    </tr>\n",
       "    <tr>\n",
       "      <th>201810</th>\n",
       "      <td>188.1</td>\n",
       "      <td>44</td>\n",
       "      <td>1.022727</td>\n",
       "      <td>1.288889</td>\n",
       "      <td>3.243103</td>\n",
       "    </tr>\n",
       "    <tr>\n",
       "      <th>201811</th>\n",
       "      <td>192.6</td>\n",
       "      <td>46</td>\n",
       "      <td>1.021739</td>\n",
       "      <td>1.212766</td>\n",
       "      <td>3.378947</td>\n",
       "    </tr>\n",
       "  </tbody>\n",
       "</table>\n",
       "</div>"
      ],
      "text/plain": [
       "                  totalSales  numOfCustomer  TransPerCustomer  chipPerTnx  \\\n",
       "STORE_NBR DATE                                                              \n",
       "1         201807       206.9             49          1.061224    1.192308   \n",
       "          201808       176.1             42          1.023810    1.255814   \n",
       "          201809       278.8             59          1.050847    1.209677   \n",
       "          201810       188.1             44          1.022727    1.288889   \n",
       "          201811       192.6             46          1.021739    1.212766   \n",
       "\n",
       "                  AvgPerUnit  \n",
       "STORE_NBR DATE                \n",
       "1         201807    3.337097  \n",
       "          201808    3.261111  \n",
       "          201809    3.717333  \n",
       "          201810    3.243103  \n",
       "          201811    3.378947  "
      ]
     },
     "execution_count": 19,
     "metadata": {},
     "output_type": "execute_result"
    }
   ],
   "source": [
    "#lets drop the null values \n",
    "measureOverTime.head()"
   ]
  },
  {
   "cell_type": "code",
   "execution_count": 20,
   "id": "virgin-marriage",
   "metadata": {},
   "outputs": [],
   "source": [
    "measureOverTime.reset_index(inplace=True)"
   ]
  },
  {
   "cell_type": "code",
   "execution_count": 21,
   "id": "selective-macedonia",
   "metadata": {},
   "outputs": [
    {
     "data": {
      "text/html": [
       "<div>\n",
       "<style scoped>\n",
       "    .dataframe tbody tr th:only-of-type {\n",
       "        vertical-align: middle;\n",
       "    }\n",
       "\n",
       "    .dataframe tbody tr th {\n",
       "        vertical-align: top;\n",
       "    }\n",
       "\n",
       "    .dataframe thead th {\n",
       "        text-align: right;\n",
       "    }\n",
       "</style>\n",
       "<table border=\"1\" class=\"dataframe\">\n",
       "  <thead>\n",
       "    <tr style=\"text-align: right;\">\n",
       "      <th></th>\n",
       "      <th>STORE_NBR</th>\n",
       "      <th>DATE</th>\n",
       "      <th>totalSales</th>\n",
       "      <th>numOfCustomer</th>\n",
       "      <th>TransPerCustomer</th>\n",
       "      <th>chipPerTnx</th>\n",
       "      <th>AvgPerUnit</th>\n",
       "    </tr>\n",
       "  </thead>\n",
       "  <tbody>\n",
       "    <tr>\n",
       "      <th>0</th>\n",
       "      <td>1</td>\n",
       "      <td>201807</td>\n",
       "      <td>206.9</td>\n",
       "      <td>49</td>\n",
       "      <td>1.061224</td>\n",
       "      <td>1.192308</td>\n",
       "      <td>3.337097</td>\n",
       "    </tr>\n",
       "    <tr>\n",
       "      <th>1</th>\n",
       "      <td>1</td>\n",
       "      <td>201808</td>\n",
       "      <td>176.1</td>\n",
       "      <td>42</td>\n",
       "      <td>1.023810</td>\n",
       "      <td>1.255814</td>\n",
       "      <td>3.261111</td>\n",
       "    </tr>\n",
       "    <tr>\n",
       "      <th>2</th>\n",
       "      <td>1</td>\n",
       "      <td>201809</td>\n",
       "      <td>278.8</td>\n",
       "      <td>59</td>\n",
       "      <td>1.050847</td>\n",
       "      <td>1.209677</td>\n",
       "      <td>3.717333</td>\n",
       "    </tr>\n",
       "    <tr>\n",
       "      <th>3</th>\n",
       "      <td>1</td>\n",
       "      <td>201810</td>\n",
       "      <td>188.1</td>\n",
       "      <td>44</td>\n",
       "      <td>1.022727</td>\n",
       "      <td>1.288889</td>\n",
       "      <td>3.243103</td>\n",
       "    </tr>\n",
       "    <tr>\n",
       "      <th>4</th>\n",
       "      <td>1</td>\n",
       "      <td>201811</td>\n",
       "      <td>192.6</td>\n",
       "      <td>46</td>\n",
       "      <td>1.021739</td>\n",
       "      <td>1.212766</td>\n",
       "      <td>3.378947</td>\n",
       "    </tr>\n",
       "  </tbody>\n",
       "</table>\n",
       "</div>"
      ],
      "text/plain": [
       "   STORE_NBR    DATE  totalSales  numOfCustomer  TransPerCustomer  chipPerTnx  \\\n",
       "0          1  201807       206.9             49          1.061224    1.192308   \n",
       "1          1  201808       176.1             42          1.023810    1.255814   \n",
       "2          1  201809       278.8             59          1.050847    1.209677   \n",
       "3          1  201810       188.1             44          1.022727    1.288889   \n",
       "4          1  201811       192.6             46          1.021739    1.212766   \n",
       "\n",
       "   AvgPerUnit  \n",
       "0    3.337097  \n",
       "1    3.261111  \n",
       "2    3.717333  \n",
       "3    3.243103  \n",
       "4    3.378947  "
      ]
     },
     "execution_count": 21,
     "metadata": {},
     "output_type": "execute_result"
    }
   ],
   "source": [
    "measureOverTime.head()"
   ]
  },
  {
   "cell_type": "code",
   "execution_count": 23,
   "id": "forty-positive",
   "metadata": {},
   "outputs": [],
   "source": [
    "measureOverTime = measureOverTime[~measureOverTime['STORE_NBR'].isin(null_store)]"
   ]
  },
  {
   "cell_type": "code",
   "execution_count": 24,
   "id": "unusual-spotlight",
   "metadata": {},
   "outputs": [
    {
     "data": {
      "text/html": [
       "<div>\n",
       "<style scoped>\n",
       "    .dataframe tbody tr th:only-of-type {\n",
       "        vertical-align: middle;\n",
       "    }\n",
       "\n",
       "    .dataframe tbody tr th {\n",
       "        vertical-align: top;\n",
       "    }\n",
       "\n",
       "    .dataframe thead th {\n",
       "        text-align: right;\n",
       "    }\n",
       "</style>\n",
       "<table border=\"1\" class=\"dataframe\">\n",
       "  <thead>\n",
       "    <tr style=\"text-align: right;\">\n",
       "      <th></th>\n",
       "      <th>STORE_NBR</th>\n",
       "      <th>DATE</th>\n",
       "      <th>totalSales</th>\n",
       "      <th>numOfCustomer</th>\n",
       "      <th>TransPerCustomer</th>\n",
       "      <th>chipPerTnx</th>\n",
       "      <th>AvgPerUnit</th>\n",
       "    </tr>\n",
       "  </thead>\n",
       "  <tbody>\n",
       "    <tr>\n",
       "      <th>0</th>\n",
       "      <td>1</td>\n",
       "      <td>201807</td>\n",
       "      <td>206.9</td>\n",
       "      <td>49</td>\n",
       "      <td>1.061224</td>\n",
       "      <td>1.192308</td>\n",
       "      <td>3.337097</td>\n",
       "    </tr>\n",
       "    <tr>\n",
       "      <th>1</th>\n",
       "      <td>1</td>\n",
       "      <td>201808</td>\n",
       "      <td>176.1</td>\n",
       "      <td>42</td>\n",
       "      <td>1.023810</td>\n",
       "      <td>1.255814</td>\n",
       "      <td>3.261111</td>\n",
       "    </tr>\n",
       "    <tr>\n",
       "      <th>2</th>\n",
       "      <td>1</td>\n",
       "      <td>201809</td>\n",
       "      <td>278.8</td>\n",
       "      <td>59</td>\n",
       "      <td>1.050847</td>\n",
       "      <td>1.209677</td>\n",
       "      <td>3.717333</td>\n",
       "    </tr>\n",
       "    <tr>\n",
       "      <th>3</th>\n",
       "      <td>1</td>\n",
       "      <td>201810</td>\n",
       "      <td>188.1</td>\n",
       "      <td>44</td>\n",
       "      <td>1.022727</td>\n",
       "      <td>1.288889</td>\n",
       "      <td>3.243103</td>\n",
       "    </tr>\n",
       "    <tr>\n",
       "      <th>4</th>\n",
       "      <td>1</td>\n",
       "      <td>201811</td>\n",
       "      <td>192.6</td>\n",
       "      <td>46</td>\n",
       "      <td>1.021739</td>\n",
       "      <td>1.212766</td>\n",
       "      <td>3.378947</td>\n",
       "    </tr>\n",
       "    <tr>\n",
       "      <th>...</th>\n",
       "      <td>...</td>\n",
       "      <td>...</td>\n",
       "      <td>...</td>\n",
       "      <td>...</td>\n",
       "      <td>...</td>\n",
       "      <td>...</td>\n",
       "      <td>...</td>\n",
       "    </tr>\n",
       "    <tr>\n",
       "      <th>3164</th>\n",
       "      <td>272</td>\n",
       "      <td>201902</td>\n",
       "      <td>395.5</td>\n",
       "      <td>45</td>\n",
       "      <td>1.066667</td>\n",
       "      <td>1.895833</td>\n",
       "      <td>4.346154</td>\n",
       "    </tr>\n",
       "    <tr>\n",
       "      <th>3165</th>\n",
       "      <td>272</td>\n",
       "      <td>201903</td>\n",
       "      <td>442.3</td>\n",
       "      <td>50</td>\n",
       "      <td>1.060000</td>\n",
       "      <td>1.905660</td>\n",
       "      <td>4.379208</td>\n",
       "    </tr>\n",
       "    <tr>\n",
       "      <th>3166</th>\n",
       "      <td>272</td>\n",
       "      <td>201904</td>\n",
       "      <td>445.1</td>\n",
       "      <td>54</td>\n",
       "      <td>1.018519</td>\n",
       "      <td>1.909091</td>\n",
       "      <td>4.239048</td>\n",
       "    </tr>\n",
       "    <tr>\n",
       "      <th>3167</th>\n",
       "      <td>272</td>\n",
       "      <td>201905</td>\n",
       "      <td>314.6</td>\n",
       "      <td>34</td>\n",
       "      <td>1.176471</td>\n",
       "      <td>1.775000</td>\n",
       "      <td>4.430986</td>\n",
       "    </tr>\n",
       "    <tr>\n",
       "      <th>3168</th>\n",
       "      <td>272</td>\n",
       "      <td>201906</td>\n",
       "      <td>312.1</td>\n",
       "      <td>34</td>\n",
       "      <td>1.088235</td>\n",
       "      <td>1.891892</td>\n",
       "      <td>4.458571</td>\n",
       "    </tr>\n",
       "  </tbody>\n",
       "</table>\n",
       "<p>3120 rows × 7 columns</p>\n",
       "</div>"
      ],
      "text/plain": [
       "      STORE_NBR    DATE  totalSales  numOfCustomer  TransPerCustomer  \\\n",
       "0             1  201807       206.9             49          1.061224   \n",
       "1             1  201808       176.1             42          1.023810   \n",
       "2             1  201809       278.8             59          1.050847   \n",
       "3             1  201810       188.1             44          1.022727   \n",
       "4             1  201811       192.6             46          1.021739   \n",
       "...         ...     ...         ...            ...               ...   \n",
       "3164        272  201902       395.5             45          1.066667   \n",
       "3165        272  201903       442.3             50          1.060000   \n",
       "3166        272  201904       445.1             54          1.018519   \n",
       "3167        272  201905       314.6             34          1.176471   \n",
       "3168        272  201906       312.1             34          1.088235   \n",
       "\n",
       "      chipPerTnx  AvgPerUnit  \n",
       "0       1.192308    3.337097  \n",
       "1       1.255814    3.261111  \n",
       "2       1.209677    3.717333  \n",
       "3       1.288889    3.243103  \n",
       "4       1.212766    3.378947  \n",
       "...          ...         ...  \n",
       "3164    1.895833    4.346154  \n",
       "3165    1.905660    4.379208  \n",
       "3166    1.909091    4.239048  \n",
       "3167    1.775000    4.430986  \n",
       "3168    1.891892    4.458571  \n",
       "\n",
       "[3120 rows x 7 columns]"
      ]
     },
     "execution_count": 24,
     "metadata": {},
     "output_type": "execute_result"
    }
   ],
   "source": [
    "measureOverTime"
   ]
  },
  {
   "cell_type": "code",
   "execution_count": 27,
   "id": "imperial-status",
   "metadata": {},
   "outputs": [
    {
     "data": {
      "text/html": [
       "<div>\n",
       "<style scoped>\n",
       "    .dataframe tbody tr th:only-of-type {\n",
       "        vertical-align: middle;\n",
       "    }\n",
       "\n",
       "    .dataframe tbody tr th {\n",
       "        vertical-align: top;\n",
       "    }\n",
       "\n",
       "    .dataframe thead th {\n",
       "        text-align: right;\n",
       "    }\n",
       "</style>\n",
       "<table border=\"1\" class=\"dataframe\">\n",
       "  <thead>\n",
       "    <tr style=\"text-align: right;\">\n",
       "      <th></th>\n",
       "      <th>STORE_NBR</th>\n",
       "      <th>DATE</th>\n",
       "      <th>totalSales</th>\n",
       "      <th>numOfCustomer</th>\n",
       "      <th>TransPerCustomer</th>\n",
       "      <th>chipPerTnx</th>\n",
       "      <th>AvgPerUnit</th>\n",
       "    </tr>\n",
       "  </thead>\n",
       "  <tbody>\n",
       "    <tr>\n",
       "      <th>0</th>\n",
       "      <td>1</td>\n",
       "      <td>201807</td>\n",
       "      <td>206.9</td>\n",
       "      <td>49</td>\n",
       "      <td>1.061224</td>\n",
       "      <td>1.192308</td>\n",
       "      <td>3.337097</td>\n",
       "    </tr>\n",
       "    <tr>\n",
       "      <th>1</th>\n",
       "      <td>1</td>\n",
       "      <td>201808</td>\n",
       "      <td>176.1</td>\n",
       "      <td>42</td>\n",
       "      <td>1.023810</td>\n",
       "      <td>1.255814</td>\n",
       "      <td>3.261111</td>\n",
       "    </tr>\n",
       "    <tr>\n",
       "      <th>2</th>\n",
       "      <td>1</td>\n",
       "      <td>201809</td>\n",
       "      <td>278.8</td>\n",
       "      <td>59</td>\n",
       "      <td>1.050847</td>\n",
       "      <td>1.209677</td>\n",
       "      <td>3.717333</td>\n",
       "    </tr>\n",
       "    <tr>\n",
       "      <th>3</th>\n",
       "      <td>1</td>\n",
       "      <td>201810</td>\n",
       "      <td>188.1</td>\n",
       "      <td>44</td>\n",
       "      <td>1.022727</td>\n",
       "      <td>1.288889</td>\n",
       "      <td>3.243103</td>\n",
       "    </tr>\n",
       "    <tr>\n",
       "      <th>4</th>\n",
       "      <td>1</td>\n",
       "      <td>201811</td>\n",
       "      <td>192.6</td>\n",
       "      <td>46</td>\n",
       "      <td>1.021739</td>\n",
       "      <td>1.212766</td>\n",
       "      <td>3.378947</td>\n",
       "    </tr>\n",
       "    <tr>\n",
       "      <th>...</th>\n",
       "      <td>...</td>\n",
       "      <td>...</td>\n",
       "      <td>...</td>\n",
       "      <td>...</td>\n",
       "      <td>...</td>\n",
       "      <td>...</td>\n",
       "      <td>...</td>\n",
       "    </tr>\n",
       "    <tr>\n",
       "      <th>3159</th>\n",
       "      <td>272</td>\n",
       "      <td>201809</td>\n",
       "      <td>304.7</td>\n",
       "      <td>32</td>\n",
       "      <td>1.125000</td>\n",
       "      <td>1.972222</td>\n",
       "      <td>4.291549</td>\n",
       "    </tr>\n",
       "    <tr>\n",
       "      <th>3160</th>\n",
       "      <td>272</td>\n",
       "      <td>201810</td>\n",
       "      <td>430.6</td>\n",
       "      <td>44</td>\n",
       "      <td>1.136364</td>\n",
       "      <td>1.980000</td>\n",
       "      <td>4.349495</td>\n",
       "    </tr>\n",
       "    <tr>\n",
       "      <th>3161</th>\n",
       "      <td>272</td>\n",
       "      <td>201811</td>\n",
       "      <td>376.2</td>\n",
       "      <td>41</td>\n",
       "      <td>1.097561</td>\n",
       "      <td>1.933333</td>\n",
       "      <td>4.324138</td>\n",
       "    </tr>\n",
       "    <tr>\n",
       "      <th>3162</th>\n",
       "      <td>272</td>\n",
       "      <td>201812</td>\n",
       "      <td>403.9</td>\n",
       "      <td>47</td>\n",
       "      <td>1.000000</td>\n",
       "      <td>1.893617</td>\n",
       "      <td>4.538202</td>\n",
       "    </tr>\n",
       "    <tr>\n",
       "      <th>3163</th>\n",
       "      <td>272</td>\n",
       "      <td>201901</td>\n",
       "      <td>423.0</td>\n",
       "      <td>46</td>\n",
       "      <td>1.086957</td>\n",
       "      <td>1.920000</td>\n",
       "      <td>4.406250</td>\n",
       "    </tr>\n",
       "  </tbody>\n",
       "</table>\n",
       "<p>1820 rows × 7 columns</p>\n",
       "</div>"
      ],
      "text/plain": [
       "      STORE_NBR    DATE  totalSales  numOfCustomer  TransPerCustomer  \\\n",
       "0             1  201807       206.9             49          1.061224   \n",
       "1             1  201808       176.1             42          1.023810   \n",
       "2             1  201809       278.8             59          1.050847   \n",
       "3             1  201810       188.1             44          1.022727   \n",
       "4             1  201811       192.6             46          1.021739   \n",
       "...         ...     ...         ...            ...               ...   \n",
       "3159        272  201809       304.7             32          1.125000   \n",
       "3160        272  201810       430.6             44          1.136364   \n",
       "3161        272  201811       376.2             41          1.097561   \n",
       "3162        272  201812       403.9             47          1.000000   \n",
       "3163        272  201901       423.0             46          1.086957   \n",
       "\n",
       "      chipPerTnx  AvgPerUnit  \n",
       "0       1.192308    3.337097  \n",
       "1       1.255814    3.261111  \n",
       "2       1.209677    3.717333  \n",
       "3       1.288889    3.243103  \n",
       "4       1.212766    3.378947  \n",
       "...          ...         ...  \n",
       "3159    1.972222    4.291549  \n",
       "3160    1.980000    4.349495  \n",
       "3161    1.933333    4.324138  \n",
       "3162    1.893617    4.538202  \n",
       "3163    1.920000    4.406250  \n",
       "\n",
       "[1820 rows x 7 columns]"
      ]
     },
     "execution_count": 27,
     "metadata": {},
     "output_type": "execute_result"
    }
   ],
   "source": [
    "#create DataFrame 'PreTrailPeriod'\n",
    "PreTrailPeriod = measureOverTime.loc[measureOverTime['DATE'] < 201902,:]\n",
    "\n",
    "PreTrailPeriod"
   ]
  },
  {
   "cell_type": "code",
   "execution_count": null,
   "id": "intermediate-heading",
   "metadata": {},
   "outputs": [],
   "source": []
  },
  {
   "cell_type": "code",
   "execution_count": null,
   "id": "applied-revolution",
   "metadata": {},
   "outputs": [],
   "source": []
  },
  {
   "cell_type": "code",
   "execution_count": null,
   "id": "packed-fifth",
   "metadata": {},
   "outputs": [],
   "source": []
  },
  {
   "cell_type": "code",
   "execution_count": null,
   "id": "narrative-terrain",
   "metadata": {},
   "outputs": [],
   "source": []
  },
  {
   "cell_type": "code",
   "execution_count": null,
   "id": "prime-schedule",
   "metadata": {},
   "outputs": [],
   "source": []
  },
  {
   "cell_type": "code",
   "execution_count": null,
   "id": "accepted-scholar",
   "metadata": {},
   "outputs": [],
   "source": []
  },
  {
   "cell_type": "code",
   "execution_count": null,
   "id": "funny-dominant",
   "metadata": {},
   "outputs": [],
   "source": []
  }
 ],
 "metadata": {
  "kernelspec": {
   "display_name": "Python 3",
   "language": "python",
   "name": "python3"
  },
  "language_info": {
   "codemirror_mode": {
    "name": "ipython",
    "version": 3
   },
   "file_extension": ".py",
   "mimetype": "text/x-python",
   "name": "python",
   "nbconvert_exporter": "python",
   "pygments_lexer": "ipython3",
   "version": "3.9.1"
  }
 },
 "nbformat": 4,
 "nbformat_minor": 5
}
